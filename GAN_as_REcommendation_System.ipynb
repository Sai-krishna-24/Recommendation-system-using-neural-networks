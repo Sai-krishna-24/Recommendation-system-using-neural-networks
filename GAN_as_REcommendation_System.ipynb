{
  "cells": [
    {
      "cell_type": "code",
      "execution_count": null,
      "metadata": {
        "colab": {
          "base_uri": "https://localhost:8080/"
        },
        "id": "U4gniTf1nRed",
        "outputId": "88521330-c401-4e68-9419-0a930b9da3bb"
      },
      "outputs": [
        {
          "name": "stdout",
          "output_type": "stream",
          "text": [
            "Looking in indexes: https://pypi.org/simple, https://us-python.pkg.dev/colab-wheels/public/simple/\n",
            "Requirement already satisfied: scikit--optimize in /usr/local/lib/python3.10/dist-packages (0.9.0)\n",
            "Requirement already satisfied: numpy>=1.13.3 in /usr/local/lib/python3.10/dist-packages (from scikit--optimize) (1.22.4)\n",
            "Requirement already satisfied: scikit-learn>=0.20.0 in /usr/local/lib/python3.10/dist-packages (from scikit--optimize) (1.2.2)\n",
            "Requirement already satisfied: scipy>=0.19.1 in /usr/local/lib/python3.10/dist-packages (from scikit--optimize) (1.10.1)\n",
            "Requirement already satisfied: pyaml>=16.9 in /usr/local/lib/python3.10/dist-packages (from scikit--optimize) (21.10.1)\n",
            "Requirement already satisfied: joblib>=0.11 in /usr/local/lib/python3.10/dist-packages (from scikit--optimize) (1.2.0)\n",
            "Requirement already satisfied: PyYAML in /usr/local/lib/python3.10/dist-packages (from pyaml>=16.9->scikit--optimize) (6.0)\n",
            "Requirement already satisfied: threadpoolctl>=2.0.0 in /usr/local/lib/python3.10/dist-packages (from scikit-learn>=0.20.0->scikit--optimize) (3.1.0)\n"
          ]
        }
      ],
      "source": [
        "!pip install scikit--optimize"
      ]
    },
    {
      "cell_type": "code",
      "execution_count": null,
      "metadata": {
        "colab": {
          "base_uri": "https://localhost:8080/"
        },
        "id": "8UdVmwzinz-P",
        "outputId": "ca8fe127-47b9-462f-960b-f58981370675"
      },
      "outputs": [
        {
          "metadata": {
            "tags": null
          },
          "name": "stdout",
          "output_type": "stream",
          "text": [
            "--2023-05-03 17:03:25--  https://files.grouplens.org/datasets/movielens/ml-1m.zip\n",
            "Resolving files.grouplens.org (files.grouplens.org)... 128.101.65.152\n",
            "Connecting to files.grouplens.org (files.grouplens.org)|128.101.65.152|:443... connected.\n",
            "HTTP request sent, awaiting response... 200 OK\n",
            "Length: 5917549 (5.6M) [application/zip]\n",
            "Saving to: ‘data/ml-1m.zip’\n",
            "\n",
            "ml-1m.zip           100%[===================>]   5.64M  18.0MB/s    in 0.3s    \n",
            "\n",
            "2023-05-03 17:03:26 (18.0 MB/s) - ‘data/ml-1m.zip’ saved [5917549/5917549]\n",
            "\n",
            "Archive:  ml-1m.zip\n",
            "replace ml-1m/movies.dat? [y]es, [n]o, [A]ll, [N]one, [r]ename: "
          ]
        }
      ],
      "source": [
        "!mkdir -p data/\n",
        "!wget https://files.grouplens.org/datasets/movielens/ml-1m.zip -P data/\n",
        "!cd data/ ; unzip ml-1m.zip ; rm ml-1m.zip ; cd .."
      ]
    },
    {
      "cell_type": "code",
      "execution_count": null,
      "metadata": {
        "id": "EKBvR8xsidna"
      },
      "outputs": [],
      "source": [
        "import numpy as np\n",
        "from scipy.sparse import csr_matrix\n",
        "import jax.numpy as jnp\n",
        "import numpy as np\n",
        "def remap_items(data):\n",
        "    item_map = {}\n",
        "    for user_data in data:\n",
        "        for item, rating, time in user_data:\n",
        "            if item not in item_map: item_map[item] = len(item_map) + 1\n",
        "\n",
        "    for u in range(len(data)):\n",
        "        data[u] = list(map(lambda x: [ item_map[x[0]], x[1], x[2] ], data[u]))\n",
        "\n",
        "    return data"
      ]
    },
    {
      "cell_type": "code",
      "execution_count": null,
      "metadata": {
        "id": "Hf0L8urgnprB"
      },
      "outputs": [],
      "source": [
        "import os\n",
        "import sys\n",
        "import json\n",
        "import time\n",
        "import psutil\n",
        "import pickle\n",
        "import shutil\n",
        "import random\n",
        "import platform\n",
        "import datetime\n",
        "import warnings\n",
        "import subprocess\n",
        "import numpy as np\n",
        "import tensorflow as tf\n",
        "import scipy.sparse as sps\n",
        "import multiprocessing as mp\n",
        "\n",
        "warnings.filterwarnings('ignore', category=UserWarning)\n",
        "warnings.filterwarnings('ignore', category=FutureWarning)\n",
        "#tf.logging.set_verbosity(tf.logging.ERROR)\n",
        "\n",
        "# Supress Tensorflow logs\n",
        "os.environ['KMP_WARNINGS'] = '0'\n",
        "os.environ['TF_CPP_MIN_LOG_LEVEL'] = '3'\n",
        "\n",
        "import skopt\n",
        "from skopt.callbacks import CheckpointSaver\n",
        "from skopt import gp_minimize, dummy_minimize\n",
        "from skopt.space.space import Real, Integer, Categorical"
      ]
    },
    {
      "cell_type": "code",
      "execution_count": null,
      "metadata": {
        "id": "lT2aoUVq3p6E"
      },
      "outputs": [],
      "source": [
        "#creating data with user mapping its items and ratings\n",
        "import numpy as np\n",
        "from scipy.sparse import csr_matrix\n",
        "import jax.numpy as jnp\n",
        "import numpy as np\n",
        "f=open('/content/data/ml-1m/ratings.dat','r')\n",
        "users,items,ratings=[],[],[]\n",
        "rec=f.readline()\n",
        "while rec:\n",
        "  user,item,rating,timestamp=rec.strip().split('::')\n",
        "  users.append(int(user))\n",
        "  items.append(int(item))\n",
        "  ratings.append(1)\n",
        "  rec=f.readline()\n",
        "min_user=min(users)\n",
        "data=[[]for _ in range(len(users))]\n",
        "for i in range(len(users)):\n",
        "  data[users[i]-min_user].append([items[i],ratings[i]])\n",
        "#creating index array\n",
        "index = [] \n",
        "for user_data in data:\n",
        "    for _ in range(len(user_data)): \n",
        "      index.append(42)\n",
        "#creating indexs for train test validation split\n",
        "i = 0\n",
        "l=len(data)\n",
        "for user in range(l):\n",
        "    first_split_point = int(0.8 * len(data[user]))\n",
        "    second_split_point = int(0.9 * len(data[user]))\n",
        "\n",
        "    indices = np.arange(len(data[user]))\n",
        "    np.random.shuffle(indices)\n",
        "    for timestep, (item, rating) in enumerate(data[user]):\n",
        "        if len(data[user]) < 3: index[i] = -1\n",
        "        else:\n",
        "            if timestep == indices[0]: index[i] = 2\n",
        "            else:\n",
        "                if timestep in indices[:first_split_point]: index[i] = 0\n",
        "                elif timestep in indices[first_split_point:second_split_point]: index[i] = 1\n",
        "                else:index[i] = 2\n",
        "        i += 1\n",
        "\n",
        "assert i == len(index)\n",
        "complete_data_stats = None\n",
        "valid_users=set()\n",
        "valid_items=set()"
      ]
    },
    {
      "cell_type": "code",
      "execution_count": null,
      "metadata": {
        "colab": {
          "base_uri": "https://localhost:8080/"
        },
        "id": "g76IIzTj3-C_",
        "outputId": "73485315-932d-4cd4-cae3-3d02655b887c"
      },
      "outputs": [
        {
          "data": {
            "text/plain": [
              "array([[   0, 1193,    1],\n",
              "       [   0,  661,    1],\n",
              "       [   0,  914,    1],\n",
              "       ...,\n",
              "       [6039,  562,    1],\n",
              "       [6039, 1096,    1],\n",
              "       [6039, 1097,    1]])"
            ]
          },
          "execution_count": 22,
          "metadata": {},
          "output_type": "execute_result"
        }
      ],
      "source": [
        "#creating data of total user item rating in dictionary saving into as total data compressed file\n",
        "path='/content/data/ml-1m'\n",
        "\n",
        "flat_data = []\n",
        "for u in range(len(data)):\n",
        "    flat_data += list(map(lambda x: [ u ] + x,data[u]))\n",
        "flat_data = np.array(flat_data)\n",
        "shape = [ len(flat_data) ]\n",
        "os.makedirs(path, exist_ok = True)\n",
        "data=flat_data\n",
        "data"
      ]
    },
    {
      "cell_type": "code",
      "execution_count": null,
      "metadata": {
        "colab": {
          "base_uri": "https://localhost:8080/"
        },
        "id": "bB6wN3tP100J",
        "outputId": "f9527eda-73df-49a4-bd1c-e81b2e88e09b"
      },
      "outputs": [
        {
          "name": "stdout",
          "output_type": "stream",
          "text": [
            "[0 0 0 ... 0 0 0] [[   0 1193    1]\n",
            " [   0  661    1]\n",
            " [   0  914    1]\n",
            " ...\n",
            " [6039  562    1]\n",
            " [6039 1096    1]\n",
            " [6039 1097    1]]\n",
            "[0 0 0 ... 0 0 0] [[   0 1104    1]\n",
            " [   0  639    1]\n",
            " [   0  853    1]\n",
            " ...\n",
            " [6039  548    1]\n",
            " [6039 1024    1]\n",
            " [6039 1025    1]]\n",
            "# users: 6040\n",
            "# items: 3706\n",
            "# interactions: 791718\n"
          ]
        }
      ],
      "source": [
        "\n",
        "for i,(user,item,rating) in enumerate(data):\n",
        "  valid_users.add(user)\n",
        "  valid_items.add(item)\n",
        "user_map = dict(zip(list(valid_users), list(range(len(valid_users)))))\n",
        "item_map=dict(zip(list(valid_items),list(range(len(valid_items)))))\n",
        "new_data, new_index = [], []\n",
        "index = np.array(index, dtype = np.int32)\n",
        "print(index,data)\n",
        "for at, (u, i, r) in enumerate(data):\n",
        "  if index[at] == -1: continue\n",
        "  new_data.append([ user_map[u], item_map[i], r ])\n",
        "  new_index.append(index[at])\n",
        "data = np.array(new_data, dtype = np.int32)\n",
        "index = np.array(new_index, dtype = np.int32)\n",
        "print(index,data)\n",
        "def select(data, index, index_val):\n",
        "  final = data[np.where(index == index_val)[0]]\n",
        "  final[:, 2] = 1.0\n",
        "  return final.astype(np.int32)\n",
        "\n",
        "ret = {\n",
        "  'item_map': item_map,\n",
        "  'train':  select(data, index, 0),\n",
        "  'val': select(data, index, 1),\n",
        "  'test': select(data, index, 2)\n",
        "}\n",
        "\n",
        "num_users = int(max(data[:, 0]) + 1)\n",
        "num_items = len(item_map)\n",
        "\n",
        "\n",
        "ret.update({\n",
        "    'num_users': num_users,\n",
        "    'num_items': num_items,\n",
        "    'num_interactions': len(ret['train']),\n",
        "})\n",
        "\n",
        "print(\"# users:\", num_users)\n",
        "print(\"# items:\", num_items)\n",
        "print(\"# interactions:\", len(ret['train']))\n",
        "def make_user_history(arr):\n",
        "    ret = [ set() for _ in range(num_users) ]\n",
        "    for u, i, r in arr:\n",
        "        ret[int(u)].add(int(i))\n",
        "    return ret\n",
        "\n",
        "ret['train_positive_set'] = make_user_history(ret['train'])\n",
        "ret['val_positive_set'] = make_user_history(ret['val'])\n",
        "ret['test_positive_set'] = make_user_history(ret['test'])\n",
        "\n",
        "ret['train_matrix'] = csr_matrix(\n",
        "    ( np.ones(ret['train'].shape[0]), (ret['train'][:, 0].astype(np.int32), ret['train'][:, 1].astype(np.int32)) ),\n",
        "    shape = (num_users, num_items)\n",
        ")\n",
        "\n",
        "ret['val_matrix'] = csr_matrix(\n",
        "    ( np.ones(ret['val'].shape[0]), (ret['val'][:, 0].astype(np.int32), ret['val'][:, 1].astype(np.int32)) ),\n",
        "    shape = (num_users, num_items)\n",
        ")\n",
        "ret['test_matrix'] = csr_matrix(\n",
        "    ( np.ones(ret['test'].shape[0]), (ret['test'][:, 0].astype(np.int32), ret['test'][:, 1].astype(np.int32)) ),\n",
        "    shape = (num_users, num_items)\n",
        ")\n",
        "ret.update({\n",
        "    'num_users': num_users,\n",
        "    'num_items': num_items,\n",
        "    'num_interactions': len(ret['train']),\n",
        "})\n"
      ]
    },
    {
      "cell_type": "code",
      "execution_count": null,
      "metadata": {
        "id": "eLHFaHMQ4gz7"
      },
      "outputs": [],
      "source": [
        "URM_train=ret['train_matrix']\n",
        "URM_test=ret['test_matrix']\n",
        "URM_validation=ret['val_matrix']"
      ]
    },
    {
      "cell_type": "code",
      "execution_count": null,
      "metadata": {
        "colab": {
          "base_uri": "https://localhost:8080/"
        },
        "id": "hOvAgfyL2IyZ",
        "outputId": "8aad4e6a-1546-4ceb-f880-9d04462cb3e1"
      },
      "outputs": [
        {
          "data": {
            "text/plain": [
              "(6040, 3706)"
            ]
          },
          "execution_count": 9,
          "metadata": {},
          "output_type": "execute_result"
        }
      ],
      "source": [
        "URM_train.shape"
      ]
    },
    {
      "cell_type": "code",
      "execution_count": null,
      "metadata": {
        "colab": {
          "base_uri": "https://localhost:8080/"
        },
        "id": "wyH1yBUX0eEZ",
        "outputId": "9b346a38-ccaa-486b-c0a7-a10fe6c1bf68"
      },
      "outputs": [
        {
          "name": "stderr",
          "output_type": "stream",
          "text": [
            "WARNING:tensorflow:From /usr/local/lib/python3.10/dist-packages/tensorflow/python/compat/v2_compat.py:107: disable_resource_variables (from tensorflow.python.ops.variable_scope) is deprecated and will be removed in a future version.\n",
            "Instructions for updating:\n",
            "non-resource variables are not supported in the long term\n"
          ]
        }
      ],
      "source": [
        "import tensorflow.compat.v1 as tf\n",
        "tf.disable_v2_behavior()"
      ]
    },
    {
      "cell_type": "code",
      "execution_count": null,
      "metadata": {
        "id": "dH-jhkmtVFEy"
      },
      "outputs": [],
      "source": [
        "def average_precision(is_relevant, pos_items):\n",
        "\n",
        "    if len(is_relevant) == 0:\n",
        "        a_p = 0.0\n",
        "    else:\n",
        "        p_at_k = is_relevant * np.cumsum(is_relevant, dtype=np.float32) / (1 + np.arange(is_relevant.shape[0]))\n",
        "        a_p = np.sum(p_at_k) / np.min([pos_items.shape[0], is_relevant.shape[0]])\n",
        "\n",
        "    assert 0 <= a_p <= 1, a_p\n",
        "    return a_p\n",
        "class Metrics_Object(object):\n",
        "    def __init__(self):\n",
        "        pass\n",
        "\n",
        "    def add_recommendations(self, recommended_items_ids):\n",
        "        raise NotImplementedError()\n",
        "\n",
        "    def get_metric_value(self):\n",
        "        raise NotImplementedError()\n",
        "\n",
        "    def merge_with_other(self, other_metric_object):\n",
        "        raise NotImplementedError()\n",
        "class MAP(Metrics_Object):\n",
        "    def __init__(self):\n",
        "        super(MAP, self).__init__()\n",
        "        self.cumulative_AP = 0.0\n",
        "        self.n_users = 0\n",
        "\n",
        "    def add_recommendations(self, is_relevant, pos_items):\n",
        "        self.cumulative_AP += average_precision(is_relevant, pos_items)\n",
        "        self.n_users += 1\n",
        "\n",
        "    def get_metric_value(self):\n",
        "        return self.cumulative_AP/self.n_users\n",
        "\n",
        "    def merge_with_other(self, other_metric_object):\n",
        "        assert other_metric_object is MAP, \"MAP: attempting to merge with a metric object of different type\"\n",
        "\n",
        "        self.cumulative_AP += other_metric_object.cumulative_AP\n",
        "        self.n_users += other_metric_object.n_users\n",
        "def precision(is_relevant):\n",
        "\n",
        "    if len(is_relevant) == 0:\n",
        "        precision_score = 0.0\n",
        "    else:\n",
        "        precision_score = np.sum(is_relevant, dtype=np.float32) / len(is_relevant)\n",
        "\n",
        "    assert 0 <= precision_score <= 1, precision_score\n",
        "    return precision_score\n",
        "def rmse(all_items_predicted_ratings, relevant_items, relevant_items_rating):\n",
        "\n",
        "    # Important, some items will have -np.inf score and are treated as if they did not exist\n",
        "\n",
        "    # RMSE with test items\n",
        "    relevant_items_error = (all_items_predicted_ratings[relevant_items]-relevant_items_rating)**2\n",
        "\n",
        "    finite_prediction_mask = np.isfinite(relevant_items_error)\n",
        "\n",
        "    if finite_prediction_mask.sum() == 0:\n",
        "        rmse = np.nan\n",
        "\n",
        "    else:\n",
        "        relevant_items_error = relevant_items_error[finite_prediction_mask]\n",
        "\n",
        "        squared_error = np.sum(relevant_items_error)\n",
        "\n",
        "        mean_squared_error = squared_error/finite_prediction_mask.sum()\n",
        "        rmse = np.sqrt(mean_squared_error)\n",
        "\n",
        "    return rmse\n",
        "\n",
        "\n",
        "def recall(is_relevant, pos_items):\n",
        "\n",
        "    recall_score = np.sum(is_relevant, dtype=np.float32) / pos_items.shape[0]\n",
        "\n",
        "    assert 0 <= recall_score <= 1, recall_score\n",
        "    return recall_score\n",
        "def ndcg(ranked_list, pos_items, relevance=None, at=None):\n",
        "\n",
        "    if relevance is None:\n",
        "        relevance = np.ones_like(pos_items)\n",
        "    assert len(relevance) == pos_items.shape[0]\n",
        "\n",
        "    it2rel = {it: r for it, r in zip(pos_items, relevance)}\n",
        "\n",
        "    rank_scores = np.asarray([it2rel.get(it, 0.0) for it in ranked_list[:at]], dtype=np.float32)\n",
        "\n",
        "    ideal_dcg = dcg(np.sort(relevance)[::-1])\n",
        "\n",
        "    rank_dcg = dcg(rank_scores)\n",
        "\n",
        "    if rank_dcg == 0.0:\n",
        "        return 0.0\n",
        "\n",
        "    ndcg_ = rank_dcg / ideal_dcg\n",
        "    return ndcg_\n",
        "\n",
        "\n",
        "def dcg(scores):\n",
        "    return np.sum(np.divide(np.power(2, scores) - 1, np.log(np.arange(scores.shape[0], dtype=np.float32) + 2)),\n",
        "                  dtype=np.float32)\n",
        "\n"
      ]
    },
    {
      "cell_type": "code",
      "execution_count": null,
      "metadata": {
        "id": "9F_nOyTwGKqa"
      },
      "outputs": [],
      "source": [
        "import numpy as np\n",
        "import scipy.sparse as sps\n",
        "import time, sys, copy\n",
        "\n",
        "from enum import Enum\n",
        "class EvaluatorMetrics(Enum):\n",
        "\n",
        "    PRECISION = \"PRECISION\"\n",
        "    RECALL = \"RECALL\"\n",
        "    MAP = \"MAP\"\n",
        "    NDCG = \"NDCG\"\n",
        "    F1 = \"F1\"\n",
        "    HIT_RATE = \"HIT_RATE\"\n",
        "    RMSE = \"RMSE\"\n",
        "\n",
        "\n",
        "\n",
        "def create_empty_metrics_dict(n_items, n_users, URM_train, ignore_items, ignore_users, cutoff, diversity_similarity_object):\n",
        "\n",
        "    empty_dict = {}\n",
        "\n",
        "    for metric in EvaluatorMetrics:\n",
        "\n",
        "        if metric == EvaluatorMetrics.MAP:\n",
        "            empty_dict[metric.value] = MAP()\n",
        "\n",
        "        else:\n",
        "            empty_dict[metric.value] = 0.0\n",
        "\n",
        "    return  empty_dict\n",
        "\n",
        "def get_result_string(results_run, n_decimals=7):\n",
        "\n",
        "    output_str = \"\"\n",
        "\n",
        "    for cutoff in results_run.keys():\n",
        "\n",
        "        results_run_current_cutoff = results_run[cutoff]\n",
        "\n",
        "        output_str += \"CUTOFF: {} - \".format(cutoff)\n",
        "\n",
        "        for metric in results_run_current_cutoff.keys():\n",
        "            output_str += \"{}: {:.{n_decimals}f}, \".format(metric, results_run_current_cutoff[metric], n_decimals = n_decimals)\n",
        "\n",
        "        output_str += \"\\n\"\n",
        "\n",
        "    return output_str\n",
        "\n",
        "\n",
        "\n",
        "class Evaluator(object):\n",
        "    \"\"\"Abstract Evaluator\"\"\"\n",
        "\n",
        "    EVALUATOR_NAME = \"Evaluator_Base_Class\"\n",
        "\n",
        "    def __init__(self, URM_test_list, cutoff_list, minRatingsPerUser=1, exclude_seen=np.bool_(True),\n",
        "                        diversity_object = None,\n",
        "                        ignore_items = None,\n",
        "                        ignore_users = None):\n",
        "\n",
        "        super(Evaluator, self).__init__()\n",
        "\n",
        "\n",
        "\n",
        "        if ignore_items is None:\n",
        "            self.ignore_items_flag = False\n",
        "            self.ignore_items_ID = np.array([])\n",
        "        else:\n",
        "            print(\"Ignoring {} Items\".format(len(ignore_items)))\n",
        "            self.ignore_items_flag = True\n",
        "            self.ignore_items_ID = np.array(ignore_items)\n",
        "\n",
        "        self.cutoff_list = cutoff_list.copy()\n",
        "        self.max_cutoff = max(self.cutoff_list)\n",
        "\n",
        "        self.minRatingsPerUser = minRatingsPerUser\n",
        "        self.exclude_seen = exclude_seen\n",
        "\n",
        "        if not isinstance(URM_test_list, list):\n",
        "            self.URM_test = URM_test_list.copy()\n",
        "            URM_test_list = [URM_test_list]\n",
        "        else:\n",
        "            raise ValueError(\"List of URM_test not supported\")\n",
        "\n",
        "        self.diversity_object = diversity_object\n",
        "\n",
        "        self.n_users, self.n_items = URM_test_list[0].shape\n",
        "\n",
        "        self.URM_test_list = []\n",
        "        usersToEvaluate_mask = np.zeros(self.n_users, dtype=np.bool)\n",
        "\n",
        "        for URM_test in URM_test_list:\n",
        "\n",
        "            URM_test = sps.csr_matrix(URM_test)\n",
        "            self.URM_test_list.append(URM_test)\n",
        "\n",
        "            rows = URM_test.indptr\n",
        "            numRatings = np.ediff1d(rows)\n",
        "            new_mask = numRatings >= minRatingsPerUser\n",
        "\n",
        "            usersToEvaluate_mask = np.logical_or(usersToEvaluate_mask, new_mask)\n",
        "\n",
        "        self.usersToEvaluate = np.arange(self.n_users)[usersToEvaluate_mask]\n",
        "\n",
        "\n",
        "        if ignore_users is not None:\n",
        "            print(\"Ignoring {} Users\".format(len(ignore_users)))\n",
        "            self.ignore_users_ID = np.array(ignore_users)\n",
        "            self.usersToEvaluate = set(self.usersToEvaluate) - set(ignore_users)\n",
        "        else:\n",
        "            self.ignore_users_ID = np.array([])\n",
        "\n",
        "\n",
        "        self.usersToEvaluate = list(self.usersToEvaluate)\n",
        "\n",
        "    def get_user_relevant_items(self, user_id):\n",
        "\n",
        "        assert self.URM_test.getformat() == \"csr\", \"Evaluator_Base_Class: URM_test is not CSR, this will cause errors in getting relevant items\"\n",
        "\n",
        "        return self.URM_test.indices[self.URM_test.indptr[user_id]:self.URM_test.indptr[user_id+1]]\n",
        "\n",
        "\n",
        "    def get_user_test_ratings(self, user_id):\n",
        "\n",
        "        assert self.URM_test.getformat() == \"csr\", \"Evaluator_Base_Class: URM_test is not CSR, this will cause errors in relevant items ratings\"\n",
        "\n",
        "        return self.URM_test.data[self.URM_test.indptr[user_id]:self.URM_test.indptr[user_id+1]]\n",
        "\n",
        "\n",
        "\n",
        "class EvaluatorHoldout(Evaluator):\n",
        "    \"\"\"EvaluatorHoldout\"\"\"\n",
        "\n",
        "    EVALUATOR_NAME = \"EvaluatorHoldout\"\n",
        "\n",
        "    def __init__(self, URM_test_list, cutoff_list, minRatingsPerUser=1, exclude_seen=np.bool_(True),\n",
        "                 diversity_object = None,\n",
        "                 ignore_items = None,\n",
        "                 ignore_users = None):\n",
        "\n",
        "\n",
        "        super(EvaluatorHoldout, self).__init__(URM_test_list, cutoff_list,\n",
        "                                               diversity_object = diversity_object,\n",
        "                                               minRatingsPerUser=minRatingsPerUser, exclude_seen=exclude_seen,\n",
        "                                               ignore_items = ignore_items, ignore_users = ignore_users)\n",
        "\n",
        "\n",
        "\n",
        "\n",
        "\n",
        "    def _run_evaluation_on_selected_users(self, recommender_object, usersToEvaluate, block_size = None):\n",
        "\n",
        "\n",
        "        if block_size is None:\n",
        "            block_size = min(1000, int(1e8/self.n_items))\n",
        "\n",
        "\n",
        "\n",
        "        start_time = time.time()\n",
        "        start_time_print = time.time()\n",
        "\n",
        "\n",
        "        results_dict = {}\n",
        "\n",
        "        for cutoff in self.cutoff_list:\n",
        "            results_dict[cutoff] = create_empty_metrics_dict(self.n_items, self.n_users,\n",
        "                                                             URM_train,\n",
        "                                                             self.ignore_items_ID,\n",
        "                                                             self.ignore_users_ID,\n",
        "                                                             cutoff,\n",
        "                                                             self.diversity_object)\n",
        "\n",
        "        n_users_evaluated = 0\n",
        "\n",
        "        # Start from -block_size to ensure it to be 0 at the first block\n",
        "        user_batch_start = 0\n",
        "        user_batch_end = 0\n",
        "\n",
        "        while user_batch_start < len(self.usersToEvaluate):\n",
        "\n",
        "            user_batch_end = user_batch_start + block_size\n",
        "            user_batch_end = min(user_batch_end, len(usersToEvaluate))\n",
        "\n",
        "            test_user_batch_array = np.array(usersToEvaluate[user_batch_start:user_batch_end])\n",
        "            user_batch_start = user_batch_end\n",
        "\n",
        "            recommended_items_batch_list, scores_batch = recommender_object.recommend(test_user_batch_array,\n",
        "                                                                      remove_seen_flag=self.exclude_seen,\n",
        "                                                                      cutoff = self.max_cutoff,\n",
        "                                                                      remove_top_pop_flag=False,\n",
        "                                                                      remove_CustomItems_flag=self.ignore_items_flag,\n",
        "                                                                      return_scores = True\n",
        "                                                                     )\n",
        "\n",
        "\n",
        "            assert len(recommended_items_batch_list) == len(test_user_batch_array), \"{}: recommended_items_batch_list contained recommendations for {} users, expected was {}\".format(\n",
        "                self.EVALUATOR_NAME, len(recommended_items_batch_list), len(test_user_batch_array))\n",
        "\n",
        "            assert scores_batch.shape[0] == len(test_user_batch_array), \"{}: scores_batch contained scores for {} users, expected was {}\".format(\n",
        "                self.EVALUATOR_NAME, scores_batch.shape[0], len(test_user_batch_array))\n",
        "\n",
        "            assert scores_batch.shape[1] == self.n_items, \"{}: scores_batch contained scores for {} items, expected was {}\".format(\n",
        "                self.EVALUATOR_NAME, scores_batch.shape[1], self.n_items)\n",
        "\n",
        "\n",
        "            for batch_user_index in range(len(recommended_items_batch_list)):\n",
        "\n",
        "                test_user = test_user_batch_array[batch_user_index]\n",
        "\n",
        "                relevant_items = self.get_user_relevant_items(test_user)\n",
        "                relevant_items_rating = self.get_user_test_ratings(test_user)\n",
        "\n",
        "                all_items_predicted_ratings = scores_batch[batch_user_index]\n",
        "                user_rmse = rmse(all_items_predicted_ratings, relevant_items, relevant_items_rating)\n",
        "\n",
        "                # Being the URM CSR, the indices are the non-zero column indexes\n",
        "                recommended_items = recommended_items_batch_list[batch_user_index]\n",
        "                is_relevant = np.in1d(recommended_items, relevant_items, assume_unique=True)\n",
        "\n",
        "                n_users_evaluated += 1\n",
        "\n",
        "                for cutoff in self.cutoff_list:\n",
        "\n",
        "                    results_current_cutoff = results_dict[cutoff]\n",
        "\n",
        "                    is_relevant_current_cutoff = is_relevant[0:cutoff]\n",
        "                    recommended_items_current_cutoff = recommended_items[0:cutoff]\n",
        "\n",
        "                    results_current_cutoff[EvaluatorMetrics.PRECISION.value]            += precision(is_relevant_current_cutoff)\n",
        "                    results_current_cutoff[EvaluatorMetrics.RECALL.value]               += recall(is_relevant_current_cutoff, relevant_items)\n",
        "                    results_current_cutoff[EvaluatorMetrics.NDCG.value]                 += ndcg(recommended_items_current_cutoff, relevant_items, relevance=self.get_user_test_ratings(test_user), at=cutoff)\n",
        "                    results_current_cutoff[EvaluatorMetrics.HIT_RATE.value]             += is_relevant_current_cutoff.sum()\n",
        "                    results_current_cutoff[EvaluatorMetrics.RMSE.value]                 += user_rmse\n",
        "                    results_current_cutoff[EvaluatorMetrics.MAP.value].add_recommendations(is_relevant_current_cutoff, relevant_items)\n",
        "                    \n",
        "\n",
        "                    sys.stdout.flush()\n",
        "                    sys.stderr.flush()\n",
        "\n",
        "                    start_time_print = time.time()\n",
        "\n",
        "\n",
        "\n",
        "        return results_dict, n_users_evaluated\n",
        "\n",
        "\n",
        "\n",
        "\n",
        "    def evaluateRecommender(self, recommender_object):\n",
        "\n",
        "        if self.ignore_items_flag:\n",
        "            recommender_object.set_items_to_ignore(self.ignore_items_ID)\n",
        "\n",
        "\n",
        "\n",
        "        results_dict, n_users_evaluated = self._run_evaluation_on_selected_users(recommender_object, self.usersToEvaluate)\n",
        "\n",
        "\n",
        "        if (n_users_evaluated > 0):\n",
        "\n",
        "            for cutoff in self.cutoff_list:\n",
        "\n",
        "                results_current_cutoff = results_dict[cutoff]\n",
        "\n",
        "                for key in results_current_cutoff.keys():\n",
        "\n",
        "                    value = results_current_cutoff[key]\n",
        "\n",
        "                    if isinstance(value, Metrics_Object):\n",
        "                        results_current_cutoff[key] = value.get_metric_value()\n",
        "                    else:\n",
        "                        results_current_cutoff[key] = value/n_users_evaluated\n",
        "\n",
        "                precision_ = results_current_cutoff[EvaluatorMetrics.PRECISION.value]\n",
        "                recall_ = results_current_cutoff[EvaluatorMetrics.RECALL.value]\n",
        "\n",
        "                if precision_ + recall_ != 0:\n",
        "                    results_current_cutoff[EvaluatorMetrics.F1.value] = 2 * (precision_ * recall_) / (precision_ + recall_)\n",
        "\n",
        "\n",
        "        else:\n",
        "            print(\"WARNING: No users had a sufficient number of relevant items\")\n",
        "\n",
        "\n",
        "\n",
        "        results_run_string = get_result_string(results_dict)\n",
        "\n",
        "\n",
        "\n",
        "\n",
        "        if self.ignore_items_flag:\n",
        "            recommender_object.reset_items_to_ignore()\n",
        "\n",
        "\n",
        "        return (results_dict, results_run_string)\n",
        "\n",
        "\n"
      ]
    },
    {
      "cell_type": "code",
      "execution_count": null,
      "metadata": {
        "id": "5BGEM1gze-bp"
      },
      "outputs": [],
      "source": [
        "class EarlyStoppingScheduler(object):\n",
        "    def __init__(self, model, evaluator, metrics=['PRECISION', 'RECALL', 'MAP', 'NDCG'], freq=1, allow_worse=5):\n",
        "        self.model = model\n",
        "        self.evaluator = evaluator\n",
        "        self.metrics = metrics\n",
        "        self.freq = freq\n",
        "        self.best_scores = np.zeros(len(metrics))\n",
        "        self.allow_worse = allow_worse\n",
        "        self.worse_left = allow_worse\n",
        "        self.scores = []\n",
        "\n",
        "    def score(self, epoch):\n",
        "        if epoch % self.freq == 0:\n",
        "            results_dic, _ = self.evaluator.evaluateRecommender(self.model) #TODO: dependent on recommender interface\n",
        "            curr_scores = np.array([results_dic[5][m] for m in self.metrics])\n",
        "            self.scores.append(curr_scores)\n",
        "            if np.all(np.less_equal(curr_scores, self.best_scores)):\n",
        "                if self.worse_left > 0:\n",
        "                    self.worse_left -= 1\n",
        "                else:\n",
        "                    self.model.stop_fit()\n",
        "                    self.model.load_model()\n",
        "            else:\n",
        "                self.best_scores = curr_scores\n",
        "                self.worse_left = self.allow_worse\n",
        "                self.model.save_current_model()\n",
        "\n",
        "    def __call__(self, epoch):\n",
        "        self.score(epoch)\n",
        "\n",
        "    def load_best(self):\n",
        "        self.model.load_model()\n",
        "\n",
        "    def get_scores(self):\n",
        "        return self.scores"
      ]
    },
    {
      "cell_type": "code",
      "execution_count": null,
      "metadata": {
        "id": "x9aUwYGa3OIs"
      },
      "outputs": [],
      "source": [
        "import tqdm"
      ]
    },
    {
      "cell_type": "code",
      "execution_count": null,
      "metadata": {
        "id": "uDEqukq25x5y"
      },
      "outputs": [],
      "source": [
        "\n",
        "import numpy as np\n",
        "import os\n",
        "\n",
        "\n",
        "class BaseRecommender(object):\n",
        "\n",
        "    RECOMMENDER_NAME = \"Recommender_Base_Class\"\n",
        "\n",
        "    def __init__(self, URM_train):\n",
        "\n",
        "        super(BaseRecommender, self).__init__()\n",
        "\n",
        "        self.URM_train = URM_train.copy()\n",
        "        self.URM_train.eliminate_zeros()\n",
        "\n",
        "        self.n_users, self.n_items = self.URM_train.shape\n",
        "\n",
        "        self.normalize = False\n",
        "\n",
        "        self.filterTopPop = False\n",
        "        self.filterTopPop_ItemsID = np.array([], dtype=np.int)\n",
        "\n",
        "        self.items_to_ignore_flag = False\n",
        "        self.items_to_ignore_ID = np.array([], dtype=np.int)\n",
        "\n",
        "        self._cold_user_mask = np.ediff1d(self.URM_train.indptr) == 0\n",
        "\n",
        "        if self._cold_user_mask.any():\n",
        "            print(\"{}: Detected {} ({:.2f} %) cold users.\".format(\n",
        "                self.RECOMMENDER_NAME, self._cold_user_mask.sum(), self._cold_user_mask.sum()/len(self._cold_user_mask)*100))\n",
        "\n",
        "\n",
        "\n",
        "    def _get_cold_user_mask(self):\n",
        "        return self._cold_user_mask\n",
        "\n",
        "    def get_URM_train(self):\n",
        "        return self.URM_train.copy()\n",
        "\n",
        "    def set_URM_train(self, URM_train_new, **kwargs):\n",
        "\n",
        "        assert self.URM_train.shape == URM_train_new.shape, \"{}: set_URM_train old and new URM train have different shapes\".format(self.RECOMMENDER_NAME)\n",
        "\n",
        "        if len(kwargs)>0:\n",
        "            print(\"{}: set_URM_train keyword arguments not supported for this recommender class. Received: {}\".format(self.RECOMMENDER_NAME, kwargs))\n",
        "\n",
        "        self.URM_train = URM_train_new.copy()\n",
        "        self.URM_train.eliminate_zeros()\n",
        "\n",
        "        self._cold_user_mask = np.ediff1d(self.URM_train.indptr) == 0\n",
        "\n",
        "        if self._cold_user_mask.any():\n",
        "            print(\"{}: Detected {} ({:.2f} %) cold users.\".format(\n",
        "                self.RECOMMENDER_NAME, self._cold_user_mask.sum(), self._cold_user_mask.sum()/len(self._cold_user_mask)*100))\n",
        "\n",
        "\n",
        "\n",
        "    def set_items_to_ignore(self, items_to_ignore):\n",
        "\n",
        "        self.items_to_ignore_flag = True\n",
        "        self.items_to_ignore_ID = np.array(items_to_ignore, dtype=np.int)\n",
        "\n",
        "    def reset_items_to_ignore(self):\n",
        "\n",
        "        self.items_to_ignore_flag = False\n",
        "        self.items_to_ignore_ID = np.array([], dtype=np.int)\n",
        "\n",
        "\n",
        "    def _remove_TopPop_on_scores(self, scores_batch):\n",
        "        scores_batch[:, self.filterTopPop_ItemsID] = -np.inf\n",
        "        return scores_batch\n",
        "\n",
        "\n",
        "    def _remove_CustomItems_on_scores(self, scores_batch):\n",
        "        scores_batch[:, self.items_to_ignore_ID] = -np.inf\n",
        "        return scores_batch\n",
        "\n",
        "\n",
        "    def _remove_seen_on_scores(self, user_id, scores):\n",
        "\n",
        "        assert self.URM_train.getformat() == \"csr\", \"Recommender_Base_Class: URM_train is not CSR, this will cause errors in filtering seen items\"\n",
        "\n",
        "        if user_id >= len(self.URM_train.indptr):\n",
        "          seen = []\n",
        "        elif user_id + 1 >= len(self.URM_train.indptr):\n",
        "          seen = self.URM_train.indices[self.URM_train.indptr[user_id]:]\n",
        "        else:\n",
        "          seen = self.URM_train.indices[self.URM_train.indptr[user_id]:self.URM_train.indptr[user_id + 1]]\n",
        "        scores[seen] = -np.inf\n",
        "        return scores\n",
        "\n",
        "\n",
        "\n",
        "    def recommend(self, user_id_array, cutoff = None, remove_seen_flag=True, items_to_compute = None,\n",
        "                  remove_top_pop_flag = False, remove_CustomItems_flag = False, return_scores = False):\n",
        "\n",
        "        if np.isscalar(user_id_array):\n",
        "            user_id_array = np.atleast_1d(user_id_array)\n",
        "            single_user = True\n",
        "        else:\n",
        "            single_user = False\n",
        "\n",
        "\n",
        "        if cutoff is None:\n",
        "            cutoff = self.URM_train.shape[1] - 1\n",
        "\n",
        "        scores_batch = self._compute_item_score(user_id_array, items_to_compute=items_to_compute)\n",
        "\n",
        "        for user_index in range(len(user_id_array)):\n",
        "\n",
        "            user_id = user_id_array[user_index]\n",
        "\n",
        "            if remove_seen_flag:\n",
        "                scores_batch[user_index,:] = self._remove_seen_on_scores(user_id, scores_batch[user_index, :])\n",
        "\n",
        "\n",
        "        if remove_top_pop_flag:\n",
        "            scores_batch = self._remove_TopPop_on_scores(scores_batch)\n",
        "\n",
        "        if remove_CustomItems_flag:\n",
        "            scores_batch = self._remove_CustomItems_on_scores(scores_batch)\n",
        "        relevant_items_partition = (-scores_batch).argpartition(cutoff, axis=1)[:,0:cutoff]\n",
        "        relevant_items_partition_original_value = scores_batch[np.arange(scores_batch.shape[0])[:, None], relevant_items_partition]\n",
        "        relevant_items_partition_sorting = np.argsort(-relevant_items_partition_original_value, axis=1)\n",
        "        ranking = relevant_items_partition[np.arange(relevant_items_partition.shape[0])[:, None], relevant_items_partition_sorting]\n",
        "\n",
        "        ranking_list = [None] * ranking.shape[0]\n",
        "\n",
        "        for user_index in range(len(user_id_array)):\n",
        "            user_recommendation_list = ranking[user_index]\n",
        "            user_item_scores = scores_batch[user_index, user_recommendation_list]\n",
        "\n",
        "            not_inf_scores_mask = np.logical_not(np.isinf(user_item_scores))\n",
        "\n",
        "            user_recommendation_list = user_recommendation_list[not_inf_scores_mask]\n",
        "            ranking_list[user_index] = user_recommendation_list.tolist()\n",
        "\n",
        "        if single_user:\n",
        "            ranking_list = ranking_list[0]\n",
        "\n",
        "\n",
        "        if return_scores:\n",
        "            return ranking_list, scores_batch\n",
        "\n",
        "        else:\n",
        "            return ranking_list\n"
      ]
    },
    {
      "cell_type": "code",
      "execution_count": null,
      "metadata": {
        "id": "D44zsuir-vEJ"
      },
      "outputs": [],
      "source": [
        "print(URM_test)"
      ]
    },
    {
      "cell_type": "code",
      "execution_count": null,
      "metadata": {
        "id": "W_x4NlFcf_FX"
      },
      "outputs": [],
      "source": [
        "class GANAE(BaseRecommender):\n",
        "\n",
        "    def __init__(self, URM_train, mode='user', verbose=False, seed=1234, is_experiment=False):\n",
        "\n",
        "        if mode not in ['user', 'item']:\n",
        "            raise ValueError('Accepted training modes are `user` and `item`. Given was {}.', mode)\n",
        "\n",
        "        self.mode = mode\n",
        "        if self.mode == 'item':\n",
        "            self.URM_train = URM_train.T.tocsr()\n",
        "        else:\n",
        "            self.URM_train = URM_train\n",
        "        self.num_users, self.num_items = self.URM_train.shape\n",
        "        self.config = None\n",
        "        self.seed = seed\n",
        "        self.verbose = verbose\n",
        "        \n",
        "    def build(self, num_factors=10, emb_dim=32):\n",
        "        glorot_uniform = tf.glorot_uniform_initializer()\n",
        "\n",
        "        def autoencoder(input_data):\n",
        "            with tf.variable_scope('autoencoder', reuse=tf.AUTO_REUSE):\n",
        "                encoding = tf.layers.dense(input_data, units=emb_dim, kernel_initializer=glorot_uniform, name='encoding')\n",
        "                decoding = tf.layers.dense(encoding, units=self.num_items, kernel_initializer=glorot_uniform, name='decoding')\n",
        "            loss = tf.losses.mean_squared_error(input_data, decoding)\n",
        "            return encoding, loss\n",
        "\n",
        "        def generator(condition):\n",
        "            with tf.variable_scope('generator', reuse=tf.AUTO_REUSE):\n",
        "                user_embeddings = tf.get_variable(shape=[self.num_users, num_factors], trainable=True,\n",
        "                                initializer=glorot_uniform, name='user_embeddings')\n",
        "                item_embeddings = tf.get_variable(shape=[self.num_items, num_factors], trainable=True,\n",
        "                                initializer=glorot_uniform, name='item_embeddings')\n",
        "            condition = tf.where(tf.less(condition, self.num_users-1), condition, tf.zeros_like(condition))\n",
        "            user_lookup = tf.nn.embedding_lookup(user_embeddings, condition)\n",
        "            item_factors = tf.layers.dense(user_lookup, units=num_factors, activation=None, kernel_initializer=glorot_uniform, name='item_factors')\n",
        "\n",
        "            fake_data = tf.matmul(tf.squeeze(user_lookup, axis=1), item_embeddings, transpose_b=True)\n",
        "            return fake_data\n",
        "\n",
        "        self.autoencoder, self.generator = autoencoder, generator\n",
        "\n",
        "    def fit(self, num_factors=10, emb_dim=32, epochs=300, batch_size=32, d_lr=1e-4, g_lr=1e-4, d_steps=1, g_steps=1,\n",
        "            d_reg=0, g_reg=0, m=1, recon_coefficient=1e-2, allow_worse=None, freq=None, metrics=['MAP','NDCG','RMSE'], sample_every=None,\n",
        "            validation_evaluator=None, validation_set=None):\n",
        "\n",
        "        # Construct the model config\n",
        "        self.config = dict(locals())\n",
        "        del self.config['self']\n",
        "\n",
        "        # First clear the session to save GPU memory\n",
        "        tf.reset_default_graph()\n",
        "        # Set fixed seed for the TF graph\n",
        "        tf.set_random_seed(self.seed)\n",
        "\n",
        "        self.build(num_factors, emb_dim)\n",
        "\n",
        "        # Create optimizers\n",
        "        opt_gen = tf.train.AdamOptimizer(learning_rate=g_lr)\n",
        "        opt_disc = tf.train.AdamOptimizer(learning_rate=d_lr)\n",
        "\n",
        "        # placeholders\n",
        "        real_profile = tf.placeholder(dtype=tf.float32, shape=[None, self.num_items])\n",
        "        self.user_id = tf.placeholder(dtype=tf.int32, shape=[None, 1])\n",
        "\n",
        "        # generator ops\n",
        "        self.fake_profile = self.generator(self.user_id)\n",
        "\n",
        "        # autoencoder ops\n",
        "        real_encoding, real_recon_loss = self.autoencoder(real_profile)\n",
        "        fake_encoding, fake_recon_loss = self.autoencoder(self.fake_profile)\n",
        "\n",
        "        # model parameters\n",
        "        self.dvars = tf.get_collection(tf.GraphKeys.TRAINABLE_VARIABLES, scope='autoencoder')\n",
        "        self.gvars = tf.get_collection(tf.GraphKeys.TRAINABLE_VARIABLES, scope='generator')\n",
        "\n",
        "        with tf.variable_scope('dvars_best', reuse=tf.AUTO_REUSE):\n",
        "            self.dvars_best = []\n",
        "            for idx, var in enumerate(self.dvars):\n",
        "                self.dvars_best.append(tf.get_variable('dva_r' + str(idx), shape=var.get_shape(), trainable=False))\n",
        "        with tf.variable_scope('gvars_best', reuse=tf.AUTO_REUSE):\n",
        "            self.gvars_best = []\n",
        "            for idx, var in enumerate(self.gvars):\n",
        "                self.gvars_best.append(tf.get_variable('gvar_' + str(idx), shape=var.get_shape(), trainable=False))\n",
        "\n",
        "        # losses\n",
        "        dloss = real_recon_loss + tf.maximum(0.0, m * real_recon_loss - fake_recon_loss) + \\\n",
        "                d_reg * tf.add_n([tf.nn.l2_loss(var) for var in self.dvars])\n",
        "        gloss = (1 - recon_coefficient) * fake_recon_loss + \\\n",
        "                recon_coefficient * tf.losses.mean_squared_error(real_encoding, fake_encoding) + \\\n",
        "                g_reg * tf.add_n([tf.nn.l2_loss(var) for var in self.gvars])\n",
        "\n",
        "        # update ops\n",
        "        dtrain = opt_disc.minimize(dloss, var_list=self.dvars)\n",
        "        gtrain = opt_gen.minimize(gloss, var_list=self.gvars)\n",
        "\n",
        "        self.sess = tf.Session()\n",
        "        self.sess.run(tf.initialize_all_variables())\n",
        "\n",
        "        self._stop_training = False\n",
        "        if validation_evaluator is not None:\n",
        "            early_stop = EarlyStoppingScheduler(self, evaluator=validation_evaluator, allow_worse=allow_worse,\n",
        "                                                freq=freq, metrics=metrics)\n",
        "\n",
        "        all_users = np.array(range(self.num_users))\n",
        "        step = batch_size\n",
        "\n",
        "        train_g_loss = []\n",
        "        train_d_loss = []\n",
        "\n",
        "        if self.verbose:\n",
        "            print('Starting training...')\n",
        "\n",
        "        t_start = time.time()\n",
        "        e_start = time.time()\n",
        "\n",
        "        epoch = 1\n",
        "\n",
        "        pbar = tqdm.tqdm(total=epochs, initial=1)\n",
        "\n",
        "        while not self._stop_training and epoch < epochs + 1:\n",
        "            batch_d_loss = []\n",
        "            batch_g_loss = []\n",
        "            np.random.shuffle(all_users)\n",
        "            for _ in range(d_steps):\n",
        "                start_idx = 0\n",
        "                while start_idx < len(all_users):\n",
        "                    end_idx = start_idx + step\n",
        "                    if end_idx > len(all_users):\n",
        "                        end_idx = len(all_users)\n",
        "\n",
        "                    uids = all_users[start_idx: end_idx]\n",
        "                    real_histories = self.URM_train[uids].toarray()\n",
        "\n",
        "                    _, _dloss = self.sess.run([dtrain, dloss], {real_profile: real_histories, self.user_id: uids.reshape(-1, 1)})\n",
        "                    batch_d_loss.append(_dloss)\n",
        "                    start_idx = end_idx\n",
        "\n",
        "            for _ in range(g_steps):\n",
        "                start_idx = 0\n",
        "                while start_idx < len(all_users):\n",
        "                    end_idx = start_idx + step\n",
        "                    if end_idx > len(all_users):\n",
        "                        end_idx = len(all_users)\n",
        "\n",
        "                    uids = all_users[start_idx: end_idx]\n",
        "                    real_histories = self.URM_train[uids].toarray()\n",
        "                    _, _gloss = self.sess.run([gtrain, gloss], {real_profile: real_histories, self.user_id: uids.reshape(-1, 1)})\n",
        "                    batch_g_loss.append(_gloss)\n",
        "                    start_idx = end_idx\n",
        "\n",
        "            mean_epoch_g_loss = np.mean(batch_g_loss)\n",
        "            mean_epoch_d_loss = np.mean(batch_d_loss)\n",
        "\n",
        "            train_g_loss.append(mean_epoch_g_loss)\n",
        "            train_d_loss.append(mean_epoch_d_loss)\n",
        "\n",
        "            if validation_set is not None and sample_every is not None and epoch % sample_every == 0:\n",
        "                t_end = time.time()\n",
        "                total = t_end-e_start\n",
        "                print('Epoch : {:d}. Total: {:.2f} secs, {:.2f} secs/epoch.'.format(epoch, total, total/sample_every))\n",
        "                if self.mode == 'item':\n",
        "                    self.URM_train = self.URM_train.T.tocsr()\n",
        "                _, results_run_string = validation_evaluator.evaluateRecommender(self)\n",
        "                if self.mode == 'item':\n",
        "                    self.URM_train = self.URM_train.T.tocsr()\n",
        "                print(results_run_string)\n",
        "                e_start = time.time()\n",
        "\n",
        "            if validation_evaluator is not None:\n",
        "                if self.mode == 'item':\n",
        "                    self.URM_train = self.URM_train.T.tocsr()\n",
        "                early_stop(epoch)\n",
        "                if self.mode == 'item':\n",
        "                    self.URM_train = self.URM_train.T.tocsr()\n",
        "\n",
        "                if self._stop_training:\n",
        "                    print('Training stopped, epoch:', epoch)\n",
        "\n",
        "            epoch += 1\n",
        "            pbar.update()\n",
        "        pbar.close()\n",
        "\n",
        "        t_end = time.time()\n",
        "        if self.verbose:\n",
        "            print('Training took {:.2f} seconds'.format(t_end - t_start))\n",
        "\n",
        "        if self.mode == 'item':\n",
        "            self.URM_train = self.URM_train.T.tocsr()\n",
        "\n",
        "        return epoch\n",
        "\n",
        "    def stop_fit(self):\n",
        "        self._stop_training = True\n",
        "\n",
        "    def save_current_model(self):\n",
        "        for idx, var in enumerate(self.dvars):\n",
        "            self.sess.run(self.dvars_best[idx].assign(var))\n",
        "        for idx, var in enumerate(self.gvars):\n",
        "            self.sess.run(self.gvars_best[idx].assign(var))\n",
        "\n",
        "    def load_model(self):\n",
        "        for idx, var in enumerate(self.dvars_best):\n",
        "            self.sess.run(self.dvars[idx].assign(var))\n",
        "        for idx, var in enumerate(self.gvars_best):\n",
        "            self.sess.run(self.gvars[idx].assign(var))\n",
        "\n",
        "    def _compute_item_score(self, user_id_array, items_to_compute=None):\n",
        "        if self.mode == 'item':\n",
        "            predictions = self.sess.run(self.fake_profile, {self.user_id: np.array(range(self.num_users)).reshape(-1, 1)})\n",
        "            return predictions.transpose()[user_id_array]\n",
        "        else:\n",
        "            return self.sess.run(self.fake_profile, {self.user_id: user_id_array.reshape(-1, 1)})"
      ]
    },
    {
      "cell_type": "code",
      "execution_count": null,
      "metadata": {
        "id": "WfaX2QxVtcMU"
      },
      "outputs": [],
      "source": [
        "gan = GANAE(URM_train, mode='user')"
      ]
    },
    {
      "cell_type": "code",
      "execution_count": null,
      "metadata": {
        "id": "-qae7AYdtgXi"
      },
      "outputs": [],
      "source": [
        "import numpy as np\n",
        "gan = GANAE(URM_train, mode='user')\n",
        "evaluatorValidation = EvaluatorHoldout(URM_validation,[5,10,100],exclude_seen=np.bool_(True))"
      ]
    },
    {
      "cell_type": "code",
      "execution_count": null,
      "metadata": {
        "colab": {
          "base_uri": "https://localhost:8080/"
        },
        "id": "DIl35HsOT9JC",
        "outputId": "26766e50-1ab3-4121-ad89-60fe75249874"
      },
      "outputs": [
        {
          "data": {
            "text/plain": [
              "True"
            ]
          },
          "execution_count": 32,
          "metadata": {},
          "output_type": "execute_result"
        }
      ],
      "source": [
        "np.bool_(True)"
      ]
    },
    {
      "cell_type": "code",
      "execution_count": null,
      "metadata": {
        "colab": {
          "base_uri": "https://localhost:8080/"
        },
        "id": "VPkmPn-_tR6P",
        "outputId": "44235601-28f5-4723-9431-d01ef496ddbd"
      },
      "outputs": [
        {
          "name": "stderr",
          "output_type": "stream",
          "text": [
            "\n",
            "  0%|          | 1/300 [00:00<?, ?it/s]\u001b[A\n",
            "  1%|          | 2/300 [00:00<02:51,  1.73it/s]\u001b[A\n",
            "  1%|          | 3/300 [00:00<02:09,  2.30it/s]\u001b[A\n",
            "  1%|▏         | 4/300 [00:01<01:51,  2.66it/s]\u001b[A\n",
            "  2%|▏         | 5/300 [00:01<01:41,  2.89it/s]\u001b[A\n",
            "  2%|▏         | 6/300 [00:24<41:36,  8.49s/it]\u001b[A\n",
            "  2%|▏         | 7/300 [00:25<28:43,  5.88s/it]\u001b[A\n",
            "  3%|▎         | 8/300 [00:25<19:50,  4.08s/it]\u001b[A\n",
            "  3%|▎         | 9/300 [00:25<13:58,  2.88s/it]\u001b[A\n",
            "  3%|▎         | 10/300 [00:26<10:02,  2.08s/it]\u001b[A"
          ]
        },
        {
          "name": "stdout",
          "output_type": "stream",
          "text": [
            "Epoch : 10. Total: 26.57 secs, 2.66 secs/epoch.\n",
            "CUTOFF: 5 - PRECISION: 0.0069868, RECALL: 0.0020052, MAP: 0.0035573, NDCG: 0.0029978, F1: 0.0031161, HIT_RATE: 0.0349338, RMSE: 0.9991330, \n",
            "CUTOFF: 10 - PRECISION: 0.0067881, RECALL: 0.0038425, MAP: 0.0024785, NDCG: 0.0043791, F1: 0.0049072, HIT_RATE: 0.0678808, RMSE: 0.9991330, \n",
            "CUTOFF: 100 - PRECISION: 0.0062368, RECALL: 0.0339409, MAP: 0.0022383, NDCG: 0.0177605, F1: 0.0105373, HIT_RATE: 0.6236755, RMSE: 0.9991330, \n",
            "\n"
          ]
        },
        {
          "name": "stderr",
          "output_type": "stream",
          "text": [
            "\n",
            "  4%|▎         | 11/300 [01:13<1:16:50, 15.95s/it]\u001b[A\n",
            "  4%|▍         | 12/300 [01:13<53:38, 11.18s/it]  \u001b[A\n",
            "  4%|▍         | 13/300 [01:13<37:35,  7.86s/it]\u001b[A\n",
            "  5%|▍         | 14/300 [01:14<26:28,  5.55s/it]\u001b[A\n",
            "  5%|▌         | 15/300 [01:14<18:50,  3.97s/it]\u001b[A\n",
            "  5%|▌         | 16/300 [01:36<44:34,  9.42s/it]\u001b[A\n",
            "  6%|▌         | 17/300 [01:36<31:38,  6.71s/it]\u001b[A\n",
            "  6%|▌         | 18/300 [01:37<22:32,  4.79s/it]\u001b[A\n",
            "  6%|▋         | 19/300 [01:37<16:11,  3.46s/it]\u001b[A\n",
            "  7%|▋         | 20/300 [01:37<11:43,  2.51s/it]\u001b[A"
          ]
        },
        {
          "name": "stdout",
          "output_type": "stream",
          "text": [
            "Epoch : 20. Total: 50.24 secs, 5.02 secs/epoch.\n",
            "CUTOFF: 5 - PRECISION: 0.0341722, RECALL: 0.0083679, MAP: 0.0184164, NDCG: 0.0133341, F1: 0.0134438, HIT_RATE: 0.1708609, RMSE: 0.9865417, \n",
            "CUTOFF: 10 - PRECISION: 0.0304636, RECALL: 0.0152595, MAP: 0.0126816, NDCG: 0.0189002, F1: 0.0203337, HIT_RATE: 0.3046358, RMSE: 0.9865417, \n",
            "CUTOFF: 100 - PRECISION: 0.0196689, RECALL: 0.1034032, MAP: 0.0103589, NDCG: 0.0597673, F1: 0.0330509, HIT_RATE: 1.9668874, RMSE: 0.9865417, \n",
            "\n"
          ]
        },
        {
          "name": "stderr",
          "output_type": "stream",
          "text": [
            "\n",
            "  7%|▋         | 21/300 [02:24<1:13:06, 15.72s/it]\u001b[A\n",
            "  7%|▋         | 22/300 [02:24<51:31, 11.12s/it]  \u001b[A\n",
            "  8%|▊         | 23/300 [02:25<36:21,  7.88s/it]\u001b[A\n",
            "  8%|▊         | 24/300 [02:25<25:50,  5.62s/it]\u001b[A\n",
            "  8%|▊         | 25/300 [02:25<18:27,  4.03s/it]\u001b[A\n",
            "  9%|▊         | 26/300 [02:50<46:16, 10.13s/it]\u001b[A\n",
            "  9%|▉         | 27/300 [02:50<32:44,  7.20s/it]\u001b[A\n",
            "  9%|▉         | 28/300 [02:50<23:13,  5.12s/it]\u001b[A\n",
            " 10%|▉         | 29/300 [02:51<16:33,  3.66s/it]\u001b[A\n",
            " 10%|█         | 30/300 [02:51<11:53,  2.64s/it]\u001b[A"
          ]
        },
        {
          "name": "stdout",
          "output_type": "stream",
          "text": [
            "Epoch : 30. Total: 50.85 secs, 5.09 secs/epoch.\n",
            "CUTOFF: 5 - PRECISION: 0.0679470, RECALL: 0.0164415, MAP: 0.0409288, NDCG: 0.0267390, F1: 0.0264764, HIT_RATE: 0.3397351, RMSE: 0.9809760, \n",
            "CUTOFF: 10 - PRECISION: 0.0612086, RECALL: 0.0295478, MAP: 0.0295351, NDCG: 0.0376930, F1: 0.0398557, HIT_RATE: 0.6120861, RMSE: 0.9809760, \n",
            "CUTOFF: 100 - PRECISION: 0.0356639, RECALL: 0.1785774, MAP: 0.0249107, NDCG: 0.1091397, F1: 0.0594542, HIT_RATE: 3.5663907, RMSE: 0.9809760, \n",
            "\n"
          ]
        },
        {
          "name": "stderr",
          "output_type": "stream",
          "text": [
            "\n",
            " 10%|█         | 31/300 [03:35<1:08:10, 15.21s/it]\u001b[A\n",
            " 11%|█         | 32/300 [03:36<47:58, 10.74s/it]  \u001b[A\n",
            " 11%|█         | 33/300 [03:36<33:48,  7.60s/it]\u001b[A\n",
            " 11%|█▏        | 34/300 [03:36<23:54,  5.39s/it]\u001b[A\n",
            " 12%|█▏        | 35/300 [03:36<17:01,  3.85s/it]\u001b[A\n",
            " 12%|█▏        | 36/300 [03:58<39:55,  9.07s/it]\u001b[A\n",
            " 12%|█▏        | 37/300 [03:58<28:19,  6.46s/it]\u001b[A\n",
            " 13%|█▎        | 38/300 [03:58<20:10,  4.62s/it]\u001b[A\n",
            " 13%|█▎        | 39/300 [03:59<14:27,  3.32s/it]\u001b[A\n",
            " 13%|█▎        | 40/300 [03:59<10:28,  2.42s/it]\u001b[A"
          ]
        },
        {
          "name": "stdout",
          "output_type": "stream",
          "text": [
            "Epoch : 40. Total: 45.52 secs, 4.55 secs/epoch.\n",
            "CUTOFF: 5 - PRECISION: 0.1030132, RECALL: 0.0338131, MAP: 0.0642845, NDCG: 0.0485523, F1: 0.0509141, HIT_RATE: 0.5150662, RMSE: 0.9659529, \n",
            "CUTOFF: 10 - PRECISION: 0.0905960, RECALL: 0.0591012, MAP: 0.0482243, NDCG: 0.0673123, F1: 0.0715355, HIT_RATE: 0.9059603, RMSE: 0.9659529, \n",
            "CUTOFF: 100 - PRECISION: 0.0464023, RECALL: 0.2879932, MAP: 0.0457865, NDCG: 0.1695420, F1: 0.0799266, HIT_RATE: 4.6402318, RMSE: 0.9659529, \n",
            "\n"
          ]
        },
        {
          "name": "stderr",
          "output_type": "stream",
          "text": [
            "\n",
            " 14%|█▎        | 41/300 [04:41<1:01:34, 14.26s/it]\u001b[A\n",
            " 14%|█▍        | 42/300 [04:41<43:22, 10.09s/it]  \u001b[A\n",
            " 14%|█▍        | 43/300 [04:41<30:35,  7.14s/it]\u001b[A\n",
            " 15%|█▍        | 44/300 [04:42<21:39,  5.07s/it]\u001b[A\n",
            " 15%|█▌        | 45/300 [04:42<15:24,  3.63s/it]\u001b[A\n",
            " 15%|█▌        | 46/300 [05:03<36:59,  8.74s/it]\u001b[A\n",
            " 16%|█▌        | 47/300 [05:03<26:11,  6.21s/it]\u001b[A\n",
            " 16%|█▌        | 48/300 [05:03<18:36,  4.43s/it]\u001b[A\n",
            " 16%|█▋        | 49/300 [05:04<13:17,  3.18s/it]\u001b[A\n",
            " 17%|█▋        | 50/300 [05:04<09:34,  2.30s/it]\u001b[A"
          ]
        },
        {
          "name": "stdout",
          "output_type": "stream",
          "text": [
            "Epoch : 50. Total: 44.16 secs, 4.42 secs/epoch.\n",
            "CUTOFF: 5 - PRECISION: 0.1330132, RECALL: 0.0500738, MAP: 0.0851842, NDCG: 0.0682852, F1: 0.0727575, HIT_RATE: 0.6650662, RMSE: 0.9439632, \n",
            "CUTOFF: 10 - PRECISION: 0.1132781, RECALL: 0.0857183, MAP: 0.0651772, NDCG: 0.0930475, F1: 0.0975898, HIT_RATE: 1.1327815, RMSE: 0.9439632, \n",
            "CUTOFF: 100 - PRECISION: 0.0532864, RECALL: 0.3691974, MAP: 0.0651296, NDCG: 0.2161172, F1: 0.0931312, HIT_RATE: 5.3286424, RMSE: 0.9439632, \n",
            "\n"
          ]
        },
        {
          "name": "stderr",
          "output_type": "stream",
          "text": [
            "\n",
            " 17%|█▋        | 51/300 [05:45<57:48, 13.93s/it]\u001b[A\n",
            " 17%|█▋        | 52/300 [05:45<40:42,  9.85s/it]\u001b[A\n",
            " 18%|█▊        | 53/300 [05:45<28:43,  6.98s/it]\u001b[A\n",
            " 18%|█▊        | 54/300 [05:46<20:20,  4.96s/it]\u001b[A\n",
            " 18%|█▊        | 55/300 [05:46<14:29,  3.55s/it]\u001b[A\n",
            " 19%|█▊        | 56/300 [06:07<36:05,  8.87s/it]\u001b[A\n",
            " 19%|█▉        | 57/300 [06:08<25:33,  6.31s/it]\u001b[A\n",
            " 19%|█▉        | 58/300 [06:08<18:09,  4.50s/it]\u001b[A\n",
            " 20%|█▉        | 59/300 [06:08<12:57,  3.23s/it]\u001b[A\n",
            " 20%|██        | 60/300 [06:08<09:20,  2.33s/it]\u001b[A"
          ]
        },
        {
          "name": "stdout",
          "output_type": "stream",
          "text": [
            "Epoch : 60. Total: 44.41 secs, 4.44 secs/epoch.\n",
            "CUTOFF: 5 - PRECISION: 0.1484768, RECALL: 0.0609610, MAP: 0.0968782, NDCG: 0.0806168, F1: 0.0864342, HIT_RATE: 0.7423841, RMSE: 0.9203581, \n",
            "CUTOFF: 10 - PRECISION: 0.1272517, RECALL: 0.1019041, MAP: 0.0759132, NDCG: 0.1090412, F1: 0.1131760, HIT_RATE: 1.2725166, RMSE: 0.9203581, \n",
            "CUTOFF: 100 - PRECISION: 0.0575563, RECALL: 0.4125814, MAP: 0.0780311, NDCG: 0.2435046, F1: 0.1010200, HIT_RATE: 5.7556291, RMSE: 0.9203581, \n",
            "\n"
          ]
        },
        {
          "name": "stderr",
          "output_type": "stream",
          "text": [
            "\n",
            " 20%|██        | 61/300 [06:50<56:00, 14.06s/it]\u001b[A\n",
            " 21%|██        | 62/300 [06:50<39:26,  9.94s/it]\u001b[A\n",
            " 21%|██        | 63/300 [06:50<27:48,  7.04s/it]\u001b[A\n",
            " 21%|██▏       | 64/300 [06:51<19:42,  5.01s/it]\u001b[A\n",
            " 22%|██▏       | 65/300 [06:51<14:03,  3.59s/it]\u001b[A\n",
            " 22%|██▏       | 66/300 [07:12<34:17,  8.79s/it]\u001b[A\n",
            " 22%|██▏       | 67/300 [07:12<24:17,  6.25s/it]\u001b[A\n",
            " 23%|██▎       | 68/300 [07:12<17:14,  4.46s/it]\u001b[A\n",
            " 23%|██▎       | 69/300 [07:13<12:18,  3.20s/it]\u001b[A\n",
            " 23%|██▎       | 70/300 [07:13<08:51,  2.31s/it]\u001b[A"
          ]
        },
        {
          "name": "stdout",
          "output_type": "stream",
          "text": [
            "Epoch : 70. Total: 44.13 secs, 4.41 secs/epoch.\n",
            "CUTOFF: 5 - PRECISION: 0.1597682, RECALL: 0.0688591, MAP: 0.1057585, NDCG: 0.0895206, F1: 0.0962395, HIT_RATE: 0.7988411, RMSE: 0.8988367, \n",
            "CUTOFF: 10 - PRECISION: 0.1384768, RECALL: 0.1164581, MAP: 0.0845369, NDCG: 0.1219337, F1: 0.1265166, HIT_RATE: 1.3847682, RMSE: 0.8988367, \n",
            "CUTOFF: 100 - PRECISION: 0.0604470, RECALL: 0.4402822, MAP: 0.0876326, NDCG: 0.2622501, F1: 0.1063000, HIT_RATE: 6.0447020, RMSE: 0.8988367, \n",
            "\n"
          ]
        },
        {
          "name": "stderr",
          "output_type": "stream",
          "text": [
            "\n",
            " 24%|██▎       | 71/300 [07:54<53:34, 14.04s/it]\u001b[A\n",
            " 24%|██▍       | 72/300 [07:55<37:46,  9.94s/it]\u001b[A\n",
            " 24%|██▍       | 73/300 [07:55<26:43,  7.06s/it]\u001b[A\n",
            " 25%|██▍       | 74/300 [07:55<19:01,  5.05s/it]\u001b[A\n",
            " 25%|██▌       | 75/300 [07:56<13:38,  3.64s/it]\u001b[A\n",
            " 25%|██▌       | 76/300 [08:17<32:44,  8.77s/it]\u001b[A\n",
            " 26%|██▌       | 77/300 [08:17<23:12,  6.24s/it]\u001b[A\n",
            " 26%|██▌       | 78/300 [08:17<16:29,  4.46s/it]\u001b[A\n",
            " 26%|██▋       | 79/300 [08:17<11:46,  3.20s/it]\u001b[A\n",
            " 27%|██▋       | 80/300 [08:18<08:29,  2.32s/it]\u001b[A"
          ]
        },
        {
          "name": "stdout",
          "output_type": "stream",
          "text": [
            "Epoch : 80. Total: 44.36 secs, 4.44 secs/epoch.\n",
            "CUTOFF: 5 - PRECISION: 0.1710265, RECALL: 0.0758827, MAP: 0.1134490, NDCG: 0.0970943, F1: 0.1051233, HIT_RATE: 0.8551325, RMSE: 0.8803998, \n",
            "CUTOFF: 10 - PRECISION: 0.1475497, RECALL: 0.1264933, MAP: 0.0916134, NDCG: 0.1315641, F1: 0.1362126, HIT_RATE: 1.4754967, RMSE: 0.8803998, \n",
            "CUTOFF: 100 - PRECISION: 0.0630166, RECALL: 0.4614592, MAP: 0.0955767, NDCG: 0.2770564, F1: 0.1108900, HIT_RATE: 6.3016556, RMSE: 0.8803998, \n",
            "\n"
          ]
        },
        {
          "name": "stderr",
          "output_type": "stream",
          "text": [
            "\n",
            " 27%|██▋       | 81/300 [08:59<51:02, 13.98s/it]\u001b[A\n",
            " 27%|██▋       | 82/300 [08:59<35:56,  9.89s/it]\u001b[A\n",
            " 28%|██▊       | 83/300 [09:00<25:21,  7.01s/it]\u001b[A\n",
            " 28%|██▊       | 84/300 [09:00<17:57,  4.99s/it]\u001b[A\n",
            " 28%|██▊       | 85/300 [09:00<12:47,  3.57s/it]\u001b[A\n",
            " 29%|██▊       | 86/300 [09:21<31:19,  8.78s/it]\u001b[A\n",
            " 29%|██▉       | 87/300 [09:21<22:11,  6.25s/it]\u001b[A\n",
            " 29%|██▉       | 88/300 [09:22<15:47,  4.47s/it]\u001b[A\n",
            " 30%|██▉       | 89/300 [09:22<11:17,  3.21s/it]\u001b[A\n",
            " 30%|███       | 90/300 [09:22<08:09,  2.33s/it]\u001b[A"
          ]
        },
        {
          "name": "stdout",
          "output_type": "stream",
          "text": [
            "Epoch : 90. Total: 44.21 secs, 4.42 secs/epoch.\n",
            "CUTOFF: 5 - PRECISION: 0.1783113, RECALL: 0.0806409, MAP: 0.1191796, NDCG: 0.1025844, F1: 0.1110567, HIT_RATE: 0.8915563, RMSE: 0.8646898, \n",
            "CUTOFF: 10 - PRECISION: 0.1540728, RECALL: 0.1336418, MAP: 0.0969211, NDCG: 0.1386441, F1: 0.1431319, HIT_RATE: 1.5407285, RMSE: 0.8646898, \n",
            "CUTOFF: 100 - PRECISION: 0.0654570, RECALL: 0.4807257, MAP: 0.1022592, NDCG: 0.2898843, F1: 0.1152246, HIT_RATE: 6.5456954, RMSE: 0.8646898, \n",
            "\n"
          ]
        },
        {
          "name": "stderr",
          "output_type": "stream",
          "text": [
            "\n",
            " 30%|███       | 91/300 [10:03<48:37, 13.96s/it]\u001b[A\n",
            " 31%|███       | 92/300 [10:04<34:14,  9.88s/it]\u001b[A\n",
            " 31%|███       | 93/300 [10:04<24:09,  7.00s/it]\u001b[A\n",
            " 31%|███▏      | 94/300 [10:04<17:07,  4.99s/it]\u001b[A\n",
            " 32%|███▏      | 95/300 [10:04<12:11,  3.57s/it]\u001b[A\n",
            " 32%|███▏      | 96/300 [10:25<29:38,  8.72s/it]\u001b[A\n",
            " 32%|███▏      | 97/300 [10:26<20:58,  6.20s/it]\u001b[A\n",
            " 33%|███▎      | 98/300 [10:26<14:53,  4.42s/it]\u001b[A\n",
            " 33%|███▎      | 99/300 [10:26<10:38,  3.18s/it]\u001b[A\n",
            " 33%|███▎      | 100/300 [10:26<07:40,  2.30s/it]\u001b[A"
          ]
        },
        {
          "name": "stdout",
          "output_type": "stream",
          "text": [
            "Epoch : 100. Total: 43.76 secs, 4.38 secs/epoch.\n",
            "CUTOFF: 5 - PRECISION: 0.1836755, RECALL: 0.0839986, MAP: 0.1238045, NDCG: 0.1069209, F1: 0.1152782, HIT_RATE: 0.9183775, RMSE: 0.8508879, \n",
            "CUTOFF: 10 - PRECISION: 0.1598344, RECALL: 0.1393872, MAP: 0.1017938, NDCG: 0.1446405, F1: 0.1489122, HIT_RATE: 1.5983444, RMSE: 0.8508879, \n",
            "CUTOFF: 100 - PRECISION: 0.0678311, RECALL: 0.4980385, MAP: 0.1084578, NDCG: 0.3012758, F1: 0.1194003, HIT_RATE: 6.7831126, RMSE: 0.8508879, \n",
            "\n"
          ]
        },
        {
          "name": "stderr",
          "output_type": "stream",
          "text": [
            "\n",
            " 34%|███▎      | 101/300 [11:08<46:18, 13.96s/it]\u001b[A\n",
            " 34%|███▍      | 102/300 [11:08<32:35,  9.87s/it]\u001b[A\n",
            " 34%|███▍      | 103/300 [11:08<22:57,  6.99s/it]\u001b[A\n",
            " 35%|███▍      | 104/300 [11:08<16:14,  4.97s/it]\u001b[A\n",
            " 35%|███▌      | 105/300 [11:09<11:33,  3.55s/it]\u001b[A\n",
            " 35%|███▌      | 106/300 [11:29<28:08,  8.71s/it]\u001b[A\n",
            " 36%|███▌      | 107/300 [11:30<19:55,  6.20s/it]\u001b[A\n",
            " 36%|███▌      | 108/300 [11:30<14:08,  4.42s/it]\u001b[A\n",
            " 36%|███▋      | 109/300 [11:30<10:05,  3.17s/it]\u001b[A\n",
            " 37%|███▋      | 110/300 [11:30<07:15,  2.29s/it]\u001b[A"
          ]
        },
        {
          "name": "stdout",
          "output_type": "stream",
          "text": [
            "Epoch : 110. Total: 43.82 secs, 4.38 secs/epoch.\n",
            "CUTOFF: 5 - PRECISION: 0.1888411, RECALL: 0.0875653, MAP: 0.1278019, NDCG: 0.1107379, F1: 0.1196494, HIT_RATE: 0.9442053, RMSE: 0.8388244, \n",
            "CUTOFF: 10 - PRECISION: 0.1638079, RECALL: 0.1441445, MAP: 0.1054318, NDCG: 0.1492541, F1: 0.1533485, HIT_RATE: 1.6380795, RMSE: 0.8388244, \n",
            "CUTOFF: 100 - PRECISION: 0.0699421, RECALL: 0.5129570, MAP: 0.1134887, NDCG: 0.3107910, F1: 0.1230994, HIT_RATE: 6.9942053, RMSE: 0.8388244, \n",
            "\n"
          ]
        },
        {
          "name": "stderr",
          "output_type": "stream",
          "text": [
            "\n",
            " 37%|███▋      | 111/300 [12:12<44:11, 14.03s/it]\u001b[A\n",
            " 37%|███▋      | 112/300 [12:12<31:04,  9.91s/it]\u001b[A\n",
            " 38%|███▊      | 113/300 [12:12<21:53,  7.02s/it]\u001b[A\n",
            " 38%|███▊      | 114/300 [12:13<15:28,  4.99s/it]\u001b[A\n",
            " 38%|███▊      | 115/300 [12:13<11:00,  3.57s/it]\u001b[A\n",
            " 39%|███▊      | 116/300 [12:34<26:44,  8.72s/it]\u001b[A\n",
            " 39%|███▉      | 117/300 [12:34<18:54,  6.20s/it]\u001b[A\n",
            " 39%|███▉      | 118/300 [12:34<13:25,  4.43s/it]\u001b[A\n",
            " 40%|███▉      | 119/300 [12:35<09:34,  3.17s/it]\u001b[A\n",
            " 40%|████      | 120/300 [12:35<06:53,  2.30s/it]\u001b[A"
          ]
        },
        {
          "name": "stdout",
          "output_type": "stream",
          "text": [
            "Epoch : 120. Total: 44.11 secs, 4.41 secs/epoch.\n",
            "CUTOFF: 5 - PRECISION: 0.1941391, RECALL: 0.0901942, MAP: 0.1315956, NDCG: 0.1139859, F1: 0.1231668, HIT_RATE: 0.9706954, RMSE: 0.8281379, \n",
            "CUTOFF: 10 - PRECISION: 0.1678311, RECALL: 0.1495338, MAP: 0.1087288, NDCG: 0.1538493, F1: 0.1581550, HIT_RATE: 1.6783113, RMSE: 0.8281379, \n",
            "CUTOFF: 100 - PRECISION: 0.0716490, RECALL: 0.5238362, MAP: 0.1179122, NDCG: 0.3185823, F1: 0.1260563, HIT_RATE: 7.1649007, RMSE: 0.8281379, \n",
            "\n"
          ]
        },
        {
          "name": "stderr",
          "output_type": "stream",
          "text": [
            "\n",
            " 40%|████      | 121/300 [13:16<41:45, 14.00s/it]\u001b[A\n",
            " 41%|████      | 122/300 [13:16<29:22,  9.90s/it]\u001b[A\n",
            " 41%|████      | 123/300 [13:17<20:43,  7.03s/it]\u001b[A\n",
            " 41%|████▏     | 124/300 [13:17<14:40,  5.01s/it]\u001b[A\n",
            " 42%|████▏     | 125/300 [13:17<10:28,  3.59s/it]\u001b[A\n",
            " 42%|████▏     | 126/300 [13:38<25:21,  8.75s/it]\u001b[A\n",
            " 42%|████▏     | 127/300 [13:38<17:56,  6.22s/it]\u001b[A\n",
            " 43%|████▎     | 128/300 [13:39<12:44,  4.44s/it]\u001b[A\n",
            " 43%|████▎     | 129/300 [13:39<09:04,  3.19s/it]\u001b[A\n",
            " 43%|████▎     | 130/300 [13:39<06:32,  2.31s/it]\u001b[A"
          ]
        },
        {
          "name": "stdout",
          "output_type": "stream",
          "text": [
            "Epoch : 130. Total: 43.99 secs, 4.40 secs/epoch.\n",
            "CUTOFF: 5 - PRECISION: 0.1979801, RECALL: 0.0923088, MAP: 0.1345431, NDCG: 0.1164936, F1: 0.1259112, HIT_RATE: 0.9899007, RMSE: 0.8188939, \n",
            "CUTOFF: 10 - PRECISION: 0.1714735, RECALL: 0.1531219, MAP: 0.1116454, NDCG: 0.1572946, F1: 0.1617790, HIT_RATE: 1.7147351, RMSE: 0.8188939, \n",
            "CUTOFF: 100 - PRECISION: 0.0731175, RECALL: 0.5330391, MAP: 0.1216094, NDCG: 0.3251028, F1: 0.1285955, HIT_RATE: 7.3117550, RMSE: 0.8188939, \n",
            "\n"
          ]
        },
        {
          "name": "stderr",
          "output_type": "stream",
          "text": [
            "\n",
            " 44%|████▎     | 131/300 [14:20<39:11, 13.91s/it]\u001b[A\n",
            " 44%|████▍     | 132/300 [14:21<27:31,  9.83s/it]\u001b[A\n",
            " 44%|████▍     | 133/300 [14:21<19:23,  6.96s/it]\u001b[A\n",
            " 45%|████▍     | 134/300 [14:21<13:41,  4.95s/it]\u001b[A\n",
            " 45%|████▌     | 135/300 [14:21<09:43,  3.54s/it]\u001b[A\n",
            " 45%|████▌     | 136/300 [14:42<23:51,  8.73s/it]\u001b[A\n",
            " 46%|████▌     | 137/300 [14:43<16:53,  6.22s/it]\u001b[A\n",
            " 46%|████▌     | 138/300 [14:43<12:00,  4.44s/it]\u001b[A\n",
            " 46%|████▋     | 139/300 [14:43<08:35,  3.20s/it]\u001b[A\n",
            " 47%|████▋     | 140/300 [14:43<06:12,  2.33s/it]\u001b[A"
          ]
        },
        {
          "name": "stdout",
          "output_type": "stream",
          "text": [
            "Epoch : 140. Total: 43.87 secs, 4.39 secs/epoch.\n",
            "CUTOFF: 5 - PRECISION: 0.2013907, RECALL: 0.0947084, MAP: 0.1372917, NDCG: 0.1194226, F1: 0.1288312, HIT_RATE: 1.0069536, RMSE: 0.8109964, \n",
            "CUTOFF: 10 - PRECISION: 0.1751325, RECALL: 0.1569466, MAP: 0.1148225, NDCG: 0.1612676, F1: 0.1655415, HIT_RATE: 1.7513245, RMSE: 0.8109964, \n",
            "CUTOFF: 100 - PRECISION: 0.0743394, RECALL: 0.5410394, MAP: 0.1253251, NDCG: 0.3312410, F1: 0.1307180, HIT_RATE: 7.4339404, RMSE: 0.8109964, \n",
            "\n"
          ]
        },
        {
          "name": "stderr",
          "output_type": "stream",
          "text": [
            "\n",
            " 47%|████▋     | 141/300 [15:25<37:07, 14.01s/it]\u001b[A\n",
            " 47%|████▋     | 142/300 [15:25<26:05,  9.91s/it]\u001b[A\n",
            " 48%|████▊     | 143/300 [15:25<18:22,  7.02s/it]\u001b[A\n",
            " 48%|████▊     | 144/300 [15:26<12:59,  5.00s/it]\u001b[A\n",
            " 48%|████▊     | 145/300 [15:26<09:15,  3.58s/it]\u001b[A\n",
            " 49%|████▊     | 146/300 [15:47<22:36,  8.81s/it]\u001b[A\n",
            " 49%|████▉     | 147/300 [15:47<15:59,  6.27s/it]\u001b[A\n",
            " 49%|████▉     | 148/300 [15:48<11:19,  4.47s/it]\u001b[A\n",
            " 50%|████▉     | 149/300 [15:48<08:04,  3.21s/it]\u001b[A\n",
            " 50%|█████     | 150/300 [15:48<05:48,  2.32s/it]\u001b[A"
          ]
        },
        {
          "name": "stdout",
          "output_type": "stream",
          "text": [
            "Epoch : 150. Total: 44.11 secs, 4.41 secs/epoch.\n",
            "CUTOFF: 5 - PRECISION: 0.2039735, RECALL: 0.0963675, MAP: 0.1389627, NDCG: 0.1210648, F1: 0.1308940, HIT_RATE: 1.0198675, RMSE: 0.8044378, \n",
            "CUTOFF: 10 - PRECISION: 0.1774172, RECALL: 0.1593681, MAP: 0.1165972, NDCG: 0.1635151, F1: 0.1679090, HIT_RATE: 1.7741722, RMSE: 0.8044378, \n",
            "CUTOFF: 100 - PRECISION: 0.0754255, RECALL: 0.5487503, MAP: 0.1279602, NDCG: 0.3360560, F1: 0.1326221, HIT_RATE: 7.5425497, RMSE: 0.8044378, \n",
            "\n"
          ]
        },
        {
          "name": "stderr",
          "output_type": "stream",
          "text": [
            "\n",
            " 50%|█████     | 151/300 [16:29<34:35, 13.93s/it]\u001b[A\n",
            " 51%|█████     | 152/300 [16:29<24:19,  9.86s/it]\u001b[A\n",
            " 51%|█████     | 153/300 [16:30<17:07,  6.99s/it]\u001b[A\n",
            " 51%|█████▏    | 154/300 [16:30<12:05,  4.97s/it]\u001b[A\n",
            " 52%|█████▏    | 155/300 [16:30<08:35,  3.56s/it]\u001b[A\n",
            " 52%|█████▏    | 156/300 [16:51<21:02,  8.77s/it]\u001b[A\n",
            " 52%|█████▏    | 157/300 [16:51<14:52,  6.24s/it]\u001b[A\n",
            " 53%|█████▎    | 158/300 [16:52<10:32,  4.45s/it]\u001b[A\n",
            " 53%|█████▎    | 159/300 [16:52<07:31,  3.20s/it]\u001b[A\n",
            " 53%|█████▎    | 160/300 [16:52<05:24,  2.32s/it]\u001b[A"
          ]
        },
        {
          "name": "stdout",
          "output_type": "stream",
          "text": [
            "Epoch : 160. Total: 43.95 secs, 4.39 secs/epoch.\n",
            "CUTOFF: 5 - PRECISION: 0.2059934, RECALL: 0.0973086, MAP: 0.1408680, NDCG: 0.1225422, F1: 0.1321780, HIT_RATE: 1.0299669, RMSE: 0.7990966, \n",
            "CUTOFF: 10 - PRECISION: 0.1796854, RECALL: 0.1628841, MAP: 0.1186360, NDCG: 0.1663188, F1: 0.1708728, HIT_RATE: 1.7968543, RMSE: 0.7990966, \n",
            "CUTOFF: 100 - PRECISION: 0.0763543, RECALL: 0.5529540, MAP: 0.1305173, NDCG: 0.3400388, F1: 0.1341804, HIT_RATE: 7.6354305, RMSE: 0.7990966, \n",
            "\n"
          ]
        },
        {
          "name": "stderr",
          "output_type": "stream",
          "text": [
            "\n",
            " 54%|█████▎    | 161/300 [17:34<32:34, 14.06s/it]\u001b[A\n",
            " 54%|█████▍    | 162/300 [17:34<22:52,  9.94s/it]\u001b[A\n",
            " 54%|█████▍    | 163/300 [17:34<16:05,  7.05s/it]\u001b[A\n",
            " 55%|█████▍    | 164/300 [17:35<11:21,  5.01s/it]\u001b[A\n",
            " 55%|█████▌    | 165/300 [17:35<08:03,  3.58s/it]\u001b[A\n",
            " 55%|█████▌    | 166/300 [17:56<19:37,  8.79s/it]\u001b[A\n",
            " 56%|█████▌    | 167/300 [17:56<13:52,  6.26s/it]\u001b[A\n",
            " 56%|█████▌    | 168/300 [17:56<09:49,  4.47s/it]\u001b[A\n",
            " 56%|█████▋    | 169/300 [17:57<07:00,  3.21s/it]\u001b[A\n",
            " 57%|█████▋    | 170/300 [17:57<05:02,  2.33s/it]\u001b[A"
          ]
        },
        {
          "name": "stdout",
          "output_type": "stream",
          "text": [
            "Epoch : 170. Total: 43.98 secs, 4.40 secs/epoch.\n",
            "CUTOFF: 5 - PRECISION: 0.2079801, RECALL: 0.0985153, MAP: 0.1424441, NDCG: 0.1239269, F1: 0.1337000, HIT_RATE: 1.0399007, RMSE: 0.7948605, \n",
            "CUTOFF: 10 - PRECISION: 0.1813576, RECALL: 0.1653305, MAP: 0.1201456, NDCG: 0.1684132, F1: 0.1729736, HIT_RATE: 1.8135762, RMSE: 0.7948605, \n",
            "CUTOFF: 100 - PRECISION: 0.0771275, RECALL: 0.5577284, MAP: 0.1326856, NDCG: 0.3436047, F1: 0.1355148, HIT_RATE: 7.7127483, RMSE: 0.7948605, \n",
            "\n"
          ]
        },
        {
          "name": "stderr",
          "output_type": "stream",
          "text": [
            "\n",
            " 57%|█████▋    | 171/300 [18:38<30:03, 13.98s/it]\u001b[A\n",
            " 57%|█████▋    | 172/300 [18:39<21:07,  9.90s/it]\u001b[A\n",
            " 58%|█████▊    | 173/300 [18:39<14:51,  7.02s/it]\u001b[A\n",
            " 58%|█████▊    | 174/300 [18:39<10:30,  5.00s/it]\u001b[A\n",
            " 58%|█████▊    | 175/300 [18:39<07:28,  3.58s/it]\u001b[A\n",
            " 59%|█████▊    | 176/300 [19:00<18:04,  8.75s/it]\u001b[A\n",
            " 59%|█████▉    | 177/300 [19:01<12:45,  6.23s/it]\u001b[A\n",
            " 59%|█████▉    | 178/300 [19:01<09:02,  4.44s/it]\u001b[A\n",
            " 60%|█████▉    | 179/300 [19:01<06:25,  3.19s/it]\u001b[A\n",
            " 60%|██████    | 180/300 [19:01<04:37,  2.31s/it]\u001b[A"
          ]
        },
        {
          "name": "stdout",
          "output_type": "stream",
          "text": [
            "Epoch : 180. Total: 43.97 secs, 4.40 secs/epoch.\n",
            "CUTOFF: 5 - PRECISION: 0.2095364, RECALL: 0.0995641, MAP: 0.1432841, NDCG: 0.1248186, F1: 0.1349872, HIT_RATE: 1.0476821, RMSE: 0.7915829, \n",
            "CUTOFF: 10 - PRECISION: 0.1829636, RECALL: 0.1669972, MAP: 0.1212197, NDCG: 0.1697320, F1: 0.1746162, HIT_RATE: 1.8296358, RMSE: 0.7915829, \n",
            "CUTOFF: 100 - PRECISION: 0.0777368, RECALL: 0.5613278, MAP: 0.1343680, NDCG: 0.3461379, F1: 0.1365615, HIT_RATE: 7.7736755, RMSE: 0.7915829, \n",
            "\n"
          ]
        },
        {
          "name": "stderr",
          "output_type": "stream",
          "text": [
            "\n",
            " 60%|██████    | 181/300 [19:43<27:42, 13.97s/it]\u001b[A\n",
            " 61%|██████    | 182/300 [19:43<19:25,  9.87s/it]\u001b[A\n",
            " 61%|██████    | 183/300 [19:43<13:38,  6.99s/it]\u001b[A\n",
            " 61%|██████▏   | 184/300 [19:43<09:36,  4.97s/it]\u001b[A\n",
            " 62%|██████▏   | 185/300 [19:44<06:48,  3.55s/it]\u001b[A\n",
            " 62%|██████▏   | 186/300 [20:05<16:45,  8.82s/it]\u001b[A\n",
            " 62%|██████▏   | 187/300 [20:05<11:49,  6.28s/it]\u001b[A\n",
            " 63%|██████▎   | 188/300 [20:05<08:22,  4.49s/it]\u001b[A\n",
            " 63%|██████▎   | 189/300 [20:06<05:58,  3.23s/it]\u001b[A\n",
            " 63%|██████▎   | 190/300 [20:06<04:18,  2.35s/it]\u001b[A"
          ]
        },
        {
          "name": "stdout",
          "output_type": "stream",
          "text": [
            "Epoch : 190. Total: 44.29 secs, 4.43 secs/epoch.\n",
            "CUTOFF: 5 - PRECISION: 0.2109603, RECALL: 0.1006146, MAP: 0.1441054, NDCG: 0.1259469, F1: 0.1362477, HIT_RATE: 1.0548013, RMSE: 0.7891390, \n",
            "CUTOFF: 10 - PRECISION: 0.1838245, RECALL: 0.1681914, MAP: 0.1220821, NDCG: 0.1709560, F1: 0.1756608, HIT_RATE: 1.8382450, RMSE: 0.7891390, \n",
            "CUTOFF: 100 - PRECISION: 0.0781772, RECALL: 0.5624151, MAP: 0.1357722, NDCG: 0.3479732, F1: 0.1372730, HIT_RATE: 7.8177152, RMSE: 0.7891390, \n",
            "\n"
          ]
        },
        {
          "name": "stderr",
          "output_type": "stream",
          "text": [
            "\n",
            " 64%|██████▎   | 191/300 [20:49<26:26, 14.55s/it]\u001b[A\n",
            " 64%|██████▍   | 192/300 [20:49<18:31, 10.29s/it]\u001b[A\n",
            " 64%|██████▍   | 193/300 [20:50<12:59,  7.29s/it]\u001b[A\n",
            " 65%|██████▍   | 194/300 [20:50<09:08,  5.17s/it]\u001b[A\n",
            " 65%|██████▌   | 195/300 [20:50<06:27,  3.69s/it]\u001b[A\n",
            " 65%|██████▌   | 196/300 [21:11<15:18,  8.83s/it]\u001b[A\n",
            " 66%|██████▌   | 197/300 [21:11<10:46,  6.28s/it]\u001b[A\n",
            " 66%|██████▌   | 198/300 [21:12<07:36,  4.48s/it]\u001b[A\n",
            " 66%|██████▋   | 199/300 [21:12<05:24,  3.21s/it]\u001b[A\n",
            " 67%|██████▋   | 200/300 [21:12<03:51,  2.32s/it]\u001b[A"
          ]
        },
        {
          "name": "stdout",
          "output_type": "stream",
          "text": [
            "Epoch : 200. Total: 43.90 secs, 4.39 secs/epoch.\n",
            "CUTOFF: 5 - PRECISION: 0.2122848, RECALL: 0.1014960, MAP: 0.1452223, NDCG: 0.1268734, F1: 0.1373319, HIT_RATE: 1.0614238, RMSE: 0.7874155, \n",
            "CUTOFF: 10 - PRECISION: 0.1840563, RECALL: 0.1682481, MAP: 0.1226176, NDCG: 0.1715264, F1: 0.1757975, HIT_RATE: 1.8405629, RMSE: 0.7874155, \n",
            "CUTOFF: 100 - PRECISION: 0.0786142, RECALL: 0.5636101, MAP: 0.1369461, NDCG: 0.3495630, F1: 0.1379822, HIT_RATE: 7.8614238, RMSE: 0.7874155, \n",
            "\n"
          ]
        },
        {
          "name": "stderr",
          "output_type": "stream",
          "text": [
            "\n",
            " 67%|██████▋   | 201/300 [21:53<22:57, 13.92s/it]\u001b[A\n",
            " 67%|██████▋   | 202/300 [21:53<16:04,  9.84s/it]\u001b[A\n",
            " 68%|██████▊   | 203/300 [21:54<11:16,  6.97s/it]\u001b[A\n",
            " 68%|██████▊   | 204/300 [21:54<07:55,  4.96s/it]\u001b[A\n",
            " 68%|██████▊   | 205/300 [21:54<05:36,  3.54s/it]\u001b[A\n",
            " 69%|██████▊   | 206/300 [22:15<13:39,  8.72s/it]\u001b[A\n",
            " 69%|██████▉   | 207/300 [22:15<09:36,  6.20s/it]\u001b[A\n",
            " 69%|██████▉   | 208/300 [22:16<06:47,  4.42s/it]\u001b[A\n",
            " 70%|██████▉   | 209/300 [22:16<04:48,  3.18s/it]\u001b[A\n",
            " 70%|███████   | 210/300 [22:16<03:26,  2.30s/it]\u001b[A"
          ]
        },
        {
          "name": "stdout",
          "output_type": "stream",
          "text": [
            "Epoch : 210. Total: 43.95 secs, 4.39 secs/epoch.\n",
            "CUTOFF: 5 - PRECISION: 0.2116887, RECALL: 0.1017812, MAP: 0.1449924, NDCG: 0.1267524, F1: 0.1374673, HIT_RATE: 1.0584437, RMSE: 0.7863468, \n",
            "CUTOFF: 10 - PRECISION: 0.1845364, RECALL: 0.1690891, MAP: 0.1226713, NDCG: 0.1719158, F1: 0.1764754, HIT_RATE: 1.8453642, RMSE: 0.7863468, \n",
            "CUTOFF: 100 - PRECISION: 0.0789272, RECALL: 0.5642360, MAP: 0.1375066, NDCG: 0.3503410, F1: 0.1384829, HIT_RATE: 7.8927152, RMSE: 0.7863468, \n",
            "\n"
          ]
        },
        {
          "name": "stderr",
          "output_type": "stream",
          "text": [
            "\n",
            " 70%|███████   | 211/300 [22:57<20:32, 13.85s/it]\u001b[A\n",
            " 71%|███████   | 212/300 [22:57<14:21,  9.79s/it]\u001b[A\n",
            " 71%|███████   | 213/300 [22:57<10:04,  6.95s/it]\u001b[A\n",
            " 71%|███████▏  | 214/300 [22:58<07:05,  4.95s/it]\u001b[A\n",
            " 72%|███████▏  | 215/300 [22:58<05:01,  3.55s/it]\u001b[A\n",
            " 72%|███████▏  | 216/300 [23:19<12:13,  8.73s/it]\u001b[A\n",
            " 72%|███████▏  | 217/300 [23:19<08:36,  6.22s/it]\u001b[A\n",
            " 73%|███████▎  | 218/300 [23:20<06:04,  4.44s/it]\u001b[A\n",
            " 73%|███████▎  | 219/300 [23:20<04:19,  3.20s/it]\u001b[A\n",
            " 73%|███████▎  | 220/300 [23:20<03:06,  2.33s/it]\u001b[A"
          ]
        },
        {
          "name": "stdout",
          "output_type": "stream",
          "text": [
            "Epoch : 220. Total: 43.69 secs, 4.37 secs/epoch.\n",
            "CUTOFF: 5 - PRECISION: 0.2121192, RECALL: 0.1019688, MAP: 0.1447662, NDCG: 0.1269226, F1: 0.1377292, HIT_RATE: 1.0605960, RMSE: 0.7858409, \n",
            "CUTOFF: 10 - PRECISION: 0.1847185, RECALL: 0.1691247, MAP: 0.1225114, NDCG: 0.1720319, F1: 0.1765780, HIT_RATE: 1.8471854, RMSE: 0.7858409, \n",
            "CUTOFF: 100 - PRECISION: 0.0791854, RECALL: 0.5639380, MAP: 0.1379405, NDCG: 0.3507794, F1: 0.1388712, HIT_RATE: 7.9185430, RMSE: 0.7858409, \n",
            "\n"
          ]
        },
        {
          "name": "stderr",
          "output_type": "stream",
          "text": [
            "\n",
            " 74%|███████▎  | 221/300 [24:01<18:29, 14.04s/it]\u001b[A\n",
            " 74%|███████▍  | 222/300 [24:02<12:54,  9.93s/it]\u001b[A\n",
            " 74%|███████▍  | 223/300 [24:02<09:01,  7.03s/it]\u001b[A\n",
            " 75%|███████▍  | 224/300 [24:02<06:19,  4.99s/it]\u001b[A\n",
            " 75%|███████▌  | 225/300 [24:03<04:27,  3.57s/it]\u001b[A\n",
            " 75%|███████▌  | 226/300 [24:23<10:44,  8.71s/it]\u001b[A\n",
            " 76%|███████▌  | 227/300 [24:24<07:32,  6.20s/it]\u001b[A\n",
            " 76%|███████▌  | 228/300 [24:24<05:18,  4.43s/it]\u001b[A\n",
            " 76%|███████▋  | 229/300 [24:24<03:46,  3.19s/it]\u001b[A\n",
            " 77%|███████▋  | 230/300 [24:24<02:42,  2.32s/it]\u001b[A"
          ]
        },
        {
          "name": "stdout",
          "output_type": "stream",
          "text": [
            "Epoch : 230. Total: 43.75 secs, 4.38 secs/epoch.\n",
            "CUTOFF: 5 - PRECISION: 0.2118543, RECALL: 0.1017359, MAP: 0.1449860, NDCG: 0.1270654, F1: 0.1374608, HIT_RATE: 1.0592715, RMSE: 0.7858350, \n",
            "CUTOFF: 10 - PRECISION: 0.1852483, RECALL: 0.1697799, MAP: 0.1227011, NDCG: 0.1726853, F1: 0.1771772, HIT_RATE: 1.8524834, RMSE: 0.7858350, \n",
            "CUTOFF: 100 - PRECISION: 0.0793974, RECALL: 0.5626865, MAP: 0.1383381, NDCG: 0.3510792, F1: 0.1391588, HIT_RATE: 7.9397351, RMSE: 0.7858350, \n",
            "\n"
          ]
        },
        {
          "name": "stderr",
          "output_type": "stream",
          "text": [
            "\n",
            " 77%|███████▋  | 231/300 [25:06<16:06, 14.01s/it]\u001b[A\n",
            " 77%|███████▋  | 232/300 [25:06<11:14,  9.92s/it]\u001b[A\n",
            " 78%|███████▊  | 233/300 [25:06<07:50,  7.03s/it]\u001b[A\n",
            " 78%|███████▊  | 234/300 [25:07<05:29,  5.00s/it]\u001b[A\n",
            " 78%|███████▊  | 235/300 [25:07<03:52,  3.57s/it]\u001b[A\n",
            " 79%|███████▊  | 236/300 [25:28<09:20,  8.75s/it]\u001b[A\n",
            " 79%|███████▉  | 237/300 [25:28<06:33,  6.24s/it]\u001b[A\n",
            " 79%|███████▉  | 238/300 [25:29<04:36,  4.47s/it]\u001b[A\n",
            " 80%|███████▉  | 239/300 [25:29<03:16,  3.22s/it]\u001b[A\n",
            " 80%|████████  | 240/300 [25:29<02:20,  2.34s/it]\u001b[A"
          ]
        },
        {
          "name": "stdout",
          "output_type": "stream",
          "text": [
            "Epoch : 240. Total: 44.21 secs, 4.42 secs/epoch.\n",
            "CUTOFF: 5 - PRECISION: 0.2116887, RECALL: 0.1016989, MAP: 0.1445899, NDCG: 0.1269367, F1: 0.1373923, HIT_RATE: 1.0584437, RMSE: 0.7862823, \n",
            "CUTOFF: 10 - PRECISION: 0.1848013, RECALL: 0.1688721, MAP: 0.1224185, NDCG: 0.1721012, F1: 0.1764780, HIT_RATE: 1.8480132, RMSE: 0.7862823, \n",
            "CUTOFF: 100 - PRECISION: 0.0793477, RECALL: 0.5606791, MAP: 0.1381342, NDCG: 0.3503889, F1: 0.1390210, HIT_RATE: 7.9347682, RMSE: 0.7862823, \n",
            "\n"
          ]
        },
        {
          "name": "stderr",
          "output_type": "stream",
          "text": [
            "\n",
            " 80%|████████  | 241/300 [26:10<13:48, 14.04s/it]\u001b[A\n",
            " 81%|████████  | 242/300 [26:11<09:36,  9.94s/it]\u001b[A\n",
            " 81%|████████  | 243/300 [26:11<06:41,  7.04s/it]\u001b[A\n",
            " 81%|████████▏ | 244/300 [26:11<04:40,  5.00s/it]\u001b[A\n",
            " 82%|████████▏ | 245/300 [26:12<03:16,  3.58s/it]\u001b[A\n",
            " 82%|████████▏ | 246/300 [26:32<07:52,  8.74s/it]\u001b[A\n",
            " 82%|████████▏ | 247/300 [26:33<05:29,  6.22s/it]\u001b[A\n",
            " 83%|████████▎ | 248/300 [26:33<03:50,  4.44s/it]\u001b[A\n",
            " 83%|████████▎ | 249/300 [26:33<02:42,  3.19s/it]\u001b[A\n",
            " 83%|████████▎ | 250/300 [26:34<01:55,  2.31s/it]\u001b[A"
          ]
        },
        {
          "name": "stdout",
          "output_type": "stream",
          "text": [
            "Epoch : 250. Total: 43.99 secs, 4.40 secs/epoch.\n",
            "CUTOFF: 5 - PRECISION: 0.2111589, RECALL: 0.1015016, MAP: 0.1438051, NDCG: 0.1265928, F1: 0.1371005, HIT_RATE: 1.0557947, RMSE: 0.7871155, \n",
            "CUTOFF: 10 - PRECISION: 0.1837417, RECALL: 0.1676128, MAP: 0.1216098, NDCG: 0.1710833, F1: 0.1753071, HIT_RATE: 1.8374172, RMSE: 0.7871155, \n",
            "CUTOFF: 100 - PRECISION: 0.0793195, RECALL: 0.5583204, MAP: 0.1376926, NDCG: 0.3493293, F1: 0.1389051, HIT_RATE: 7.9319536, RMSE: 0.7871155, \n",
            "\n"
          ]
        },
        {
          "name": "stderr",
          "output_type": "stream",
          "text": [
            "\n",
            " 84%|████████▎ | 251/300 [27:15<11:23, 13.95s/it]\u001b[A\n",
            " 84%|████████▍ | 252/300 [27:15<07:53,  9.86s/it]\u001b[A\n",
            " 84%|████████▍ | 253/300 [27:15<05:28,  6.99s/it]\u001b[A\n",
            " 85%|████████▍ | 254/300 [27:15<03:48,  4.97s/it]\u001b[A\n",
            " 85%|████████▌ | 255/300 [27:16<02:40,  3.56s/it]\u001b[A\n",
            " 85%|████████▌ | 256/300 [27:37<06:33,  8.95s/it]\u001b[A\n",
            " 86%|████████▌ | 257/300 [27:38<04:33,  6.36s/it]\u001b[A\n",
            " 86%|████████▌ | 258/300 [27:38<03:10,  4.54s/it]\u001b[A\n",
            " 86%|████████▋ | 259/300 [27:38<02:13,  3.25s/it]\u001b[A\n",
            " 87%|████████▋ | 260/300 [27:38<01:34,  2.35s/it]\u001b[A"
          ]
        },
        {
          "name": "stdout",
          "output_type": "stream",
          "text": [
            "Epoch : 260. Total: 44.76 secs, 4.48 secs/epoch.\n",
            "CUTOFF: 5 - PRECISION: 0.2102318, RECALL: 0.1006689, MAP: 0.1427395, NDCG: 0.1256462, F1: 0.1361451, HIT_RATE: 1.0511589, RMSE: 0.7882957, \n",
            "CUTOFF: 10 - PRECISION: 0.1834437, RECALL: 0.1668354, MAP: 0.1208915, NDCG: 0.1701413, F1: 0.1747458, HIT_RATE: 1.8344371, RMSE: 0.7882957, \n",
            "CUTOFF: 100 - PRECISION: 0.0792252, RECALL: 0.5557778, MAP: 0.1369722, NDCG: 0.3478151, F1: 0.1386815, HIT_RATE: 7.9225166, RMSE: 0.7882957, \n",
            "\n"
          ]
        },
        {
          "name": "stderr",
          "output_type": "stream",
          "text": [
            "\n",
            " 87%|████████▋ | 261/300 [28:20<09:05, 14.00s/it]\u001b[A\n",
            " 87%|████████▋ | 262/300 [28:20<06:16,  9.91s/it]\u001b[A\n",
            " 88%|████████▊ | 263/300 [28:20<04:20,  7.03s/it]\u001b[A\n",
            " 88%|████████▊ | 264/300 [28:21<03:00,  5.01s/it]\u001b[A\n",
            " 88%|████████▊ | 265/300 [28:21<02:05,  3.59s/it]\u001b[A\n",
            " 89%|████████▊ | 266/300 [28:42<04:57,  8.74s/it]\u001b[A\n",
            " 89%|████████▉ | 267/300 [28:42<03:25,  6.22s/it]\u001b[A\n",
            " 89%|████████▉ | 268/300 [28:42<02:22,  4.44s/it]\u001b[A\n",
            " 90%|████████▉ | 269/300 [28:42<01:38,  3.19s/it]\u001b[A\n",
            " 90%|█████████ | 270/300 [28:43<01:09,  2.31s/it]\u001b[A"
          ]
        },
        {
          "name": "stdout",
          "output_type": "stream",
          "text": [
            "Epoch : 270. Total: 43.94 secs, 4.39 secs/epoch.\n",
            "CUTOFF: 5 - PRECISION: 0.2088079, RECALL: 0.1003241, MAP: 0.1418806, NDCG: 0.1253084, F1: 0.1355308, HIT_RATE: 1.0440397, RMSE: 0.7897759, \n",
            "CUTOFF: 10 - PRECISION: 0.1831788, RECALL: 0.1665970, MAP: 0.1205646, NDCG: 0.1698733, F1: 0.1744949, HIT_RATE: 1.8317881, RMSE: 0.7897759, \n",
            "CUTOFF: 100 - PRECISION: 0.0789586, RECALL: 0.5515115, MAP: 0.1363336, NDCG: 0.3461102, F1: 0.1381400, HIT_RATE: 7.8958609, RMSE: 0.7897759, \n",
            "\n"
          ]
        },
        {
          "name": "stderr",
          "output_type": "stream",
          "text": [
            "\n",
            " 90%|█████████ | 271/300 [29:24<06:44, 13.95s/it]\u001b[A\n",
            " 91%|█████████ | 272/300 [29:24<04:36,  9.88s/it]\u001b[A\n",
            " 91%|█████████ | 273/300 [29:25<03:09,  7.01s/it]\u001b[A\n",
            " 91%|█████████▏| 274/300 [29:25<02:10,  5.00s/it]\u001b[A\n",
            " 92%|█████████▏| 275/300 [29:25<01:29,  3.59s/it]\u001b[A\n",
            " 92%|█████████▏| 276/300 [29:46<03:32,  8.84s/it]\u001b[A\n",
            " 92%|█████████▏| 277/300 [29:47<02:25,  6.31s/it]\u001b[A\n",
            " 93%|█████████▎| 278/300 [29:47<01:39,  4.52s/it]\u001b[A\n",
            " 93%|█████████▎| 279/300 [29:47<01:08,  3.25s/it]\u001b[A\n",
            " 93%|█████████▎| 280/300 [29:48<00:47,  2.37s/it]\u001b[A"
          ]
        },
        {
          "name": "stdout",
          "output_type": "stream",
          "text": [
            "Epoch : 280. Total: 44.51 secs, 4.45 secs/epoch.\n",
            "CUTOFF: 5 - PRECISION: 0.2075166, RECALL: 0.0995894, MAP: 0.1412627, NDCG: 0.1248082, F1: 0.1345884, HIT_RATE: 1.0375828, RMSE: 0.7915137, \n",
            "CUTOFF: 10 - PRECISION: 0.1821026, RECALL: 0.1657642, MAP: 0.1199787, NDCG: 0.1691806, F1: 0.1735497, HIT_RATE: 1.8210265, RMSE: 0.7915137, \n",
            "CUTOFF: 100 - PRECISION: 0.0787930, RECALL: 0.5486775, MAP: 0.1357285, NDCG: 0.3447221, F1: 0.1377976, HIT_RATE: 7.8793046, RMSE: 0.7915137, \n",
            "\n"
          ]
        },
        {
          "name": "stderr",
          "output_type": "stream",
          "text": [
            "\n",
            " 94%|█████████▎| 281/300 [30:29<04:27, 14.07s/it]\u001b[A\n",
            " 94%|█████████▍| 282/300 [30:29<02:59,  9.96s/it]\u001b[A\n",
            " 94%|█████████▍| 283/300 [30:30<02:00,  7.06s/it]\u001b[A\n",
            " 95%|█████████▍| 284/300 [30:30<01:20,  5.03s/it]\u001b[A\n",
            " 95%|█████████▌| 285/300 [30:30<00:54,  3.61s/it]\u001b[A\n",
            " 95%|█████████▌| 286/300 [30:51<02:03,  8.84s/it]\u001b[A\n",
            " 96%|█████████▌| 287/300 [30:52<01:21,  6.29s/it]\u001b[A\n",
            " 96%|█████████▌| 288/300 [30:52<00:53,  4.49s/it]\u001b[A\n",
            " 96%|█████████▋| 289/300 [30:52<00:35,  3.22s/it]\u001b[A\n",
            " 97%|█████████▋| 290/300 [30:52<00:23,  2.33s/it]\u001b[A"
          ]
        },
        {
          "name": "stdout",
          "output_type": "stream",
          "text": [
            "Epoch : 290. Total: 44.40 secs, 4.44 secs/epoch.\n",
            "CUTOFF: 5 - PRECISION: 0.2052649, RECALL: 0.0981321, MAP: 0.1397368, NDCG: 0.1234053, F1: 0.1327836, HIT_RATE: 1.0263245, RMSE: 0.7934643, \n",
            "CUTOFF: 10 - PRECISION: 0.1811589, RECALL: 0.1645227, MAP: 0.1189206, NDCG: 0.1679302, F1: 0.1724405, HIT_RATE: 1.8115894, RMSE: 0.7934643, \n",
            "CUTOFF: 100 - PRECISION: 0.0784702, RECALL: 0.5454796, MAP: 0.1344535, NDCG: 0.3424797, F1: 0.1372030, HIT_RATE: 7.8470199, RMSE: 0.7934643, \n",
            "\n"
          ]
        },
        {
          "name": "stderr",
          "output_type": "stream",
          "text": [
            "\n",
            " 97%|█████████▋| 291/300 [31:34<02:06, 14.06s/it]\u001b[A\n",
            " 97%|█████████▋| 292/300 [31:34<01:19,  9.94s/it]\u001b[A\n",
            " 98%|█████████▊| 293/300 [31:34<00:49,  7.04s/it]\u001b[A\n",
            " 98%|█████████▊| 294/300 [31:35<00:30,  5.01s/it]\u001b[A\n",
            " 98%|█████████▊| 295/300 [31:35<00:17,  3.58s/it]\u001b[A\n",
            " 99%|█████████▊| 296/300 [31:56<00:35,  8.78s/it]\u001b[A\n",
            " 99%|█████████▉| 297/300 [31:56<00:18,  6.25s/it]\u001b[A\n",
            " 99%|█████████▉| 298/300 [31:56<00:08,  4.46s/it]\u001b[A\n",
            "100%|█████████▉| 299/300 [31:57<00:03,  3.19s/it]\u001b[A\n",
            "100%|██████████| 300/300 [31:57<00:00,  2.31s/it]\u001b[A"
          ]
        },
        {
          "name": "stdout",
          "output_type": "stream",
          "text": [
            "Epoch : 300. Total: 44.13 secs, 4.41 secs/epoch.\n",
            "CUTOFF: 5 - PRECISION: 0.2047351, RECALL: 0.0980070, MAP: 0.1388544, NDCG: 0.1229147, F1: 0.1325582, HIT_RATE: 1.0236755, RMSE: 0.7956042, \n",
            "CUTOFF: 10 - PRECISION: 0.1800166, RECALL: 0.1627580, MAP: 0.1178788, NDCG: 0.1666120, F1: 0.1709528, HIT_RATE: 1.8001656, RMSE: 0.7956042, \n",
            "CUTOFF: 100 - PRECISION: 0.0780712, RECALL: 0.5407580, MAP: 0.1332479, NDCG: 0.3399497, F1: 0.1364435, HIT_RATE: 7.8071192, RMSE: 0.7956042, \n",
            "\n"
          ]
        },
        {
          "name": "stderr",
          "output_type": "stream",
          "text": [
            "\n",
            "301it [32:39,  6.53s/it]\n"
          ]
        },
        {
          "data": {
            "text/plain": [
              "301"
            ]
          },
          "execution_count": 24,
          "metadata": {},
          "output_type": "execute_result"
        }
      ],
      "source": [
        "gan.fit(num_factors=250,\n",
        "        emb_dim=461,\n",
        "        d_reg=0.0001,\n",
        "        g_reg=0,\n",
        "        epochs=300,\n",
        "        batch_size=512,\n",
        "        g_lr=0.0001,\n",
        "        d_lr=0.0001,\n",
        "        d_steps=1,\n",
        "        g_steps=1,\n",
        "        recon_coefficient=0.1728565040890659,\n",
        "        m=10,\n",
        "        allow_worse=5,\n",
        "        freq=5,\n",
        "        validation_evaluator=evaluatorValidation,\n",
        "        sample_every=10,\n",
        "        validation_set=URM_validation)"
      ]
    },
    {
      "cell_type": "code",
      "execution_count": null,
      "metadata": {
        "colab": {
          "base_uri": "https://localhost:8080/"
        },
        "id": "eGRpCqzBvcpE",
        "outputId": "ebdf60e4-8caf-4b39-e0b6-066187883b3c"
      },
      "outputs": [
        {
          "name": "stderr",
          "output_type": "stream",
          "text": [
            "<ipython-input-11-51a3e3fe9a07>:90: DeprecationWarning: `np.bool` is a deprecated alias for the builtin `bool`. To silence this warning, use `bool` by itself. Doing this will not modify any behavior and is safe. If you specifically wanted the numpy scalar type, use `np.bool_` here.\n",
            "Deprecated in NumPy 1.20; for more details and guidance: https://numpy.org/devdocs/release/1.20.0-notes.html#deprecations\n",
            "  usersToEvaluate_mask = np.zeros(self.n_users, dtype=np.bool)\n"
          ]
        }
      ],
      "source": [
        "evaluator = EvaluatorHoldout(URM_test, [5,10,100], exclude_seen=True)"
      ]
    },
    {
      "cell_type": "code",
      "execution_count": null,
      "metadata": {
        "colab": {
          "base_uri": "https://localhost:8080/"
        },
        "id": "pHSRsR-cZh-r",
        "outputId": "cdd3702a-1f77-4140-dde4-59958f98b6f1"
      },
      "outputs": [
        {
          "name": "stdout",
          "output_type": "stream",
          "text": [
            "CUTOFF: 5 - PRECISION: 0.2291722, RECALL: 0.0955034, MAP: 0.1501598, NDCG: 0.1286003, F1: 0.1348221, HIT_RATE: 1.1458609, RMSE: 0.7964392, \n",
            "CUTOFF: 10 - PRECISION: 0.2022185, RECALL: 0.1607081, MAP: 0.1250872, NDCG: 0.1757140, F1: 0.1790894, HIT_RATE: 2.0221854, RMSE: 0.7964392, \n",
            "CUTOFF: 100 - PRECISION: 0.0858295, RECALL: 0.5395107, MAP: 0.1410441, NDCG: 0.3594203, F1: 0.1480983, HIT_RATE: 8.5829470, RMSE: 0.7964392, \n",
            "\n"
          ]
        }
      ],
      "source": [
        "results_dic, results_run_string = evaluator.evaluateRecommender(gan)\n",
        "print(results_run_string)"
      ]
    },
    {
      "cell_type": "code",
      "execution_count": null,
      "metadata": {
        "id": "Feqc6nLz5uQp"
      },
      "outputs": [],
      "source": [
        "recommended_items_batch_list, scores_batch = gan.recommend(user_id_array=np.array([i for i in range(1,101)]),\n",
        "                                                                      remove_seen_flag=True,\n",
        "                                                                      cutoff = 10,\n",
        "                                                                      remove_top_pop_flag=False,\n",
        "                                                                      remove_CustomItems_flag=False,\n",
        "                                                                      return_scores = True\n",
        "                                                                     )"
      ]
    },
    {
      "cell_type": "code",
      "execution_count": null,
      "metadata": {
        "colab": {
          "base_uri": "https://localhost:8080/"
        },
        "id": "U45KS0hKSTnl",
        "outputId": "a34d4b1c-1860-41b4-a80f-8ef923bc2e5e"
      },
      "outputs": [
        {
          "data": {
            "text/plain": [
              "array([[ 699,  367, 1449,  460,  737, 1476,  309, 1877, 1781,  253],\n",
              "       [1108,    0, 2599, 2710, 1186, 2426, 2586, 2775, 2958,  578],\n",
              "       [1106, 1212,  106, 1199, 1148,  443,  802, 1110, 1478, 2374],\n",
              "       [2557, 2202,  287,  216, 2143, 1536, 1022,   49,  443, 2203],\n",
              "       [ 858, 1767,  838, 3277,  573,  347,   38, 1173, 3321,  525],\n",
              "       [ 575,  699,  367, 1449, 1877,  802,   20, 3341, 1120, 1732],\n",
              "       [1294, 3186, 2099,   60, 2374,  579,  309, 2748, 1260,  291],\n",
              "       [1563, 1848,  287, 3341, 2203, 2785,  346, 3510,  593, 2198],\n",
              "       [1178,  963, 2426, 1900, 3256, 2213, 3165,  357,  574, 1767],\n",
              "       [1398, 2131, 2400, 2651,   38, 1504,  216, 3029, 3039,    0],\n",
              "       [ 851, 1843, 1104, 1839, 1123, 1135,  847, 1138, 1117,  593],\n",
              "       [ 699,  339, 1275, 1848, 1428,    9, 3256, 1277, 2012,  202],\n",
              "       [2897, 2866, 1123, 1118, 2501, 2511, 2505, 2748, 3321, 2958],\n",
              "       [1492, 2651, 2748, 1445,  339,  367, 2683,  593, 1618, 1428],\n",
              "       [2384, 1731, 2490, 2501, 1394, 2513, 2621, 2505, 2399, 2296],\n",
              "       [ 527, 1161, 3460, 1209, 1516, 2708, 3294, 2773,  593, 1052],\n",
              "       [1825,  354, 1904, 1439, 1934, 1993, 1915, 1029,  582,  466],\n",
              "       [1166, 2511, 1275, 2708, 1236,  578, 1106, 2505, 1838, 2415],\n",
              "       [  49,  106, 3550, 3512, 1449,  466,  737, 2557, 1877, 1445],\n",
              "       [2898,  354, 1727,  581, 2483, 1900, 2941, 1303, 2203, 2102],\n",
              "       [2708, 1292, 2819,  699,  283,  279, 2374,  101, 1953, 2599],\n",
              "       [1275, 2757, 1841, 1485, 1516, 3462,  863, 1258, 1406, 2438],\n",
              "       [1107, 1788, 3293, 1178, 1120,  287, 3132, 1123, 1485, 2277],\n",
              "       [2200,  307, 2958, 1106, 1406,  466, 1453, 2557, 2203, 3177],\n",
              "       [1919, 1613, 1371, 3216, 2110, 2142, 1526, 1820,  799, 3291],\n",
              "       [2005,  862,  849, 3107, 1192, 1139, 1131, 1091,  843, 1106],\n",
              "       [1178,  575,  971,  527, 1215, 1167,  802, 1155, 1537,  859],\n",
              "       [1199, 1275, 2013, 1111, 1124, 1848, 3412,  253, 1029, 3186],\n",
              "       [1123,  579,   33, 1563, 2374, 1017,  443, 2131, 2203,   35],\n",
              "       [2586, 1202, 1007, 1186,  890, 1177, 1969, 2857, 3318, 1295],\n",
              "       [1066,   49, 1017,  575, 1449, 1133, 1478, 2885, 2785,  287],\n",
              "       [1774, 1186,  971, 1814,  287, 1104, 1113, 1160,  443, 1563],\n",
              "       [2710,  583, 1215,  525, 1295, 3318, 1205, 2990, 2871, 2592],\n",
              "       [1767, 1190,  258, 2944, 1212, 2203,  495, 1016,  957, 1155],\n",
              "       [2708,  466, 1130, 1132,  737,  367, 2990, 1295, 1445, 2775],\n",
              "       [2231,  525,  853,  346, 1294, 1574,   10, 1537, 1899,  426],\n",
              "       [2231, 2469,  583, 1900, 1613,    6, 1173,  581,   16, 1657],\n",
              "       [3383, 2480, 2202, 2507, 2501, 2495, 2490, 2496, 2775, 2651],\n",
              "       [1170, 1158, 3137,  954, 1199, 2468,  253, 1980, 1825, 1195],\n",
              "       [2374, 1108,  346, 1848, 1104, 2793,  575, 2480, 3429,  573],\n",
              "       [3294, 1025, 1406, 2374, 1841,  253, 2214, 1108,  578, 1820],\n",
              "       [1173, 2959, 2785, 2511,    0, 2480, 2519, 2565, 3341, 2346],\n",
              "       [1178, 1025, 1825,  466, 1120, 2426, 2374, 3246, 1919, 1900],\n",
              "       [ 837,  525, 1441,  229,  583, 1927, 2128, 3374, 1964, 1708],\n",
              "       [1796, 1805, 1799, 1811, 2318, 1798, 3049, 3670, 3671,  596],\n",
              "       [ 287,  593,  802, 1135, 1563,  107, 2651, 2131, 1260, 1117],\n",
              "       [ 354,  346, 1873, 1258,  572,  627, 1276, 2277, 1476,  144],\n",
              "       [2374,  574,  106, 1445, 2483,  627, 1575, 1478,    9, 1273],\n",
              "       [3510, 3550, 3277, 3383, 2651, 3377, 3321, 3509, 1449, 3384],\n",
              "       [3701, 2162, 3508,  346, 2203, 1743, 2495, 3248, 3555,   33],\n",
              "       [3032,  699,  367,  283, 2082, 1575, 1406, 1877,  159, 1478],\n",
              "       [2012, 2505, 2748, 1305, 2621, 1116, 2511, 2592,  735, 1132],\n",
              "       [1186, 3189, 1202, 1005,    0, 1008, 3133, 1184, 2108, 1152],\n",
              "       [ 593, 1848,   49, 1173,   35, 1260, 1485,  576,  971,    0],\n",
              "       [1173,   46,  216,   35, 2400,  284, 2898,  346, 2748, 2203],\n",
              "       [3321, 3512, 3126, 3277, 3508, 3248,  802, 3178, 1536, 1420],\n",
              "       [ 527, 1406, 1820, 1124, 1272,   31, 3462, 2757,  593, 1007],\n",
              "       [ 858, 1135,  841, 1537,  867,  513,  107, 1765, 1160, 1175],\n",
              "       [ 737,  370,   33, 1584,  307, 1729,  340, 1258,  202,  699],\n",
              "       [3475, 3508, 3617, 3503, 3510, 3555, 3577, 3647, 3321, 3075],\n",
              "       [ 851, 1012, 2277, 1537, 1130,  862, 1110, 1772, 1919,  847],\n",
              "       [2346, 2383, 2565, 2490, 2748, 2399,  216, 2505, 2203, 2865],\n",
              "       [3341, 1199, 1288, 1106,  253, 3383,  575, 2775, 2426, 3510],\n",
              "       [1199,  466,  106,  702, 2162, 1271,  339, 2213,  367, 1821],\n",
              "       [1449,  575, 3218, 1420,  970, 1167, 1536, 2099, 1848, 3341],\n",
              "       [3235, 3134, 1118,  106, 3493, 2952,  892, 1104, 2981, 1155],\n",
              "       [1059, 2400, 1107, 1993, 2898, 1007, 1618, 1186, 3132, 1066],\n",
              "       [1022,   35,  258, 1108,  309, 1545,  144,  513, 2131, 1572],\n",
              "       [2511, 2565, 2505, 2203, 2495, 2490, 2507, 2865, 2375, 2496],\n",
              "       [3341, 2501, 3383, 2651, 2490, 2502, 3321, 2484, 3555, 2494],\n",
              "       [1173,   33, 3031,  347, 1504,  466, 2557, 2400,  513,   20],\n",
              "       [ 307, 2374, 1258, 1737, 3455, 3456, 1460, 1292,    9, 1653],\n",
              "       [1123, 1017, 1848, 1131,  513, 1091, 1175, 2557,  863,  309],\n",
              "       [ 574, 1908, 1906, 1269,    0, 2556, 1961,  580,   33,  572],\n",
              "       [3508, 1123,   33,   31, 2203, 3321, 1091, 3248,  513,   35],\n",
              "       [ 216, 2959, 2505, 2793, 2383,  742, 2507, 2651, 1050, 2621],\n",
              "       [ 581, 2128,  963, 1190, 1897, 2368,   10, 1384, 2166, 2785],\n",
              "       [3583, 3508,  346, 3383, 3503, 1492, 3512, 1466, 1508, 2511],\n",
              "       [1449,  581,  574, 3031,  106,   33, 2201, 2483, 2556,  309],\n",
              "       [1160,  802,  852, 1772, 1129,  527,  862, 1158, 1114, 1118],\n",
              "       [ 440,  579,  575, 3383,   46, 1848, 2708,  307, 1516, 3321],\n",
              "       [1993, 1959, 2480,  745, 1924, 3383, 1120, 2565, 3177, 2999],\n",
              "       [ 575,  971, 1124, 1150, 1110, 2426, 1142,  527,  579, 1449],\n",
              "       [3509, 2346, 3059, 2490, 2502, 2375, 3617, 3475,  216, 3550],\n",
              "       [2651,  574, 1449, 1492, 2518, 2838, 2959, 2775, 1902, 2866],\n",
              "       [ 443,  575, 2740, 1107, 1124, 1212, 2213,  578,  106, 3512],\n",
              "       [1135, 1167, 1104, 2710, 1123, 1160, 1155,  579, 2159, 1138],\n",
              "       [3189,  309, 1118, 1202, 3218, 3429, 1788, 2740, 2131, 1781],\n",
              "       [ 699,  466, 2374, 2959,  513, 2683,  287, 1371, 1398,  572],\n",
              "       [1059, 3189, 3132, 1167, 1143,   38, 1196, 1732, 2511, 2097],\n",
              "       [1900, 1838, 1420, 3256, 2775, 2557, 2346, 2374, 1980,  960],\n",
              "       [1271, 1428,  632, 2708, 3032, 1575, 3206, 2160, 1986,  796],\n",
              "       [1249, 1817, 1224, 2096, 1247, 1129, 1979, 1252, 1169, 2660],\n",
              "       [1848,  593,   20, 1271, 1618, 1485,  287, 3186,  576,    5],\n",
              "       [ 579, 1108, 2557, 1563,  513,  106, 2099, 3512, 2374, 1574],\n",
              "       [3203,  851, 3107, 1192,  894,  842, 1139, 2005, 1104, 1175],\n",
              "       [3512,  593, 1123, 1563,  851,   49, 1848, 1104, 3510,  147],\n",
              "       [ 579, 3248, 3512, 1178, 3617, 3277, 3509,   49, 3508, 3059],\n",
              "       [1124, 1848,  575, 2426,  576, 1108, 2708,  702, 1275, 1428],\n",
              "       [1275, 2708, 1199, 2200,  443, 1774, 1050, 2415,  370, 1478]])"
            ]
          },
          "execution_count": 28,
          "metadata": {},
          "output_type": "execute_result"
        }
      ],
      "source": [
        "np.array(recommended_items_batch_list)"
      ]
    },
    {
      "cell_type": "code",
      "execution_count": null,
      "metadata": {
        "id": "wa8Vsx8aDAgk"
      },
      "outputs": [],
      "source": [
        "import pandas as pd\n",
        "df=pd.DataFrame(np.array(recommended_items_batch_list))\n",
        "df.to_csv(\"recommend_list.csv\")"
      ]
    },
    {
      "cell_type": "code",
      "execution_count": null,
      "metadata": {
        "colab": {
          "base_uri": "https://localhost:8080/"
        },
        "id": "m_ggV-7IT_Of",
        "outputId": "b96e241c-1853-44ba-a7f3-79951df5b976"
      },
      "outputs": [
        {
          "name": "stdout",
          "output_type": "stream",
          "text": [
            "1.0\n"
          ]
        }
      ],
      "source": [
        "print(np.array(URM_train[1,466]))"
      ]
    },
    {
      "cell_type": "markdown",
      "metadata": {
        "id": "bWGza6CzjBAA"
      },
      "source": [
        "Training uisng Random walk Graph sampling"
      ]
    },
    {
      "cell_type": "code",
      "execution_count": null,
      "metadata": {
        "id": "7aceUPjTBy6R"
      },
      "outputs": [],
      "source": [
        "from tqdm import tqdm"
      ]
    },
    {
      "cell_type": "code",
      "execution_count": null,
      "metadata": {
        "colab": {
          "base_uri": "https://localhost:8080/"
        },
        "id": "3Rg9ziCv06oS",
        "outputId": "ef184e85-fcf3-47f8-b2eb-c19957e06497"
      },
      "outputs": [
        {
          "name": "stderr",
          "output_type": "stream",
          "text": [
            "<ipython-input-1-3e2fcd2545d4>:5: ParserWarning: Falling back to the 'python' engine because the 'c' engine does not support regex separators (separators > 1 char and different from '\\s+' are interpreted as regex); you can avoid this warning by specifying engine='python'.\n",
            "  ratings = pd.read_csv(\"/content/data/ml-1m/ratings.dat\", sep=\"::\", header=None,\n"
          ]
        }
      ],
      "source": [
        "import numpy as np\n",
        "import pandas as pd\n",
        "import networkx as nx\n",
        "\n",
        "ratings = pd.read_csv(\"/content/data/ml-1m/ratings.dat\", sep=\"::\", header=None,\n",
        "                      names=[\"user_id\", \"movie_id\", \"rating\", \"timestamp\"])\n",
        "\n",
        "# Build a user-item graph\n",
        "G = nx.Graph()\n",
        "G.add_nodes_from(ratings[\"user_id\"].unique(), bipartite=0)\n",
        "G.add_nodes_from(ratings[\"movie_id\"].unique(), bipartite=1)\n",
        "G.add_weighted_edges_from(ratings[[\"user_id\", \"movie_id\", \"rating\"]].values)\n",
        "\n",
        "# Define the random walk length and number of sequences per user\n",
        "walk_length = 100\n",
        "num_walks = 20\n"
      ]
    },
    {
      "cell_type": "code",
      "execution_count": null,
      "metadata": {
        "colab": {
          "base_uri": "https://localhost:8080/"
        },
        "id": "8Cr9nJ_HCH3y",
        "outputId": "0f42976a-8876-4e5b-f783-495311c03332"
      },
      "outputs": [
        {
          "name": "stderr",
          "output_type": "stream",
          "text": [
            "100%|██████████| 6040/6040 [43:20<00:00,  2.32it/s]\n"
          ]
        }
      ],
      "source": [
        "\n",
        "# Perform random walks for each user\n",
        "sequences = []\n",
        "for user in tqdm(ratings[\"user_id\"].unique()):\n",
        "    for i in range(num_walks):\n",
        "        sequence = [user]\n",
        "        for j in range(walk_length):\n",
        "            neighbors = list(G.neighbors(sequence[-1]))\n",
        "            if len(neighbors) > 0:\n",
        "                next_node = np.random.choice(neighbors)\n",
        "                sequence.append(next_node)\n",
        "            else:\n",
        "                break\n",
        "        sequences.append(sequence)\n",
        "np.random.shuffle(sequences)\n",
        "train_ratio = 0.7\n",
        "train_size = int(len(sequences) * train_ratio)\n",
        "train_sequences = sequences[:train_size]\n",
        "validationsequences=sequences[train_size:train_size+int(len(sequences)*0.1)]\n",
        "test_sequences = sequences[train_size+int(len(sequences)*0.1):]"
      ]
    },
    {
      "cell_type": "code",
      "execution_count": null,
      "metadata": {
        "id": "nzlbUf0K61mw"
      },
      "outputs": [],
      "source": [
        "pd.DataFrame(sequences).to_csv(\"randomwalk_sequences.csv\")"
      ]
    },
    {
      "cell_type": "code",
      "execution_count": null,
      "metadata": {
        "id": "lwCwsslOO5fX"
      },
      "outputs": [],
      "source": [
        "import numpy as np\n",
        "from scipy.sparse import csr_matrix\n",
        "\n",
        "train_array=np.array(train_sequences)\n",
        "user_idx = np.unique(train_array[:, 0], return_inverse=True)[1]\n",
        "item_idx = np.unique(train_array[:, 1], return_inverse=True)[1]\n",
        "\n",
        "user_item_matrix_train = csr_matrix((train_array[:, 2], (user_idx, item_idx)))\n",
        "\n",
        "validation_array=np.array(validationsequences)\n",
        "user_idx = np.unique(validation_array[:, 0], return_inverse=True)[1]\n",
        "item_idx = np.unique(validation_array[:, 1], return_inverse=True)[1]\n",
        "\n",
        "user_item_matrix_validation = csr_matrix((validation_array[:, 2], (user_idx, item_idx)))\n",
        "\n",
        "\n",
        "test_array=np.array(test_sequences)\n",
        "user_idx = np.unique(test_array[:, 0], return_inverse=True)[1]\n",
        "item_idx = np.unique(test_array[:, 1], return_inverse=True)[1]\n",
        "\n",
        "user_item_matrix_test = csr_matrix((test_array[:, 2], (user_idx, item_idx)))"
      ]
    },
    {
      "cell_type": "code",
      "execution_count": null,
      "metadata": {
        "id": "YZZhAtKez-iV"
      },
      "outputs": [],
      "source": [
        "URM_train_matrix = np.zeros((6040, 3706))\n",
        "URM_train_matrix[:, :] = user_item_matrix_train[:, 0:3706].toarray()\n",
        "URM_train_matrix=csr_matrix(URM_train_matrix)"
      ]
    },
    {
      "cell_type": "code",
      "execution_count": null,
      "metadata": {
        "id": "8fkOWi_a0dGN"
      },
      "outputs": [],
      "source": [
        "URM_validation_matrix = np.zeros((5284, 3427))\n",
        "\n",
        "URM_validation_matrix[:, :] = user_item_matrix_validation[:, 0:3427].toarray()\n",
        "URM_validation_matrix=csr_matrix(URM_validation_matrix)"
      ]
    },
    {
      "cell_type": "code",
      "execution_count": null,
      "metadata": {
        "id": "caWfyjeR0ucv"
      },
      "outputs": [],
      "source": [
        "URM_test_matrix = np.zeros((5966, 3427))\n",
        "\n",
        "URM_test_matrix[:, :] = user_item_matrix_test[:, 0:3427].toarray()\n",
        "URM_validation_matrix=csr_matrix(URM_validation_matrix)"
      ]
    },
    {
      "cell_type": "code",
      "execution_count": null,
      "metadata": {
        "colab": {
          "base_uri": "https://localhost:8080/"
        },
        "id": "JhSmi8_LPJYm",
        "outputId": "3d39222e-fdab-492d-cfe1-4db0a9a13045"
      },
      "outputs": [
        {
          "data": {
            "text/plain": [
              "(6040, 5486)"
            ]
          },
          "execution_count": 41,
          "metadata": {},
          "output_type": "execute_result"
        }
      ],
      "source": [
        "user_item_matrix_train.shape"
      ]
    },
    {
      "cell_type": "code",
      "execution_count": null,
      "metadata": {
        "colab": {
          "base_uri": "https://localhost:8080/"
        },
        "id": "RwtcTVBN2J6K",
        "outputId": "a29c0afc-3ceb-4439-8914-39bc5a32f79e"
      },
      "outputs": [
        {
          "name": "stderr",
          "output_type": "stream",
          "text": [
            "<ipython-input-27-6ceb33196298>:90: DeprecationWarning: `np.bool` is a deprecated alias for the builtin `bool`. To silence this warning, use `bool` by itself. Doing this will not modify any behavior and is safe. If you specifically wanted the numpy scalar type, use `np.bool_` here.\n",
            "Deprecated in NumPy 1.20; for more details and guidance: https://numpy.org/devdocs/release/1.20.0-notes.html#deprecations\n",
            "  usersToEvaluate_mask = np.zeros(self.n_users, dtype=np.bool)\n"
          ]
        }
      ],
      "source": [
        "evaluatorValidation = EvaluatorHoldout(URM_validation,[5,10,20,50,80,100],exclude_seen=np.bool_(True))"
      ]
    },
    {
      "cell_type": "code",
      "execution_count": null,
      "metadata": {
        "colab": {
          "base_uri": "https://localhost:8080/"
        },
        "id": "iJEkmSxyyBqw",
        "outputId": "95b5ffd2-faf1-471c-b0c6-c0ca4341dc8c"
      },
      "outputs": [
        {
          "name": "stderr",
          "output_type": "stream",
          "text": [
            "WARNING:tensorflow:From /usr/local/lib/python3.10/dist-packages/tensorflow/python/util/tf_should_use.py:243: initialize_all_variables (from tensorflow.python.ops.variables) is deprecated and will be removed after 2017-03-02.\n",
            "Instructions for updating:\n",
            "Use `tf.global_variables_initializer` instead.\n",
            "  4%|▍         | 10/250 [02:02<45:55, 11.48s/it]"
          ]
        },
        {
          "name": "stdout",
          "output_type": "stream",
          "text": [
            "Epoch : 10. Total: 130.56 secs, 13.06 secs/epoch.\n",
            "CUTOFF: 5 - PRECISION: 0.0041060, RECALL: 0.0011320, MAP: 0.0018707, NDCG: 0.0015943, F1: 0.0017747, HIT_RATE: 0.0205298, RMSE: 1.0000228, \n",
            "CUTOFF: 10 - PRECISION: 0.0043046, RECALL: 0.0026558, MAP: 0.0014298, NDCG: 0.0026786, F1: 0.0032849, HIT_RATE: 0.0430464, RMSE: 1.0000228, \n",
            "CUTOFF: 20 - PRECISION: 0.0043212, RECALL: 0.0053283, MAP: 0.0011952, NDCG: 0.0042028, F1: 0.0047722, HIT_RATE: 0.0864238, RMSE: 1.0000228, \n",
            "CUTOFF: 50 - PRECISION: 0.0044139, RECALL: 0.0141977, MAP: 0.0012603, NDCG: 0.0080848, F1: 0.0067342, HIT_RATE: 0.2206954, RMSE: 1.0000228, \n",
            "CUTOFF: 80 - PRECISION: 0.0044329, RECALL: 0.0219202, MAP: 0.0013835, NDCG: 0.0111518, F1: 0.0073745, HIT_RATE: 0.3546358, RMSE: 1.0000228, \n",
            "CUTOFF: 100 - PRECISION: 0.0044321, RECALL: 0.0274748, MAP: 0.0014625, NDCG: 0.0131106, F1: 0.0076329, HIT_RATE: 0.4432119, RMSE: 1.0000228, \n",
            "\n"
          ]
        },
        {
          "name": "stderr",
          "output_type": "stream",
          "text": [
            "  8%|▊         | 20/250 [05:51<49:42, 12.97s/it]"
          ]
        },
        {
          "name": "stdout",
          "output_type": "stream",
          "text": [
            "Epoch : 20. Total: 178.33 secs, 17.83 secs/epoch.\n",
            "CUTOFF: 5 - PRECISION: 0.0042715, RECALL: 0.0014223, MAP: 0.0019854, NDCG: 0.0018281, F1: 0.0021340, HIT_RATE: 0.0213576, RMSE: 0.9985527, \n",
            "CUTOFF: 10 - PRECISION: 0.0044040, RECALL: 0.0029413, MAP: 0.0015612, NDCG: 0.0029126, F1: 0.0035270, HIT_RATE: 0.0440397, RMSE: 0.9985527, \n",
            "CUTOFF: 20 - PRECISION: 0.0046772, RECALL: 0.0061490, MAP: 0.0013790, NDCG: 0.0047213, F1: 0.0053130, HIT_RATE: 0.0935430, RMSE: 0.9985527, \n",
            "CUTOFF: 50 - PRECISION: 0.0046722, RECALL: 0.0146493, MAP: 0.0014218, NDCG: 0.0086018, F1: 0.0070848, HIT_RATE: 0.2336093, RMSE: 0.9985527, \n",
            "CUTOFF: 80 - PRECISION: 0.0045757, RECALL: 0.0229893, MAP: 0.0015542, NDCG: 0.0117664, F1: 0.0076324, HIT_RATE: 0.3660596, RMSE: 0.9985527, \n",
            "CUTOFF: 100 - PRECISION: 0.0046275, RECALL: 0.0292290, MAP: 0.0016416, NDCG: 0.0139491, F1: 0.0079900, HIT_RATE: 0.4627483, RMSE: 0.9985527, \n",
            "\n"
          ]
        },
        {
          "name": "stderr",
          "output_type": "stream",
          "text": [
            " 12%|█▏        | 30/250 [09:37<46:38, 12.72s/it]"
          ]
        },
        {
          "name": "stdout",
          "output_type": "stream",
          "text": [
            "Epoch : 30. Total: 177.70 secs, 17.77 secs/epoch.\n",
            "CUTOFF: 5 - PRECISION: 0.0047351, RECALL: 0.0018192, MAP: 0.0023039, NDCG: 0.0021775, F1: 0.0026285, HIT_RATE: 0.0236755, RMSE: 0.9842660, \n",
            "CUTOFF: 10 - PRECISION: 0.0049669, RECALL: 0.0032891, MAP: 0.0017705, NDCG: 0.0033165, F1: 0.0039575, HIT_RATE: 0.0496689, RMSE: 0.9842660, \n",
            "CUTOFF: 20 - PRECISION: 0.0051490, RECALL: 0.0067650, MAP: 0.0015506, NDCG: 0.0052932, F1: 0.0058474, HIT_RATE: 0.1029801, RMSE: 0.9842660, \n",
            "CUTOFF: 50 - PRECISION: 0.0053046, RECALL: 0.0173824, MAP: 0.0016532, NDCG: 0.0100043, F1: 0.0081286, HIT_RATE: 0.2652318, RMSE: 0.9842660, \n",
            "CUTOFF: 80 - PRECISION: 0.0054056, RECALL: 0.0282305, MAP: 0.0018313, NDCG: 0.0141046, F1: 0.0090738, HIT_RATE: 0.4324503, RMSE: 0.9842660, \n",
            "CUTOFF: 100 - PRECISION: 0.0054421, RECALL: 0.0352364, MAP: 0.0019342, NDCG: 0.0165680, F1: 0.0094280, HIT_RATE: 0.5442053, RMSE: 0.9842660, \n",
            "\n"
          ]
        },
        {
          "name": "stderr",
          "output_type": "stream",
          "text": [
            " 16%|█▌        | 40/250 [13:32<46:38, 13.32s/it]"
          ]
        },
        {
          "name": "stdout",
          "output_type": "stream",
          "text": [
            "Epoch : 40. Total: 184.26 secs, 18.43 secs/epoch.\n",
            "CUTOFF: 5 - PRECISION: 0.0043046, RECALL: 0.0016604, MAP: 0.0020888, NDCG: 0.0020282, F1: 0.0023964, HIT_RATE: 0.0215232, RMSE: 0.9495822, \n",
            "CUTOFF: 10 - PRECISION: 0.0049172, RECALL: 0.0032454, MAP: 0.0016888, NDCG: 0.0032374, F1: 0.0039101, HIT_RATE: 0.0491722, RMSE: 0.9495822, \n",
            "CUTOFF: 20 - PRECISION: 0.0052566, RECALL: 0.0073494, MAP: 0.0015302, NDCG: 0.0054484, F1: 0.0061293, HIT_RATE: 0.1051325, RMSE: 0.9495822, \n",
            "CUTOFF: 50 - PRECISION: 0.0058510, RECALL: 0.0193772, MAP: 0.0017024, NDCG: 0.0108279, F1: 0.0089880, HIT_RATE: 0.2925497, RMSE: 0.9495822, \n",
            "CUTOFF: 80 - PRECISION: 0.0058299, RECALL: 0.0299743, MAP: 0.0018888, NDCG: 0.0149454, F1: 0.0097612, HIT_RATE: 0.4663907, RMSE: 0.9495822, \n",
            "CUTOFF: 100 - PRECISION: 0.0058560, RECALL: 0.0378150, MAP: 0.0020122, NDCG: 0.0176752, F1: 0.0101414, HIT_RATE: 0.5855960, RMSE: 0.9495822, \n",
            "\n"
          ]
        },
        {
          "name": "stderr",
          "output_type": "stream",
          "text": [
            " 20%|██        | 50/250 [17:19<42:24, 12.72s/it]"
          ]
        },
        {
          "name": "stdout",
          "output_type": "stream",
          "text": [
            "Epoch : 50. Total: 179.45 secs, 17.95 secs/epoch.\n",
            "CUTOFF: 5 - PRECISION: 0.0042384, RECALL: 0.0015081, MAP: 0.0020511, NDCG: 0.0019560, F1: 0.0022247, HIT_RATE: 0.0211921, RMSE: 0.9038905, \n",
            "CUTOFF: 10 - PRECISION: 0.0048510, RECALL: 0.0032974, MAP: 0.0016813, NDCG: 0.0032794, F1: 0.0039261, HIT_RATE: 0.0485099, RMSE: 0.9038905, \n",
            "CUTOFF: 20 - PRECISION: 0.0055546, RECALL: 0.0077205, MAP: 0.0015980, NDCG: 0.0056948, F1: 0.0064609, HIT_RATE: 0.1110927, RMSE: 0.9038905, \n",
            "CUTOFF: 50 - PRECISION: 0.0059669, RECALL: 0.0200994, MAP: 0.0017942, NDCG: 0.0112128, F1: 0.0092020, HIT_RATE: 0.2983444, RMSE: 0.9038905, \n",
            "CUTOFF: 80 - PRECISION: 0.0062272, RECALL: 0.0329162, MAP: 0.0020324, NDCG: 0.0161141, F1: 0.0104731, HIT_RATE: 0.4981788, RMSE: 0.9038905, \n",
            "CUTOFF: 100 - PRECISION: 0.0062020, RECALL: 0.0413299, MAP: 0.0021597, NDCG: 0.0189942, F1: 0.0107855, HIT_RATE: 0.6201987, RMSE: 0.9038905, \n",
            "\n"
          ]
        },
        {
          "name": "stderr",
          "output_type": "stream",
          "text": [
            " 24%|██▍       | 60/250 [21:22<41:29, 13.10s/it]"
          ]
        },
        {
          "name": "stdout",
          "output_type": "stream",
          "text": [
            "Epoch : 60. Total: 192.63 secs, 19.26 secs/epoch.\n",
            "CUTOFF: 5 - PRECISION: 0.0047020, RECALL: 0.0017168, MAP: 0.0021827, NDCG: 0.0021201, F1: 0.0025152, HIT_RATE: 0.0235099, RMSE: 0.8649181, \n",
            "CUTOFF: 10 - PRECISION: 0.0052483, RECALL: 0.0034806, MAP: 0.0017659, NDCG: 0.0034368, F1: 0.0041854, HIT_RATE: 0.0524834, RMSE: 0.8649181, \n",
            "CUTOFF: 20 - PRECISION: 0.0057864, RECALL: 0.0077385, MAP: 0.0016562, NDCG: 0.0058531, F1: 0.0066216, HIT_RATE: 0.1157285, RMSE: 0.8649181, \n",
            "CUTOFF: 50 - PRECISION: 0.0062881, RECALL: 0.0215063, MAP: 0.0018920, NDCG: 0.0118967, F1: 0.0097310, HIT_RATE: 0.3144040, RMSE: 0.8649181, \n",
            "CUTOFF: 80 - PRECISION: 0.0064901, RECALL: 0.0349789, MAP: 0.0021384, NDCG: 0.0170019, F1: 0.0109487, HIT_RATE: 0.5192053, RMSE: 0.8649181, \n",
            "CUTOFF: 100 - PRECISION: 0.0065248, RECALL: 0.0441346, MAP: 0.0022778, NDCG: 0.0201475, F1: 0.0113689, HIT_RATE: 0.6524834, RMSE: 0.8649181, \n",
            "\n"
          ]
        },
        {
          "name": "stderr",
          "output_type": "stream",
          "text": [
            " 24%|██▍       | 61/250 [23:09<1:12:56, 23.16s/it]"
          ]
        },
        {
          "name": "stdout",
          "output_type": "stream",
          "text": [
            "Training stopped, epoch: 60\n"
          ]
        },
        {
          "name": "stderr",
          "output_type": "stream",
          "text": [
            "\n"
          ]
        },
        {
          "data": {
            "text/plain": [
              "61"
            ]
          },
          "execution_count": 33,
          "metadata": {},
          "output_type": "execute_result"
        }
      ],
      "source": [
        "gan1 = GANAE(URM_train_matrix, mode='user')\n",
        "gan1.fit(num_factors=250,\n",
        "        emb_dim=461,\n",
        "        d_reg=0.0001,\n",
        "        g_reg=0,\n",
        "        epochs=250,\n",
        "        batch_size=512,\n",
        "        g_lr=0.0001,\n",
        "        d_lr=0.0001,\n",
        "        d_steps=1,\n",
        "        g_steps=1,\n",
        "        recon_coefficient=0.1728565040890659,\n",
        "        m=10,\n",
        "        allow_worse=5,\n",
        "        freq=5,\n",
        "        validation_evaluator=evaluatorValidation,\n",
        "        sample_every=10,\n",
        "        validation_set=URM_validation_matrix)"
      ]
    },
    {
      "cell_type": "code",
      "execution_count": null,
      "metadata": {
        "colab": {
          "base_uri": "https://localhost:8080/"
        },
        "id": "rLU5la1X7hDy",
        "outputId": "4f166eea-fd16-40bb-9ace-2d1790cef2ce"
      },
      "outputs": [
        {
          "name": "stderr",
          "output_type": "stream",
          "text": [
            "<ipython-input-27-6ceb33196298>:90: DeprecationWarning: `np.bool` is a deprecated alias for the builtin `bool`. To silence this warning, use `bool` by itself. Doing this will not modify any behavior and is safe. If you specifically wanted the numpy scalar type, use `np.bool_` here.\n",
            "Deprecated in NumPy 1.20; for more details and guidance: https://numpy.org/devdocs/release/1.20.0-notes.html#deprecations\n",
            "  usersToEvaluate_mask = np.zeros(self.n_users, dtype=np.bool)\n"
          ]
        }
      ],
      "source": [
        "evaluator = EvaluatorHoldout(URM_test, [5,10,20,50,80,100,300,500,1000], exclude_seen=True)"
      ]
    },
    {
      "cell_type": "code",
      "execution_count": null,
      "metadata": {
        "colab": {
          "base_uri": "https://localhost:8080/"
        },
        "id": "pY-A4Qmd3T5O",
        "outputId": "30359e61-98ab-4cfd-f80e-21e9bf3415f7"
      },
      "outputs": [
        {
          "name": "stdout",
          "output_type": "stream",
          "text": [
            "CUTOFF: 5 - PRECISION: 0.0050331, RECALL: 0.0015026, MAP: 0.0022886, NDCG: 0.0021175, F1: 0.0023143, HIT_RATE: 0.0251656, RMSE: 0.9839834, \n",
            "CUTOFF: 10 - PRECISION: 0.0053808, RECALL: 0.0030409, MAP: 0.0017190, NDCG: 0.0033290, F1: 0.0038858, HIT_RATE: 0.0538079, RMSE: 0.9839834, \n",
            "CUTOFF: 20 - PRECISION: 0.0055464, RECALL: 0.0063677, MAP: 0.0014580, NDCG: 0.0053339, F1: 0.0059287, HIT_RATE: 0.1109272, RMSE: 0.9839834, \n",
            "CUTOFF: 50 - PRECISION: 0.0058709, RECALL: 0.0173254, MAP: 0.0015661, NDCG: 0.0105077, F1: 0.0087699, HIT_RATE: 0.2935430, RMSE: 0.9839834, \n",
            "CUTOFF: 80 - PRECISION: 0.0061341, RECALL: 0.0288262, MAP: 0.0017703, NDCG: 0.0151514, F1: 0.0101156, HIT_RATE: 0.4907285, RMSE: 0.9839834, \n",
            "CUTOFF: 100 - PRECISION: 0.0060861, RECALL: 0.0353743, MAP: 0.0018756, NDCG: 0.0176454, F1: 0.0103854, HIT_RATE: 0.6086093, RMSE: 0.9839834, \n",
            "CUTOFF: 300 - PRECISION: 0.0058813, RECALL: 0.1014439, MAP: 0.0026020, NDCG: 0.0389709, F1: 0.0111181, HIT_RATE: 1.7644040, RMSE: 0.9839834, \n",
            "CUTOFF: 500 - PRECISION: 0.0056470, RECALL: 0.1611389, MAP: 0.0030796, NDCG: 0.0559426, F1: 0.0109116, HIT_RATE: 2.8235099, RMSE: 0.9839834, \n",
            "CUTOFF: 1000 - PRECISION: 0.0054066, RECALL: 0.3077498, MAP: 0.0040282, NDCG: 0.0935987, F1: 0.0106266, HIT_RATE: 5.4066225, RMSE: 0.9839834, \n",
            "\n"
          ]
        }
      ],
      "source": [
        "results_dic, results_run_string = evaluator.evaluateRecommender(gan1)\n",
        "print(results_run_string)"
      ]
    },
    {
      "cell_type": "code",
      "execution_count": null,
      "metadata": {
        "colab": {
          "base_uri": "https://localhost:8080/"
        },
        "id": "KStUhQrnE-C9",
        "outputId": "c97b6553-108a-4fb4-ce3f-b67c4aef5096"
      },
      "outputs": [
        {
          "name": "stdout",
          "output_type": "stream",
          "text": [
            "Archive:  /content/data2.zip\n",
            "  inflating: data2.csv               \n"
          ]
        }
      ],
      "source": [
        "!unzip \"/content/data2.zip\""
      ]
    },
    {
      "cell_type": "markdown",
      "metadata": {
        "id": "lu856A96ifeF"
      },
      "source": [
        "Training Using Distill -cf generated synthesized data"
      ]
    },
    {
      "cell_type": "code",
      "execution_count": null,
      "metadata": {
        "colab": {
          "base_uri": "https://localhost:8080/",
          "height": 235
        },
        "id": "T39u9AupFQCg",
        "outputId": "93b67a7c-0ff2-4343-ea07-7f253f1e4834"
      },
      "outputs": [
        {
          "data": {
            "text/html": [
              "\n",
              "  <div id=\"df-9588da34-a5fc-4885-b42c-5f9c9ea0b892\">\n",
              "    <div class=\"colab-df-container\">\n",
              "      <div>\n",
              "<style scoped>\n",
              "    .dataframe tbody tr th:only-of-type {\n",
              "        vertical-align: middle;\n",
              "    }\n",
              "\n",
              "    .dataframe tbody tr th {\n",
              "        vertical-align: top;\n",
              "    }\n",
              "\n",
              "    .dataframe thead th {\n",
              "        text-align: right;\n",
              "    }\n",
              "</style>\n",
              "<table border=\"1\" class=\"dataframe\">\n",
              "  <thead>\n",
              "    <tr style=\"text-align: right;\">\n",
              "      <th></th>\n",
              "      <th>0</th>\n",
              "      <th>1</th>\n",
              "      <th>2</th>\n",
              "      <th>3</th>\n",
              "      <th>4</th>\n",
              "      <th>5</th>\n",
              "      <th>6</th>\n",
              "      <th>7</th>\n",
              "      <th>8</th>\n",
              "      <th>9</th>\n",
              "      <th>...</th>\n",
              "      <th>3696</th>\n",
              "      <th>3697</th>\n",
              "      <th>3698</th>\n",
              "      <th>3699</th>\n",
              "      <th>3700</th>\n",
              "      <th>3701</th>\n",
              "      <th>3702</th>\n",
              "      <th>3703</th>\n",
              "      <th>3704</th>\n",
              "      <th>3705</th>\n",
              "    </tr>\n",
              "  </thead>\n",
              "  <tbody>\n",
              "    <tr>\n",
              "      <th>0</th>\n",
              "      <td>0.0</td>\n",
              "      <td>0.0</td>\n",
              "      <td>0.0</td>\n",
              "      <td>0.0</td>\n",
              "      <td>0.0</td>\n",
              "      <td>0.0</td>\n",
              "      <td>0.0</td>\n",
              "      <td>0.0</td>\n",
              "      <td>0.0</td>\n",
              "      <td>0.0</td>\n",
              "      <td>...</td>\n",
              "      <td>0.0</td>\n",
              "      <td>0.0</td>\n",
              "      <td>0.0</td>\n",
              "      <td>0.0</td>\n",
              "      <td>0.0</td>\n",
              "      <td>1.0</td>\n",
              "      <td>0.0</td>\n",
              "      <td>0.0</td>\n",
              "      <td>0.0</td>\n",
              "      <td>0.0</td>\n",
              "    </tr>\n",
              "    <tr>\n",
              "      <th>1</th>\n",
              "      <td>0.0</td>\n",
              "      <td>1.0</td>\n",
              "      <td>0.0</td>\n",
              "      <td>0.0</td>\n",
              "      <td>0.0</td>\n",
              "      <td>0.0</td>\n",
              "      <td>0.0</td>\n",
              "      <td>0.0</td>\n",
              "      <td>0.0</td>\n",
              "      <td>1.0</td>\n",
              "      <td>...</td>\n",
              "      <td>0.0</td>\n",
              "      <td>0.0</td>\n",
              "      <td>0.0</td>\n",
              "      <td>0.0</td>\n",
              "      <td>0.0</td>\n",
              "      <td>0.0</td>\n",
              "      <td>0.0</td>\n",
              "      <td>0.0</td>\n",
              "      <td>0.0</td>\n",
              "      <td>0.0</td>\n",
              "    </tr>\n",
              "    <tr>\n",
              "      <th>2</th>\n",
              "      <td>0.0</td>\n",
              "      <td>0.0</td>\n",
              "      <td>0.0</td>\n",
              "      <td>0.0</td>\n",
              "      <td>0.0</td>\n",
              "      <td>1.0</td>\n",
              "      <td>0.0</td>\n",
              "      <td>0.0</td>\n",
              "      <td>0.0</td>\n",
              "      <td>0.0</td>\n",
              "      <td>...</td>\n",
              "      <td>0.0</td>\n",
              "      <td>0.0</td>\n",
              "      <td>0.0</td>\n",
              "      <td>0.0</td>\n",
              "      <td>0.0</td>\n",
              "      <td>1.0</td>\n",
              "      <td>0.0</td>\n",
              "      <td>0.0</td>\n",
              "      <td>0.0</td>\n",
              "      <td>0.0</td>\n",
              "    </tr>\n",
              "    <tr>\n",
              "      <th>3</th>\n",
              "      <td>0.0</td>\n",
              "      <td>0.0</td>\n",
              "      <td>0.0</td>\n",
              "      <td>0.0</td>\n",
              "      <td>0.0</td>\n",
              "      <td>0.0</td>\n",
              "      <td>0.0</td>\n",
              "      <td>0.0</td>\n",
              "      <td>0.0</td>\n",
              "      <td>0.0</td>\n",
              "      <td>...</td>\n",
              "      <td>0.0</td>\n",
              "      <td>0.0</td>\n",
              "      <td>0.0</td>\n",
              "      <td>0.0</td>\n",
              "      <td>0.0</td>\n",
              "      <td>0.0</td>\n",
              "      <td>0.0</td>\n",
              "      <td>0.0</td>\n",
              "      <td>0.0</td>\n",
              "      <td>0.0</td>\n",
              "    </tr>\n",
              "    <tr>\n",
              "      <th>4</th>\n",
              "      <td>1.0</td>\n",
              "      <td>1.0</td>\n",
              "      <td>0.0</td>\n",
              "      <td>0.0</td>\n",
              "      <td>0.0</td>\n",
              "      <td>0.0</td>\n",
              "      <td>0.0</td>\n",
              "      <td>0.0</td>\n",
              "      <td>0.0</td>\n",
              "      <td>1.0</td>\n",
              "      <td>...</td>\n",
              "      <td>0.0</td>\n",
              "      <td>1.0</td>\n",
              "      <td>0.0</td>\n",
              "      <td>0.0</td>\n",
              "      <td>0.0</td>\n",
              "      <td>0.0</td>\n",
              "      <td>0.0</td>\n",
              "      <td>0.0</td>\n",
              "      <td>0.0</td>\n",
              "      <td>0.0</td>\n",
              "    </tr>\n",
              "  </tbody>\n",
              "</table>\n",
              "<p>5 rows × 3706 columns</p>\n",
              "</div>\n",
              "      <button class=\"colab-df-convert\" onclick=\"convertToInteractive('df-9588da34-a5fc-4885-b42c-5f9c9ea0b892')\"\n",
              "              title=\"Convert this dataframe to an interactive table.\"\n",
              "              style=\"display:none;\">\n",
              "        \n",
              "  <svg xmlns=\"http://www.w3.org/2000/svg\" height=\"24px\"viewBox=\"0 0 24 24\"\n",
              "       width=\"24px\">\n",
              "    <path d=\"M0 0h24v24H0V0z\" fill=\"none\"/>\n",
              "    <path d=\"M18.56 5.44l.94 2.06.94-2.06 2.06-.94-2.06-.94-.94-2.06-.94 2.06-2.06.94zm-11 1L8.5 8.5l.94-2.06 2.06-.94-2.06-.94L8.5 2.5l-.94 2.06-2.06.94zm10 10l.94 2.06.94-2.06 2.06-.94-2.06-.94-.94-2.06-.94 2.06-2.06.94z\"/><path d=\"M17.41 7.96l-1.37-1.37c-.4-.4-.92-.59-1.43-.59-.52 0-1.04.2-1.43.59L10.3 9.45l-7.72 7.72c-.78.78-.78 2.05 0 2.83L4 21.41c.39.39.9.59 1.41.59.51 0 1.02-.2 1.41-.59l7.78-7.78 2.81-2.81c.8-.78.8-2.07 0-2.86zM5.41 20L4 18.59l7.72-7.72 1.47 1.35L5.41 20z\"/>\n",
              "  </svg>\n",
              "      </button>\n",
              "      \n",
              "  <style>\n",
              "    .colab-df-container {\n",
              "      display:flex;\n",
              "      flex-wrap:wrap;\n",
              "      gap: 12px;\n",
              "    }\n",
              "\n",
              "    .colab-df-convert {\n",
              "      background-color: #E8F0FE;\n",
              "      border: none;\n",
              "      border-radius: 50%;\n",
              "      cursor: pointer;\n",
              "      display: none;\n",
              "      fill: #1967D2;\n",
              "      height: 32px;\n",
              "      padding: 0 0 0 0;\n",
              "      width: 32px;\n",
              "    }\n",
              "\n",
              "    .colab-df-convert:hover {\n",
              "      background-color: #E2EBFA;\n",
              "      box-shadow: 0px 1px 2px rgba(60, 64, 67, 0.3), 0px 1px 3px 1px rgba(60, 64, 67, 0.15);\n",
              "      fill: #174EA6;\n",
              "    }\n",
              "\n",
              "    [theme=dark] .colab-df-convert {\n",
              "      background-color: #3B4455;\n",
              "      fill: #D2E3FC;\n",
              "    }\n",
              "\n",
              "    [theme=dark] .colab-df-convert:hover {\n",
              "      background-color: #434B5C;\n",
              "      box-shadow: 0px 1px 3px 1px rgba(0, 0, 0, 0.15);\n",
              "      filter: drop-shadow(0px 1px 2px rgba(0, 0, 0, 0.3));\n",
              "      fill: #FFFFFF;\n",
              "    }\n",
              "  </style>\n",
              "\n",
              "      <script>\n",
              "        const buttonEl =\n",
              "          document.querySelector('#df-9588da34-a5fc-4885-b42c-5f9c9ea0b892 button.colab-df-convert');\n",
              "        buttonEl.style.display =\n",
              "          google.colab.kernel.accessAllowed ? 'block' : 'none';\n",
              "\n",
              "        async function convertToInteractive(key) {\n",
              "          const element = document.querySelector('#df-9588da34-a5fc-4885-b42c-5f9c9ea0b892');\n",
              "          const dataTable =\n",
              "            await google.colab.kernel.invokeFunction('convertToInteractive',\n",
              "                                                     [key], {});\n",
              "          if (!dataTable) return;\n",
              "\n",
              "          const docLinkHtml = 'Like what you see? Visit the ' +\n",
              "            '<a target=\"_blank\" href=https://colab.research.google.com/notebooks/data_table.ipynb>data table notebook</a>'\n",
              "            + ' to learn more about interactive tables.';\n",
              "          element.innerHTML = '';\n",
              "          dataTable['output_type'] = 'display_data';\n",
              "          await google.colab.output.renderOutput(dataTable, element);\n",
              "          const docLink = document.createElement('div');\n",
              "          docLink.innerHTML = docLinkHtml;\n",
              "          element.appendChild(docLink);\n",
              "        }\n",
              "      </script>\n",
              "    </div>\n",
              "  </div>\n",
              "  "
            ],
            "text/plain": [
              "     0    1    2    3    4    5    6    7    8    9  ...  3696  3697  3698  \\\n",
              "0  0.0  0.0  0.0  0.0  0.0  0.0  0.0  0.0  0.0  0.0  ...   0.0   0.0   0.0   \n",
              "1  0.0  1.0  0.0  0.0  0.0  0.0  0.0  0.0  0.0  1.0  ...   0.0   0.0   0.0   \n",
              "2  0.0  0.0  0.0  0.0  0.0  1.0  0.0  0.0  0.0  0.0  ...   0.0   0.0   0.0   \n",
              "3  0.0  0.0  0.0  0.0  0.0  0.0  0.0  0.0  0.0  0.0  ...   0.0   0.0   0.0   \n",
              "4  1.0  1.0  0.0  0.0  0.0  0.0  0.0  0.0  0.0  1.0  ...   0.0   1.0   0.0   \n",
              "\n",
              "   3699  3700  3701  3702  3703  3704  3705  \n",
              "0   0.0   0.0   1.0   0.0   0.0   0.0   0.0  \n",
              "1   0.0   0.0   0.0   0.0   0.0   0.0   0.0  \n",
              "2   0.0   0.0   1.0   0.0   0.0   0.0   0.0  \n",
              "3   0.0   0.0   0.0   0.0   0.0   0.0   0.0  \n",
              "4   0.0   0.0   0.0   0.0   0.0   0.0   0.0  \n",
              "\n",
              "[5 rows x 3706 columns]"
            ]
          },
          "execution_count": 34,
          "metadata": {},
          "output_type": "execute_result"
        }
      ],
      "source": [
        "import pandas as pd\n",
        "df=pd.read_csv(\"/content/data2.csv\")\n",
        "df = df.drop(df.columns[0], axis=1)\n",
        "df=df.round()\n",
        "df.head()\n"
      ]
    },
    {
      "cell_type": "code",
      "execution_count": null,
      "metadata": {
        "colab": {
          "base_uri": "https://localhost:8080/"
        },
        "id": "s-w2bh1JOLgn",
        "outputId": "512667f2-dada-4e42-8594-a14951320725"
      },
      "outputs": [
        {
          "name": "stderr",
          "output_type": "stream",
          "text": [
            "\n",
            "  0%|          | 1/250 [00:00<?, ?it/s]\u001b[A\n",
            "  1%|          | 2/250 [00:00<02:09,  1.91it/s]\u001b[A\n",
            "  1%|          | 3/250 [00:00<01:41,  2.44it/s]\u001b[A\n",
            "  2%|▏         | 4/250 [00:01<01:31,  2.69it/s]\u001b[A\n",
            "  2%|▏         | 5/250 [00:01<01:23,  2.95it/s]\u001b[A\n",
            "  2%|▏         | 6/250 [00:22<31:12,  7.68s/it]\u001b[A\n",
            "  3%|▎         | 7/250 [00:22<20:58,  5.18s/it]\u001b[A\n",
            "  3%|▎         | 8/250 [00:23<14:51,  3.68s/it]\u001b[A\n",
            "  4%|▎         | 9/250 [00:23<10:31,  2.62s/it]\u001b[A\n",
            "  4%|▍         | 10/250 [00:23<07:36,  1.90s/it]\u001b[A"
          ]
        },
        {
          "name": "stdout",
          "output_type": "stream",
          "text": [
            "Epoch : 10. Total: 24.10 secs, 2.41 secs/epoch.\n",
            "CUTOFF: 5 - PRECISION: 0.0108278, RECALL: 0.0038336, MAP: 0.0043967, NDCG: 0.0045093, F1: 0.0056624, HIT_RATE: 0.0541391, RMSE: nan, \n",
            "CUTOFF: 10 - PRECISION: 0.0092384, RECALL: 0.0061430, MAP: 0.0031709, NDCG: 0.0062004, F1: 0.0073792, HIT_RATE: 0.0923841, RMSE: nan, \n",
            "CUTOFF: 100 - PRECISION: 0.0091209, RECALL: 0.0618678, MAP: 0.0036053, NDCG: 0.0289534, F1: 0.0158980, HIT_RATE: 0.9120861, RMSE: nan, \n",
            "\n"
          ]
        },
        {
          "name": "stderr",
          "output_type": "stream",
          "text": [
            "\n",
            "  4%|▍         | 11/250 [01:05<55:57, 14.05s/it]\u001b[A\n",
            "  5%|▍         | 12/250 [01:05<39:00,  9.83s/it]\u001b[A\n",
            "  5%|▌         | 13/250 [01:05<27:20,  6.92s/it]\u001b[A\n",
            "  6%|▌         | 14/250 [01:05<19:16,  4.90s/it]\u001b[A\n",
            "  6%|▌         | 15/250 [01:06<13:41,  3.50s/it]\u001b[A\n",
            "  6%|▋         | 16/250 [01:26<33:49,  8.68s/it]\u001b[A\n",
            "  7%|▋         | 17/250 [01:27<23:55,  6.16s/it]\u001b[A\n",
            "  7%|▋         | 18/250 [01:27<17:01,  4.40s/it]\u001b[A\n",
            "  8%|▊         | 19/250 [01:27<12:13,  3.18s/it]\u001b[A\n",
            "  8%|▊         | 20/250 [01:28<08:53,  2.32s/it]\u001b[A"
          ]
        },
        {
          "name": "stdout",
          "output_type": "stream",
          "text": [
            "Epoch : 20. Total: 43.81 secs, 4.38 secs/epoch.\n",
            "CUTOFF: 5 - PRECISION: 0.0306291, RECALL: 0.0141731, MAP: 0.0193073, NDCG: 0.0201423, F1: 0.0193790, HIT_RATE: 0.1531457, RMSE: nan, \n",
            "CUTOFF: 10 - PRECISION: 0.0279801, RECALL: 0.0249493, MAP: 0.0150467, NDCG: 0.0273472, F1: 0.0263780, HIT_RATE: 0.2798013, RMSE: nan, \n",
            "CUTOFF: 100 - PRECISION: 0.0206242, RECALL: 0.1601681, MAP: 0.0169240, NDCG: 0.0817239, F1: 0.0365429, HIT_RATE: 2.0624172, RMSE: nan, \n",
            "\n"
          ]
        },
        {
          "name": "stderr",
          "output_type": "stream",
          "text": [
            "\n",
            "  8%|▊         | 21/250 [02:09<53:35, 14.04s/it]\u001b[A\n",
            "  9%|▉         | 22/250 [02:09<37:39,  9.91s/it]\u001b[A\n",
            "  9%|▉         | 23/250 [02:09<26:32,  7.02s/it]\u001b[A\n",
            " 10%|▉         | 24/250 [02:10<18:46,  4.99s/it]\u001b[A\n",
            " 10%|█         | 25/250 [02:10<13:22,  3.57s/it]\u001b[A\n",
            " 10%|█         | 26/250 [02:31<32:31,  8.71s/it]\u001b[A\n",
            " 11%|█         | 27/250 [02:31<22:58,  6.18s/it]\u001b[A\n",
            " 11%|█         | 28/250 [02:31<16:17,  4.40s/it]\u001b[A\n",
            " 12%|█▏        | 29/250 [02:31<11:38,  3.16s/it]\u001b[A\n",
            " 12%|█▏        | 30/250 [02:32<08:23,  2.29s/it]\u001b[A"
          ]
        },
        {
          "name": "stdout",
          "output_type": "stream",
          "text": [
            "Epoch : 30. Total: 43.37 secs, 4.34 secs/epoch.\n",
            "CUTOFF: 5 - PRECISION: 0.0403974, RECALL: 0.0196996, MAP: 0.0225585, NDCG: 0.0248031, F1: 0.0264842, HIT_RATE: 0.2019868, RMSE: nan, \n",
            "CUTOFF: 10 - PRECISION: 0.0360596, RECALL: 0.0345410, MAP: 0.0181086, NDCG: 0.0342801, F1: 0.0352839, HIT_RATE: 0.3605960, RMSE: nan, \n",
            "CUTOFF: 100 - PRECISION: 0.0235033, RECALL: 0.1893478, MAP: 0.0209316, NDCG: 0.0962649, F1: 0.0418161, HIT_RATE: 2.3503311, RMSE: nan, \n",
            "\n"
          ]
        },
        {
          "name": "stderr",
          "output_type": "stream",
          "text": [
            "\n",
            " 12%|█▏        | 31/250 [03:12<50:25, 13.82s/it]\u001b[A\n",
            " 13%|█▎        | 32/250 [03:13<35:26,  9.75s/it]\u001b[A\n",
            " 13%|█▎        | 33/250 [03:13<24:58,  6.91s/it]\u001b[A\n",
            " 14%|█▎        | 34/250 [03:13<17:40,  4.91s/it]\u001b[A\n",
            " 14%|█▍        | 35/250 [03:13<12:35,  3.52s/it]\u001b[A\n",
            " 14%|█▍        | 36/250 [03:35<31:35,  8.86s/it]\u001b[A\n",
            " 15%|█▍        | 37/250 [03:35<22:18,  6.29s/it]\u001b[A\n",
            " 15%|█▌        | 38/250 [03:35<15:49,  4.48s/it]\u001b[A\n",
            " 16%|█▌        | 39/250 [03:36<11:17,  3.21s/it]\u001b[A\n",
            " 16%|█▌        | 40/250 [03:36<08:07,  2.32s/it]\u001b[A"
          ]
        },
        {
          "name": "stdout",
          "output_type": "stream",
          "text": [
            "Epoch : 40. Total: 43.92 secs, 4.39 secs/epoch.\n",
            "CUTOFF: 5 - PRECISION: 0.0394040, RECALL: 0.0189659, MAP: 0.0218060, NDCG: 0.0238701, F1: 0.0256067, HIT_RATE: 0.1970199, RMSE: nan, \n",
            "CUTOFF: 10 - PRECISION: 0.0369536, RECALL: 0.0354797, MAP: 0.0178840, NDCG: 0.0344317, F1: 0.0362017, HIT_RATE: 0.3695364, RMSE: nan, \n",
            "CUTOFF: 100 - PRECISION: 0.0233344, RECALL: 0.1896523, MAP: 0.0206282, NDCG: 0.0956686, F1: 0.0415559, HIT_RATE: 2.3334437, RMSE: nan, \n",
            "\n"
          ]
        },
        {
          "name": "stderr",
          "output_type": "stream",
          "text": [
            "\n",
            " 16%|█▋        | 41/250 [04:17<48:14, 13.85s/it]\u001b[A\n",
            " 17%|█▋        | 42/250 [04:17<33:53,  9.78s/it]\u001b[A\n",
            " 17%|█▋        | 43/250 [04:17<23:53,  6.92s/it]\u001b[A\n",
            " 18%|█▊        | 44/250 [04:17<16:53,  4.92s/it]\u001b[A\n",
            " 18%|█▊        | 45/250 [04:18<12:02,  3.52s/it]\u001b[A\n",
            " 18%|█▊        | 46/250 [04:38<29:23,  8.65s/it]\u001b[A\n",
            " 19%|█▉        | 47/250 [04:38<20:45,  6.13s/it]\u001b[A\n",
            " 19%|█▉        | 48/250 [04:39<14:43,  4.37s/it]\u001b[A\n",
            " 20%|█▉        | 49/250 [04:39<10:30,  3.14s/it]\u001b[A\n",
            " 20%|██        | 50/250 [04:39<07:34,  2.27s/it]\u001b[A"
          ]
        },
        {
          "name": "stdout",
          "output_type": "stream",
          "text": [
            "Epoch : 50. Total: 43.16 secs, 4.32 secs/epoch.\n",
            "CUTOFF: 5 - PRECISION: 0.0386093, RECALL: 0.0182340, MAP: 0.0212130, NDCG: 0.0230252, F1: 0.0247700, HIT_RATE: 0.1930464, RMSE: nan, \n",
            "CUTOFF: 10 - PRECISION: 0.0357285, RECALL: 0.0343597, MAP: 0.0172295, NDCG: 0.0331863, F1: 0.0350307, HIT_RATE: 0.3572848, RMSE: nan, \n",
            "CUTOFF: 100 - PRECISION: 0.0215281, RECALL: 0.1708033, MAP: 0.0191685, NDCG: 0.0883529, F1: 0.0382369, HIT_RATE: 2.1528146, RMSE: nan, \n",
            "\n"
          ]
        },
        {
          "name": "stderr",
          "output_type": "stream",
          "text": [
            "\n",
            " 20%|██        | 51/250 [05:20<45:39, 13.77s/it]\u001b[A\n",
            " 21%|██        | 52/250 [05:20<32:05,  9.72s/it]\u001b[A\n",
            " 21%|██        | 53/250 [05:20<22:36,  6.88s/it]\u001b[A\n",
            " 22%|██▏       | 54/250 [05:21<15:59,  4.90s/it]\u001b[A\n",
            " 22%|██▏       | 55/250 [05:21<11:23,  3.50s/it]\u001b[A\n",
            " 22%|██▏       | 56/250 [05:41<27:51,  8.62s/it]\u001b[A\n",
            " 23%|██▎       | 57/250 [05:42<19:40,  6.12s/it]\u001b[A\n",
            " 23%|██▎       | 58/250 [05:42<13:56,  4.36s/it]\u001b[A\n",
            " 24%|██▎       | 59/250 [05:42<09:57,  3.13s/it]\u001b[A\n",
            " 24%|██▍       | 60/250 [05:43<07:10,  2.27s/it]\u001b[A"
          ]
        },
        {
          "name": "stdout",
          "output_type": "stream",
          "text": [
            "Epoch : 60. Total: 42.97 secs, 4.30 secs/epoch.\n",
            "CUTOFF: 5 - PRECISION: 0.0377152, RECALL: 0.0177546, MAP: 0.0209958, NDCG: 0.0228318, F1: 0.0241436, HIT_RATE: 0.1885762, RMSE: nan, \n",
            "CUTOFF: 10 - PRECISION: 0.0309106, RECALL: 0.0286386, MAP: 0.0160753, NDCG: 0.0299239, F1: 0.0297312, HIT_RATE: 0.3091060, RMSE: nan, \n",
            "CUTOFF: 100 - PRECISION: 0.0209421, RECALL: 0.1657339, MAP: 0.0183353, NDCG: 0.0851553, F1: 0.0371854, HIT_RATE: 2.0942053, RMSE: nan, \n",
            "\n"
          ]
        },
        {
          "name": "stderr",
          "output_type": "stream",
          "text": [
            "\n",
            " 24%|██▍       | 61/250 [06:23<43:43, 13.88s/it]\u001b[A\n",
            " 25%|██▍       | 62/250 [06:24<30:45,  9.82s/it]\u001b[A\n",
            " 25%|██▌       | 63/250 [06:24<21:43,  6.97s/it]\u001b[A\n",
            " 26%|██▌       | 64/250 [06:24<15:25,  4.98s/it]\u001b[A\n",
            " 26%|██▌       | 65/250 [06:25<11:02,  3.58s/it]\u001b[A\n",
            " 26%|██▋       | 66/250 [06:45<26:42,  8.71s/it]\u001b[A\n",
            " 27%|██▋       | 67/250 [06:46<18:52,  6.19s/it]\u001b[A\n",
            " 27%|██▋       | 68/250 [06:46<13:22,  4.41s/it]\u001b[A\n",
            " 28%|██▊       | 69/250 [06:46<09:32,  3.16s/it]\u001b[A\n",
            " 28%|██▊       | 70/250 [06:47<06:52,  2.29s/it]\u001b[A"
          ]
        },
        {
          "name": "stdout",
          "output_type": "stream",
          "text": [
            "Epoch : 70. Total: 43.78 secs, 4.38 secs/epoch.\n",
            "CUTOFF: 5 - PRECISION: 0.0331126, RECALL: 0.0156386, MAP: 0.0196699, NDCG: 0.0210402, F1: 0.0212440, HIT_RATE: 0.1655629, RMSE: nan, \n",
            "CUTOFF: 10 - PRECISION: 0.0297848, RECALL: 0.0272237, MAP: 0.0153207, NDCG: 0.0286437, F1: 0.0284467, HIT_RATE: 0.2978477, RMSE: nan, \n",
            "CUTOFF: 100 - PRECISION: 0.0194553, RECALL: 0.1496180, MAP: 0.0171538, NDCG: 0.0788932, F1: 0.0344331, HIT_RATE: 1.9455298, RMSE: nan, \n",
            "\n"
          ]
        },
        {
          "name": "stderr",
          "output_type": "stream",
          "text": [
            "\n",
            " 28%|██▊       | 71/250 [07:28<41:33, 13.93s/it]\u001b[A\n",
            " 29%|██▉       | 72/250 [07:28<29:10,  9.84s/it]\u001b[A\n",
            " 29%|██▉       | 73/250 [07:28<20:32,  6.97s/it]\u001b[A\n",
            " 30%|██▉       | 74/250 [07:28<14:31,  4.95s/it]\u001b[A\n",
            " 30%|███       | 75/250 [07:29<10:20,  3.54s/it]\u001b[A\n",
            " 30%|███       | 76/250 [07:49<24:59,  8.62s/it]\u001b[A\n",
            " 31%|███       | 77/250 [07:49<17:38,  6.12s/it]\u001b[A\n",
            " 31%|███       | 78/250 [07:50<12:31,  4.37s/it]\u001b[A\n",
            " 32%|███▏      | 79/250 [07:50<09:00,  3.16s/it]\u001b[A\n",
            " 32%|███▏      | 80/250 [07:50<06:31,  2.30s/it]\u001b[A"
          ]
        },
        {
          "name": "stdout",
          "output_type": "stream",
          "text": [
            "Epoch : 80. Total: 43.35 secs, 4.34 secs/epoch.\n",
            "CUTOFF: 5 - PRECISION: 0.0328477, RECALL: 0.0154557, MAP: 0.0179392, NDCG: 0.0192748, F1: 0.0210206, HIT_RATE: 0.1642384, RMSE: nan, \n",
            "CUTOFF: 10 - PRECISION: 0.0255960, RECALL: 0.0226104, MAP: 0.0129743, NDCG: 0.0242208, F1: 0.0240107, HIT_RATE: 0.2559603, RMSE: nan, \n",
            "CUTOFF: 100 - PRECISION: 0.0181705, RECALL: 0.1387812, MAP: 0.0149509, NDCG: 0.0725922, F1: 0.0321338, HIT_RATE: 1.8170530, RMSE: nan, \n",
            "\n"
          ]
        },
        {
          "name": "stderr",
          "output_type": "stream",
          "text": [
            "\n",
            " 32%|███▏      | 81/250 [08:31<38:54, 13.81s/it]\u001b[A\n",
            " 33%|███▎      | 82/250 [08:31<27:18,  9.75s/it]\u001b[A\n",
            " 33%|███▎      | 83/250 [08:32<19:13,  6.91s/it]\u001b[A\n",
            " 34%|███▎      | 84/250 [08:32<13:35,  4.91s/it]\u001b[A\n",
            " 34%|███▍      | 85/250 [08:32<09:40,  3.52s/it]\u001b[A\n",
            " 34%|███▍      | 86/250 [08:53<23:41,  8.67s/it]\u001b[A\n",
            " 35%|███▍      | 87/250 [08:53<16:45,  6.17s/it]\u001b[A\n",
            " 35%|███▌      | 88/250 [08:53<11:56,  4.42s/it]\u001b[A\n",
            " 36%|███▌      | 89/250 [08:54<08:33,  3.19s/it]\u001b[A\n",
            " 36%|███▌      | 90/250 [08:54<06:09,  2.31s/it]\u001b[A"
          ]
        },
        {
          "name": "stdout",
          "output_type": "stream",
          "text": [
            "Epoch : 90. Total: 43.54 secs, 4.35 secs/epoch.\n",
            "CUTOFF: 5 - PRECISION: 0.0264901, RECALL: 0.0109521, MAP: 0.0155062, NDCG: 0.0154693, F1: 0.0154971, HIT_RATE: 0.1324503, RMSE: nan, \n",
            "CUTOFF: 10 - PRECISION: 0.0249172, RECALL: 0.0216258, MAP: 0.0119775, NDCG: 0.0226467, F1: 0.0231551, HIT_RATE: 0.2491722, RMSE: nan, \n",
            "CUTOFF: 100 - PRECISION: 0.0180447, RECALL: 0.1374078, MAP: 0.0139277, NDCG: 0.0705581, F1: 0.0319002, HIT_RATE: 1.8044702, RMSE: nan, \n",
            "\n"
          ]
        },
        {
          "name": "stderr",
          "output_type": "stream",
          "text": [
            "\n",
            " 36%|███▋      | 91/250 [09:34<36:23, 13.73s/it]\u001b[A\n",
            " 37%|███▋      | 92/250 [09:35<25:31,  9.69s/it]\u001b[A\n",
            " 37%|███▋      | 93/250 [09:35<17:57,  6.86s/it]\u001b[A\n",
            " 38%|███▊      | 94/250 [09:35<12:41,  4.88s/it]\u001b[A\n",
            " 38%|███▊      | 95/250 [09:35<09:01,  3.50s/it]\u001b[A\n",
            " 38%|███▊      | 96/250 [09:56<22:08,  8.63s/it]\u001b[A\n",
            " 39%|███▉      | 97/250 [09:56<15:36,  6.12s/it]\u001b[A\n",
            " 39%|███▉      | 98/250 [09:57<11:03,  4.36s/it]\u001b[A\n",
            " 40%|███▉      | 99/250 [09:57<07:53,  3.13s/it]\u001b[A\n",
            " 40%|████      | 100/250 [09:57<05:40,  2.27s/it]\u001b[A"
          ]
        },
        {
          "name": "stdout",
          "output_type": "stream",
          "text": [
            "Epoch : 100. Total: 43.09 secs, 4.31 secs/epoch.\n",
            "CUTOFF: 5 - PRECISION: 0.0300662, RECALL: 0.0131227, MAP: 0.0163625, NDCG: 0.0170254, F1: 0.0182709, HIT_RATE: 0.1503311, RMSE: nan, \n",
            "CUTOFF: 10 - PRECISION: 0.0247020, RECALL: 0.0214081, MAP: 0.0117545, NDCG: 0.0222990, F1: 0.0229374, HIT_RATE: 0.2470199, RMSE: nan, \n",
            "CUTOFF: 100 - PRECISION: 0.0177699, RECALL: 0.1352297, MAP: 0.0135214, NDCG: 0.0691047, F1: 0.0314120, HIT_RATE: 1.7769868, RMSE: nan, \n",
            "\n"
          ]
        },
        {
          "name": "stderr",
          "output_type": "stream",
          "text": [
            "\n",
            " 40%|████      | 101/250 [10:38<34:20, 13.83s/it]\u001b[A\n",
            " 41%|████      | 102/250 [10:38<24:05,  9.76s/it]\u001b[A\n",
            " 41%|████      | 103/250 [10:38<16:56,  6.91s/it]\u001b[A\n",
            " 42%|████▏     | 104/250 [10:39<11:57,  4.92s/it]\u001b[A\n",
            " 42%|████▏     | 105/250 [10:39<08:30,  3.52s/it]\u001b[A\n",
            " 42%|████▏     | 106/250 [11:00<20:46,  8.65s/it]\u001b[A\n",
            " 43%|████▎     | 107/250 [11:00<14:38,  6.14s/it]\u001b[A\n",
            " 43%|████▎     | 108/250 [11:00<10:21,  4.38s/it]\u001b[A\n",
            " 44%|████▎     | 109/250 [11:00<07:22,  3.14s/it]\u001b[A\n",
            " 44%|████▍     | 110/250 [11:01<05:18,  2.27s/it]\u001b[A"
          ]
        },
        {
          "name": "stdout",
          "output_type": "stream",
          "text": [
            "Epoch : 110. Total: 43.38 secs, 4.34 secs/epoch.\n",
            "CUTOFF: 5 - PRECISION: 0.0266225, RECALL: 0.0116042, MAP: 0.0156977, NDCG: 0.0160238, F1: 0.0161632, HIT_RATE: 0.1331126, RMSE: nan, \n",
            "CUTOFF: 10 - PRECISION: 0.0224172, RECALL: 0.0180800, MAP: 0.0112735, NDCG: 0.0206460, F1: 0.0200164, HIT_RATE: 0.2241722, RMSE: nan, \n",
            "CUTOFF: 100 - PRECISION: 0.0177666, RECALL: 0.1345862, MAP: 0.0132193, NDCG: 0.0683138, F1: 0.0313894, HIT_RATE: 1.7766556, RMSE: nan, \n",
            "\n"
          ]
        },
        {
          "name": "stderr",
          "output_type": "stream",
          "text": [
            "\n",
            " 44%|████▍     | 111/250 [11:41<31:54, 13.77s/it]\u001b[A\n",
            " 45%|████▍     | 112/250 [11:42<22:22,  9.73s/it]\u001b[A\n",
            " 45%|████▌     | 113/250 [11:42<15:43,  6.89s/it]\u001b[A\n",
            " 46%|████▌     | 114/250 [11:42<11:06,  4.90s/it]\u001b[A\n",
            " 46%|████▌     | 115/250 [11:42<07:53,  3.51s/it]\u001b[A\n",
            " 46%|████▋     | 116/250 [12:03<19:36,  8.78s/it]\u001b[A\n",
            " 47%|████▋     | 117/250 [12:04<13:48,  6.23s/it]\u001b[A\n",
            " 47%|████▋     | 118/250 [12:04<09:46,  4.44s/it]\u001b[A\n",
            " 48%|████▊     | 119/250 [12:04<06:57,  3.19s/it]\u001b[A\n",
            " 48%|████▊     | 120/250 [12:04<04:59,  2.31s/it]\u001b[A"
          ]
        },
        {
          "name": "stdout",
          "output_type": "stream",
          "text": [
            "Epoch : 120. Total: 43.83 secs, 4.38 secs/epoch.\n",
            "CUTOFF: 5 - PRECISION: 0.0263576, RECALL: 0.0112516, MAP: 0.0156541, NDCG: 0.0157695, F1: 0.0157709, HIT_RATE: 0.1317881, RMSE: nan, \n",
            "CUTOFF: 10 - PRECISION: 0.0224669, RECALL: 0.0182982, MAP: 0.0112915, NDCG: 0.0207209, F1: 0.0201694, HIT_RATE: 0.2246689, RMSE: nan, \n",
            "CUTOFF: 100 - PRECISION: 0.0175215, RECALL: 0.1320226, MAP: 0.0130174, NDCG: 0.0672338, F1: 0.0309372, HIT_RATE: 1.7521523, RMSE: nan, \n",
            "\n"
          ]
        },
        {
          "name": "stderr",
          "output_type": "stream",
          "text": [
            "\n",
            " 48%|████▊     | 121/250 [12:45<29:47, 13.86s/it]\u001b[A\n",
            " 49%|████▉     | 122/250 [12:46<20:52,  9.78s/it]\u001b[A\n",
            " 49%|████▉     | 123/250 [12:46<14:39,  6.93s/it]\u001b[A\n",
            " 50%|████▉     | 124/250 [12:46<10:20,  4.93s/it]\u001b[A\n",
            " 50%|█████     | 125/250 [12:46<07:21,  3.53s/it]\u001b[A\n",
            " 50%|█████     | 126/250 [13:07<18:02,  8.73s/it]\u001b[A\n",
            " 51%|█████     | 127/250 [13:07<12:41,  6.19s/it]\u001b[A\n",
            " 51%|█████     | 128/250 [13:08<08:58,  4.41s/it]\u001b[A\n",
            " 52%|█████▏    | 129/250 [13:08<06:23,  3.17s/it]\u001b[A\n",
            " 52%|█████▏    | 130/250 [13:08<04:35,  2.29s/it]\u001b[A"
          ]
        },
        {
          "name": "stdout",
          "output_type": "stream",
          "text": [
            "Epoch : 130. Total: 43.52 secs, 4.35 secs/epoch.\n",
            "CUTOFF: 5 - PRECISION: 0.0265232, RECALL: 0.0113029, MAP: 0.0156126, NDCG: 0.0157563, F1: 0.0158509, HIT_RATE: 0.1326159, RMSE: nan, \n",
            "CUTOFF: 10 - PRECISION: 0.0231954, RECALL: 0.0190623, MAP: 0.0113639, NDCG: 0.0210882, F1: 0.0209267, HIT_RATE: 0.2319536, RMSE: nan, \n",
            "CUTOFF: 100 - PRECISION: 0.0170166, RECALL: 0.1279781, MAP: 0.0126276, NDCG: 0.0653164, F1: 0.0300390, HIT_RATE: 1.7016556, RMSE: nan, \n",
            "\n"
          ]
        },
        {
          "name": "stderr",
          "output_type": "stream",
          "text": [
            "\n",
            " 52%|█████▏    | 131/250 [13:49<27:23, 13.81s/it]\u001b[A\n",
            " 53%|█████▎    | 132/250 [13:49<19:12,  9.77s/it]\u001b[A\n",
            " 53%|█████▎    | 133/250 [13:50<13:31,  6.93s/it]\u001b[A\n",
            " 54%|█████▎    | 134/250 [13:50<09:34,  4.95s/it]\u001b[A\n",
            " 54%|█████▍    | 135/250 [13:50<06:49,  3.56s/it]\u001b[A\n",
            " 54%|█████▍    | 136/250 [14:11<16:31,  8.70s/it]\u001b[A\n",
            " 55%|█████▍    | 137/250 [14:11<11:37,  6.17s/it]\u001b[A\n",
            " 55%|█████▌    | 138/250 [14:11<08:12,  4.40s/it]\u001b[A\n",
            " 56%|█████▌    | 139/250 [14:12<05:50,  3.16s/it]\u001b[A\n",
            " 56%|█████▌    | 140/250 [14:12<04:11,  2.29s/it]\u001b[A"
          ]
        },
        {
          "name": "stdout",
          "output_type": "stream",
          "text": [
            "Epoch : 140. Total: 43.64 secs, 4.36 secs/epoch.\n",
            "CUTOFF: 5 - PRECISION: 0.0262914, RECALL: 0.0111762, MAP: 0.0154948, NDCG: 0.0156581, F1: 0.0156849, HIT_RATE: 0.1314570, RMSE: nan, \n",
            "CUTOFF: 10 - PRECISION: 0.0227318, RECALL: 0.0187148, MAP: 0.0113560, NDCG: 0.0209607, F1: 0.0205286, HIT_RATE: 0.2273179, RMSE: nan, \n",
            "CUTOFF: 100 - PRECISION: 0.0165911, RECALL: 0.1247166, MAP: 0.0124509, NDCG: 0.0639713, F1: 0.0292862, HIT_RATE: 1.6591060, RMSE: nan, \n",
            "\n"
          ]
        },
        {
          "name": "stderr",
          "output_type": "stream",
          "text": [
            "\n",
            " 56%|█████▋    | 141/250 [14:53<25:07, 13.83s/it]\u001b[A\n",
            " 57%|█████▋    | 142/250 [14:53<17:34,  9.77s/it]\u001b[A\n",
            " 57%|█████▋    | 143/250 [14:53<12:20,  6.92s/it]\u001b[A\n",
            " 58%|█████▊    | 144/250 [14:54<08:41,  4.92s/it]\u001b[A\n",
            " 58%|█████▊    | 145/250 [14:54<06:09,  3.52s/it]\u001b[A\n",
            " 58%|█████▊    | 146/250 [15:14<14:50,  8.56s/it]\u001b[A\n",
            " 59%|█████▉    | 147/250 [15:14<10:26,  6.08s/it]\u001b[A\n",
            " 59%|█████▉    | 148/250 [15:15<07:24,  4.36s/it]\u001b[A\n",
            " 60%|█████▉    | 149/250 [15:15<05:17,  3.15s/it]\u001b[A\n",
            " 60%|██████    | 150/250 [15:15<03:49,  2.29s/it]\u001b[A"
          ]
        },
        {
          "name": "stdout",
          "output_type": "stream",
          "text": [
            "Epoch : 150. Total: 43.30 secs, 4.33 secs/epoch.\n",
            "CUTOFF: 5 - PRECISION: 0.0261258, RECALL: 0.0111019, MAP: 0.0154538, NDCG: 0.0155928, F1: 0.0155823, HIT_RATE: 0.1306291, RMSE: nan, \n",
            "CUTOFF: 10 - PRECISION: 0.0211589, RECALL: 0.0177940, MAP: 0.0110966, NDCG: 0.0202290, F1: 0.0193311, HIT_RATE: 0.2115894, RMSE: nan, \n",
            "CUTOFF: 100 - PRECISION: 0.0162152, RECALL: 0.1205145, MAP: 0.0122594, NDCG: 0.0625468, F1: 0.0285844, HIT_RATE: 1.6215232, RMSE: nan, \n",
            "\n"
          ]
        },
        {
          "name": "stderr",
          "output_type": "stream",
          "text": [
            "\n",
            " 60%|██████    | 151/250 [15:56<22:54, 13.88s/it]\u001b[A\n",
            " 61%|██████    | 152/250 [15:57<16:00,  9.80s/it]\u001b[A\n",
            " 61%|██████    | 153/250 [15:57<11:12,  6.94s/it]\u001b[A\n",
            " 62%|██████▏   | 154/250 [15:57<07:53,  4.93s/it]\u001b[A\n",
            " 62%|██████▏   | 155/250 [15:57<05:35,  3.53s/it]\u001b[A\n",
            " 62%|██████▏   | 156/250 [16:18<13:30,  8.63s/it]\u001b[A\n",
            " 63%|██████▎   | 157/250 [16:18<09:31,  6.14s/it]\u001b[A\n",
            " 63%|██████▎   | 158/250 [16:19<06:44,  4.39s/it]\u001b[A\n",
            " 64%|██████▎   | 159/250 [16:19<04:48,  3.17s/it]\u001b[A\n",
            " 64%|██████▍   | 160/250 [16:19<03:28,  2.32s/it]\u001b[A"
          ]
        },
        {
          "name": "stdout",
          "output_type": "stream",
          "text": [
            "Epoch : 160. Total: 43.45 secs, 4.35 secs/epoch.\n",
            "CUTOFF: 5 - PRECISION: 0.0260596, RECALL: 0.0110738, MAP: 0.0155513, NDCG: 0.0155850, F1: 0.0155428, HIT_RATE: 0.1302980, RMSE: nan, \n",
            "CUTOFF: 10 - PRECISION: 0.0206126, RECALL: 0.0174305, MAP: 0.0109588, NDCG: 0.0199222, F1: 0.0188884, HIT_RATE: 0.2061258, RMSE: nan, \n",
            "CUTOFF: 100 - PRECISION: 0.0160033, RECALL: 0.1188009, MAP: 0.0120189, NDCG: 0.0616216, F1: 0.0282069, HIT_RATE: 1.6003311, RMSE: nan, \n",
            "\n"
          ]
        },
        {
          "name": "stderr",
          "output_type": "stream",
          "text": [
            "\n",
            " 64%|██████▍   | 161/250 [17:00<20:27, 13.79s/it]\u001b[A\n",
            " 65%|██████▍   | 162/250 [17:00<14:16,  9.74s/it]\u001b[A\n",
            " 65%|██████▌   | 163/250 [17:00<10:00,  6.90s/it]\u001b[A\n",
            " 66%|██████▌   | 164/250 [17:01<07:02,  4.91s/it]\u001b[A\n",
            " 66%|██████▌   | 165/250 [17:01<04:58,  3.51s/it]\u001b[A\n",
            " 66%|██████▋   | 166/250 [17:22<12:12,  8.72s/it]\u001b[A\n",
            " 67%|██████▋   | 167/250 [17:22<08:33,  6.19s/it]\u001b[A\n",
            " 67%|██████▋   | 168/250 [17:22<06:01,  4.41s/it]\u001b[A\n",
            " 68%|██████▊   | 169/250 [17:23<04:16,  3.16s/it]\u001b[A\n",
            " 68%|██████▊   | 170/250 [17:23<03:03,  2.29s/it]\u001b[A"
          ]
        },
        {
          "name": "stdout",
          "output_type": "stream",
          "text": [
            "Epoch : 170. Total: 43.53 secs, 4.35 secs/epoch.\n",
            "CUTOFF: 5 - PRECISION: 0.0254305, RECALL: 0.0115569, MAP: 0.0154010, NDCG: 0.0158008, F1: 0.0158918, HIT_RATE: 0.1271523, RMSE: nan, \n",
            "CUTOFF: 10 - PRECISION: 0.0204967, RECALL: 0.0173055, MAP: 0.0108348, NDCG: 0.0197639, F1: 0.0187664, HIT_RATE: 0.2049669, RMSE: nan, \n",
            "CUTOFF: 100 - PRECISION: 0.0156556, RECALL: 0.1154544, MAP: 0.0118507, NDCG: 0.0603951, F1: 0.0275724, HIT_RATE: 1.5655629, RMSE: nan, \n",
            "\n"
          ]
        },
        {
          "name": "stderr",
          "output_type": "stream",
          "text": [
            "\n",
            " 68%|██████▊   | 171/250 [18:03<18:06, 13.75s/it]\u001b[A\n",
            " 69%|██████▉   | 172/250 [18:04<12:37,  9.71s/it]\u001b[A\n",
            " 69%|██████▉   | 173/250 [18:04<08:49,  6.88s/it]\u001b[A\n",
            " 70%|██████▉   | 174/250 [18:04<06:11,  4.89s/it]\u001b[A\n",
            " 70%|███████   | 175/250 [18:04<04:22,  3.50s/it]\u001b[A\n",
            " 70%|███████   | 176/250 [18:25<10:36,  8.61s/it]\u001b[A\n",
            " 71%|███████   | 177/250 [18:25<07:25,  6.11s/it]\u001b[A\n",
            " 71%|███████   | 178/250 [18:25<05:13,  4.35s/it]\u001b[A\n",
            " 72%|███████▏  | 179/250 [18:26<03:41,  3.12s/it]\u001b[A\n",
            " 72%|███████▏  | 180/250 [18:26<02:38,  2.26s/it]\u001b[A"
          ]
        },
        {
          "name": "stdout",
          "output_type": "stream",
          "text": [
            "Epoch : 180. Total: 43.11 secs, 4.31 secs/epoch.\n",
            "CUTOFF: 5 - PRECISION: 0.0255960, RECALL: 0.0116488, MAP: 0.0154633, NDCG: 0.0158847, F1: 0.0160109, HIT_RATE: 0.1279801, RMSE: nan, \n",
            "CUTOFF: 10 - PRECISION: 0.0203974, RECALL: 0.0172105, MAP: 0.0108799, NDCG: 0.0197630, F1: 0.0186689, HIT_RATE: 0.2039735, RMSE: nan, \n",
            "CUTOFF: 100 - PRECISION: 0.0158129, RECALL: 0.1168690, MAP: 0.0118948, NDCG: 0.0608537, F1: 0.0278567, HIT_RATE: 1.5812914, RMSE: nan, \n",
            "\n"
          ]
        },
        {
          "name": "stderr",
          "output_type": "stream",
          "text": [
            "\n",
            " 72%|███████▏  | 181/250 [19:06<15:45, 13.70s/it]\u001b[A\n",
            " 73%|███████▎  | 182/250 [19:07<10:57,  9.68s/it]\u001b[A\n",
            " 73%|███████▎  | 183/250 [19:07<07:38,  6.85s/it]\u001b[A\n",
            " 74%|███████▎  | 184/250 [19:07<05:21,  4.87s/it]\u001b[A\n",
            " 74%|███████▍  | 185/250 [19:07<03:46,  3.48s/it]\u001b[A\n",
            " 74%|███████▍  | 186/250 [19:28<09:07,  8.56s/it]\u001b[A\n",
            " 75%|███████▍  | 187/250 [19:28<06:22,  6.08s/it]\u001b[A\n",
            " 75%|███████▌  | 188/250 [19:28<04:28,  4.33s/it]\u001b[A\n",
            " 76%|███████▌  | 189/250 [19:29<03:09,  3.11s/it]\u001b[A\n",
            " 76%|███████▌  | 190/250 [19:29<02:15,  2.25s/it]\u001b[A"
          ]
        },
        {
          "name": "stdout",
          "output_type": "stream",
          "text": [
            "Epoch : 190. Total: 43.08 secs, 4.31 secs/epoch.\n",
            "CUTOFF: 5 - PRECISION: 0.0241722, RECALL: 0.0109921, MAP: 0.0147122, NDCG: 0.0151124, F1: 0.0151121, HIT_RATE: 0.1208609, RMSE: nan, \n",
            "CUTOFF: 10 - PRECISION: 0.0205464, RECALL: 0.0173000, MAP: 0.0105918, NDCG: 0.0195258, F1: 0.0187839, HIT_RATE: 0.2054636, RMSE: nan, \n",
            "CUTOFF: 100 - PRECISION: 0.0157947, RECALL: 0.1165123, MAP: 0.0116568, NDCG: 0.0603842, F1: 0.0278183, HIT_RATE: 1.5794702, RMSE: nan, \n",
            "\n"
          ]
        },
        {
          "name": "stderr",
          "output_type": "stream",
          "text": [
            "\n",
            " 76%|███████▋  | 191/250 [20:09<13:28, 13.70s/it]\u001b[A\n",
            " 77%|███████▋  | 192/250 [20:09<09:20,  9.67s/it]\u001b[A\n",
            " 77%|███████▋  | 193/250 [20:10<06:30,  6.85s/it]\u001b[A\n",
            " 78%|███████▊  | 194/250 [20:10<04:32,  4.87s/it]\u001b[A\n",
            " 78%|███████▊  | 195/250 [20:10<03:11,  3.49s/it]\u001b[A\n",
            " 78%|███████▊  | 196/250 [20:31<07:42,  8.57s/it]\u001b[A\n",
            " 79%|███████▉  | 197/250 [20:31<05:22,  6.08s/it]\u001b[A\n",
            " 79%|███████▉  | 198/250 [20:31<03:45,  4.34s/it]\u001b[A\n",
            " 80%|███████▉  | 199/250 [20:31<02:38,  3.11s/it]\u001b[A\n",
            " 80%|████████  | 200/250 [20:32<01:52,  2.25s/it]\u001b[A"
          ]
        },
        {
          "name": "stdout",
          "output_type": "stream",
          "text": [
            "Epoch : 200. Total: 43.12 secs, 4.31 secs/epoch.\n",
            "CUTOFF: 5 - PRECISION: 0.0240397, RECALL: 0.0109807, MAP: 0.0147855, NDCG: 0.0151616, F1: 0.0150754, HIT_RATE: 0.1201987, RMSE: nan, \n",
            "CUTOFF: 10 - PRECISION: 0.0206457, RECALL: 0.0173559, MAP: 0.0106692, NDCG: 0.0196313, F1: 0.0188584, HIT_RATE: 0.2064570, RMSE: nan, \n",
            "CUTOFF: 100 - PRECISION: 0.0156474, RECALL: 0.1156472, MAP: 0.0116510, NDCG: 0.0600818, F1: 0.0275651, HIT_RATE: 1.5647351, RMSE: nan, \n",
            "\n"
          ]
        },
        {
          "name": "stderr",
          "output_type": "stream",
          "text": [
            "\n",
            " 80%|████████  | 201/250 [21:13<11:17, 13.83s/it]\u001b[A\n",
            " 81%|████████  | 202/250 [21:13<07:48,  9.77s/it]\u001b[A\n",
            " 81%|████████  | 203/250 [21:13<05:25,  6.92s/it]\u001b[A\n",
            " 82%|████████▏ | 204/250 [21:13<03:46,  4.92s/it]\u001b[A\n",
            " 82%|████████▏ | 205/250 [21:14<02:39,  3.53s/it]\u001b[A\n",
            " 82%|████████▏ | 206/250 [21:34<06:18,  8.61s/it]\u001b[A\n",
            " 83%|████████▎ | 207/250 [21:34<04:22,  6.11s/it]\u001b[A\n",
            " 83%|████████▎ | 208/250 [21:35<03:03,  4.36s/it]\u001b[A\n",
            " 84%|████████▎ | 209/250 [21:35<02:08,  3.13s/it]\u001b[A\n",
            " 84%|████████▍ | 210/250 [21:35<01:30,  2.27s/it]\u001b[A"
          ]
        },
        {
          "name": "stdout",
          "output_type": "stream",
          "text": [
            "Epoch : 210. Total: 43.25 secs, 4.32 secs/epoch.\n",
            "CUTOFF: 5 - PRECISION: 0.0242053, RECALL: 0.0110433, MAP: 0.0136005, NDCG: 0.0144420, F1: 0.0151669, HIT_RATE: 0.1210265, RMSE: nan, \n",
            "CUTOFF: 10 - PRECISION: 0.0207285, RECALL: 0.0173297, MAP: 0.0099955, NDCG: 0.0188602, F1: 0.0188773, HIT_RATE: 0.2072848, RMSE: nan, \n",
            "CUTOFF: 100 - PRECISION: 0.0155728, RECALL: 0.1146763, MAP: 0.0111455, NDCG: 0.0589958, F1: 0.0274219, HIT_RATE: 1.5572848, RMSE: nan, \n",
            "\n"
          ]
        },
        {
          "name": "stderr",
          "output_type": "stream",
          "text": [
            "\n",
            " 84%|████████▍ | 211/250 [22:16<08:58, 13.80s/it]\u001b[A\n",
            " 85%|████████▍ | 212/250 [22:16<06:10,  9.76s/it]\u001b[A\n",
            " 85%|████████▌ | 213/250 [22:17<04:16,  6.93s/it]\u001b[A\n",
            " 86%|████████▌ | 214/250 [22:17<02:58,  4.95s/it]\u001b[A\n",
            " 86%|████████▌ | 215/250 [22:17<02:04,  3.56s/it]\u001b[A\n",
            " 86%|████████▋ | 216/250 [22:38<04:59,  8.81s/it]\u001b[A\n",
            " 87%|████████▋ | 217/250 [22:39<03:26,  6.25s/it]\u001b[A\n",
            " 87%|████████▋ | 218/250 [22:39<02:22,  4.45s/it]\u001b[A\n",
            " 88%|████████▊ | 219/250 [22:39<01:39,  3.20s/it]\u001b[A\n",
            " 88%|████████▊ | 220/250 [22:39<01:09,  2.31s/it]\u001b[A"
          ]
        },
        {
          "name": "stdout",
          "output_type": "stream",
          "text": [
            "Epoch : 220. Total: 43.90 secs, 4.39 secs/epoch.\n",
            "CUTOFF: 5 - PRECISION: 0.0242384, RECALL: 0.0110233, MAP: 0.0135838, NDCG: 0.0144056, F1: 0.0151545, HIT_RATE: 0.1211921, RMSE: nan, \n",
            "CUTOFF: 10 - PRECISION: 0.0223179, RECALL: 0.0197434, MAP: 0.0102826, NDCG: 0.0200682, F1: 0.0209519, HIT_RATE: 0.2231788, RMSE: nan, \n",
            "CUTOFF: 100 - PRECISION: 0.0155712, RECALL: 0.1149691, MAP: 0.0111517, NDCG: 0.0590837, F1: 0.0274276, HIT_RATE: 1.5571192, RMSE: nan, \n",
            "\n"
          ]
        },
        {
          "name": "stderr",
          "output_type": "stream",
          "text": [
            "\n",
            " 88%|████████▊ | 221/250 [23:20<06:40, 13.82s/it]\u001b[A\n",
            " 89%|████████▉ | 222/250 [23:20<04:33,  9.76s/it]\u001b[A\n",
            " 89%|████████▉ | 223/250 [23:21<03:06,  6.91s/it]\u001b[A\n",
            " 90%|████████▉ | 224/250 [23:21<02:07,  4.92s/it]\u001b[A\n",
            " 90%|█████████ | 225/250 [23:21<01:27,  3.52s/it]\u001b[A\n",
            " 90%|█████████ | 226/250 [23:41<03:25,  8.58s/it]\u001b[A\n",
            " 91%|█████████ | 227/250 [23:42<02:20,  6.09s/it]\u001b[A\n",
            " 91%|█████████ | 228/250 [23:42<01:35,  4.36s/it]\u001b[A\n",
            " 92%|█████████▏| 229/250 [23:42<01:06,  3.15s/it]\u001b[A\n",
            " 92%|█████████▏| 230/250 [23:43<00:45,  2.30s/it]\u001b[A"
          ]
        },
        {
          "name": "stdout",
          "output_type": "stream",
          "text": [
            "Epoch : 230. Total: 43.19 secs, 4.32 secs/epoch.\n",
            "CUTOFF: 5 - PRECISION: 0.0211921, RECALL: 0.0093413, MAP: 0.0128541, NDCG: 0.0131202, F1: 0.0129668, HIT_RATE: 0.1059603, RMSE: nan, \n",
            "CUTOFF: 10 - PRECISION: 0.0223344, RECALL: 0.0197442, MAP: 0.0101981, NDCG: 0.0199589, F1: 0.0209596, HIT_RATE: 0.2233444, RMSE: nan, \n",
            "CUTOFF: 100 - PRECISION: 0.0155811, RECALL: 0.1152074, MAP: 0.0110803, NDCG: 0.0590519, F1: 0.0274498, HIT_RATE: 1.5581126, RMSE: nan, \n",
            "\n"
          ]
        },
        {
          "name": "stderr",
          "output_type": "stream",
          "text": [
            "\n",
            " 92%|█████████▏| 231/250 [24:23<04:22, 13.82s/it]\u001b[A\n",
            " 93%|█████████▎| 232/250 [24:24<02:55,  9.76s/it]\u001b[A\n",
            " 93%|█████████▎| 233/250 [24:24<01:57,  6.91s/it]\u001b[A\n",
            " 94%|█████████▎| 234/250 [24:24<01:18,  4.92s/it]\u001b[A\n",
            " 94%|█████████▍| 235/250 [24:24<00:52,  3.52s/it]\u001b[A\n",
            " 94%|█████████▍| 236/250 [24:45<02:00,  8.60s/it]\u001b[A\n",
            " 95%|█████████▍| 237/250 [24:45<01:19,  6.12s/it]\u001b[A\n",
            " 95%|█████████▌| 238/250 [24:46<00:52,  4.39s/it]\u001b[A\n",
            " 96%|█████████▌| 239/250 [24:46<00:34,  3.16s/it]\u001b[A\n",
            " 96%|█████████▌| 240/250 [24:46<00:23,  2.30s/it]\u001b[A"
          ]
        },
        {
          "name": "stdout",
          "output_type": "stream",
          "text": [
            "Epoch : 240. Total: 43.24 secs, 4.32 secs/epoch.\n",
            "CUTOFF: 5 - PRECISION: 0.0214238, RECALL: 0.0093768, MAP: 0.0129443, NDCG: 0.0131670, F1: 0.0130443, HIT_RATE: 0.1071192, RMSE: nan, \n",
            "CUTOFF: 10 - PRECISION: 0.0222517, RECALL: 0.0196974, MAP: 0.0101466, NDCG: 0.0198491, F1: 0.0208968, HIT_RATE: 0.2225166, RMSE: nan, \n",
            "CUTOFF: 100 - PRECISION: 0.0156308, RECALL: 0.1155128, MAP: 0.0110149, NDCG: 0.0590140, F1: 0.0275356, HIT_RATE: 1.5630795, RMSE: nan, \n",
            "\n"
          ]
        },
        {
          "name": "stderr",
          "output_type": "stream",
          "text": [
            "\n",
            " 96%|█████████▋| 241/250 [25:27<02:04, 13.82s/it]\u001b[A\n",
            " 97%|█████████▋| 242/250 [25:27<01:18,  9.76s/it]\u001b[A\n",
            " 97%|█████████▋| 243/250 [25:27<00:48,  6.91s/it]\u001b[A\n",
            " 98%|█████████▊| 244/250 [25:28<00:29,  4.92s/it]\u001b[A\n",
            " 98%|█████████▊| 245/250 [25:28<00:17,  3.52s/it]\u001b[A\n",
            " 98%|█████████▊| 246/250 [25:49<00:34,  8.64s/it]\u001b[A\n",
            " 99%|█████████▉| 247/250 [25:49<00:18,  6.13s/it]\u001b[A\n",
            " 99%|█████████▉| 248/250 [25:49<00:08,  4.37s/it]\u001b[A\n",
            "100%|█████████▉| 249/250 [25:49<00:03,  3.14s/it]\u001b[A\n",
            "100%|██████████| 250/250 [25:50<00:00,  2.27s/it]\u001b[A"
          ]
        },
        {
          "name": "stdout",
          "output_type": "stream",
          "text": [
            "Epoch : 250. Total: 43.24 secs, 4.32 secs/epoch.\n",
            "CUTOFF: 5 - PRECISION: 0.0215563, RECALL: 0.0093609, MAP: 0.0129529, NDCG: 0.0131236, F1: 0.0130533, HIT_RATE: 0.1077815, RMSE: nan, \n",
            "CUTOFF: 10 - PRECISION: 0.0223179, RECALL: 0.0196920, MAP: 0.0101791, NDCG: 0.0198851, F1: 0.0209229, HIT_RATE: 0.2231788, RMSE: nan, \n",
            "CUTOFF: 100 - PRECISION: 0.0156457, RECALL: 0.1155409, MAP: 0.0110296, NDCG: 0.0591015, F1: 0.0275595, HIT_RATE: 1.5645695, RMSE: nan, \n",
            "\n"
          ]
        },
        {
          "name": "stderr",
          "output_type": "stream",
          "text": [
            "\n",
            "251it [26:30,  6.36s/it]\n"
          ]
        },
        {
          "data": {
            "text/plain": [
              "251"
            ]
          },
          "execution_count": 35,
          "metadata": {},
          "output_type": "execute_result"
        }
      ],
      "source": [
        "URM_train=csr_matrix(df)\n",
        "gan2 = GANAE(URM_train, mode='user')\n",
        "gan2.fit(num_factors=250,\n",
        "        emb_dim=461,\n",
        "        d_reg=0.0001,\n",
        "        g_reg=0,\n",
        "        epochs=250,\n",
        "        batch_size=32,\n",
        "        g_lr=0.0001,\n",
        "        d_lr=0.0001,\n",
        "        d_steps=1,\n",
        "        g_steps=1,\n",
        "        recon_coefficient=0.1728565040890659,\n",
        "        m=10,\n",
        "        allow_worse=5,\n",
        "        freq=5,\n",
        "        validation_evaluator=evaluatorValidation,\n",
        "        sample_every=10,\n",
        "        validation_set=URM_validation)"
      ]
    },
    {
      "cell_type": "code",
      "execution_count": null,
      "metadata": {
        "id": "1pRHPAgwbK6B"
      },
      "outputs": [],
      "source": [
        "import pandas as pd\n",
        "df=pd.read_csv(\"/content/data1.csv\")\n"
      ]
    },
    {
      "cell_type": "code",
      "execution_count": null,
      "metadata": {
        "id": "sWBdSqvypfxM"
      },
      "outputs": [],
      "source": [
        "df = df.drop(df.columns[0], axis=1)"
      ]
    },
    {
      "cell_type": "code",
      "execution_count": null,
      "metadata": {
        "id": "NaPdm8xanIZz"
      },
      "outputs": [],
      "source": [
        "df=df.round()"
      ]
    },
    {
      "cell_type": "code",
      "execution_count": null,
      "metadata": {
        "colab": {
          "base_uri": "https://localhost:8080/"
        },
        "id": "J0RizY-qnOKA",
        "outputId": "26c825e0-2fa2-4691-c736-35fc2b10045c"
      },
      "outputs": [
        {
          "data": {
            "text/plain": [
              "169.0"
            ]
          },
          "execution_count": 38,
          "metadata": {},
          "output_type": "execute_result"
        }
      ],
      "source": [
        "df.iloc[0].sum()"
      ]
    },
    {
      "cell_type": "code",
      "execution_count": null,
      "metadata": {
        "colab": {
          "base_uri": "https://localhost:8080/",
          "height": 235
        },
        "id": "fFxrh8aZlEPa",
        "outputId": "53279915-c075-4963-9cca-5b3fa0f3524a"
      },
      "outputs": [
        {
          "data": {
            "text/html": [
              "\n",
              "  <div id=\"df-eaba1180-7b10-4dea-b2e6-350e9158de2d\">\n",
              "    <div class=\"colab-df-container\">\n",
              "      <div>\n",
              "<style scoped>\n",
              "    .dataframe tbody tr th:only-of-type {\n",
              "        vertical-align: middle;\n",
              "    }\n",
              "\n",
              "    .dataframe tbody tr th {\n",
              "        vertical-align: top;\n",
              "    }\n",
              "\n",
              "    .dataframe thead th {\n",
              "        text-align: right;\n",
              "    }\n",
              "</style>\n",
              "<table border=\"1\" class=\"dataframe\">\n",
              "  <thead>\n",
              "    <tr style=\"text-align: right;\">\n",
              "      <th></th>\n",
              "      <th>0</th>\n",
              "      <th>1</th>\n",
              "      <th>2</th>\n",
              "      <th>3</th>\n",
              "      <th>4</th>\n",
              "      <th>5</th>\n",
              "      <th>6</th>\n",
              "      <th>7</th>\n",
              "      <th>8</th>\n",
              "      <th>9</th>\n",
              "      <th>...</th>\n",
              "      <th>3696</th>\n",
              "      <th>3697</th>\n",
              "      <th>3698</th>\n",
              "      <th>3699</th>\n",
              "      <th>3700</th>\n",
              "      <th>3701</th>\n",
              "      <th>3702</th>\n",
              "      <th>3703</th>\n",
              "      <th>3704</th>\n",
              "      <th>3705</th>\n",
              "    </tr>\n",
              "  </thead>\n",
              "  <tbody>\n",
              "    <tr>\n",
              "      <th>0</th>\n",
              "      <td>0.0</td>\n",
              "      <td>0.0</td>\n",
              "      <td>0.0</td>\n",
              "      <td>0.0</td>\n",
              "      <td>0.0</td>\n",
              "      <td>1.0</td>\n",
              "      <td>0.0</td>\n",
              "      <td>0.0</td>\n",
              "      <td>0.0</td>\n",
              "      <td>0.0</td>\n",
              "      <td>...</td>\n",
              "      <td>0.0</td>\n",
              "      <td>0.0</td>\n",
              "      <td>0.0</td>\n",
              "      <td>0.0</td>\n",
              "      <td>0.0</td>\n",
              "      <td>1.0</td>\n",
              "      <td>0.0</td>\n",
              "      <td>0.0</td>\n",
              "      <td>0.0</td>\n",
              "      <td>0.0</td>\n",
              "    </tr>\n",
              "    <tr>\n",
              "      <th>1</th>\n",
              "      <td>1.0</td>\n",
              "      <td>1.0</td>\n",
              "      <td>0.0</td>\n",
              "      <td>0.0</td>\n",
              "      <td>0.0</td>\n",
              "      <td>0.0</td>\n",
              "      <td>0.0</td>\n",
              "      <td>0.0</td>\n",
              "      <td>0.0</td>\n",
              "      <td>1.0</td>\n",
              "      <td>...</td>\n",
              "      <td>0.0</td>\n",
              "      <td>0.0</td>\n",
              "      <td>0.0</td>\n",
              "      <td>0.0</td>\n",
              "      <td>0.0</td>\n",
              "      <td>0.0</td>\n",
              "      <td>0.0</td>\n",
              "      <td>0.0</td>\n",
              "      <td>0.0</td>\n",
              "      <td>0.0</td>\n",
              "    </tr>\n",
              "    <tr>\n",
              "      <th>2</th>\n",
              "      <td>1.0</td>\n",
              "      <td>0.0</td>\n",
              "      <td>0.0</td>\n",
              "      <td>0.0</td>\n",
              "      <td>0.0</td>\n",
              "      <td>0.0</td>\n",
              "      <td>0.0</td>\n",
              "      <td>0.0</td>\n",
              "      <td>0.0</td>\n",
              "      <td>0.0</td>\n",
              "      <td>...</td>\n",
              "      <td>0.0</td>\n",
              "      <td>0.0</td>\n",
              "      <td>0.0</td>\n",
              "      <td>0.0</td>\n",
              "      <td>0.0</td>\n",
              "      <td>0.0</td>\n",
              "      <td>0.0</td>\n",
              "      <td>0.0</td>\n",
              "      <td>0.0</td>\n",
              "      <td>0.0</td>\n",
              "    </tr>\n",
              "    <tr>\n",
              "      <th>3</th>\n",
              "      <td>0.0</td>\n",
              "      <td>0.0</td>\n",
              "      <td>0.0</td>\n",
              "      <td>0.0</td>\n",
              "      <td>0.0</td>\n",
              "      <td>0.0</td>\n",
              "      <td>0.0</td>\n",
              "      <td>0.0</td>\n",
              "      <td>0.0</td>\n",
              "      <td>0.0</td>\n",
              "      <td>...</td>\n",
              "      <td>0.0</td>\n",
              "      <td>0.0</td>\n",
              "      <td>0.0</td>\n",
              "      <td>0.0</td>\n",
              "      <td>0.0</td>\n",
              "      <td>0.0</td>\n",
              "      <td>1.0</td>\n",
              "      <td>0.0</td>\n",
              "      <td>0.0</td>\n",
              "      <td>1.0</td>\n",
              "    </tr>\n",
              "    <tr>\n",
              "      <th>4</th>\n",
              "      <td>1.0</td>\n",
              "      <td>0.0</td>\n",
              "      <td>1.0</td>\n",
              "      <td>1.0</td>\n",
              "      <td>0.0</td>\n",
              "      <td>0.0</td>\n",
              "      <td>1.0</td>\n",
              "      <td>0.0</td>\n",
              "      <td>0.0</td>\n",
              "      <td>0.0</td>\n",
              "      <td>...</td>\n",
              "      <td>0.0</td>\n",
              "      <td>0.0</td>\n",
              "      <td>0.0</td>\n",
              "      <td>0.0</td>\n",
              "      <td>0.0</td>\n",
              "      <td>0.0</td>\n",
              "      <td>0.0</td>\n",
              "      <td>0.0</td>\n",
              "      <td>0.0</td>\n",
              "      <td>0.0</td>\n",
              "    </tr>\n",
              "  </tbody>\n",
              "</table>\n",
              "<p>5 rows × 3706 columns</p>\n",
              "</div>\n",
              "      <button class=\"colab-df-convert\" onclick=\"convertToInteractive('df-eaba1180-7b10-4dea-b2e6-350e9158de2d')\"\n",
              "              title=\"Convert this dataframe to an interactive table.\"\n",
              "              style=\"display:none;\">\n",
              "        \n",
              "  <svg xmlns=\"http://www.w3.org/2000/svg\" height=\"24px\"viewBox=\"0 0 24 24\"\n",
              "       width=\"24px\">\n",
              "    <path d=\"M0 0h24v24H0V0z\" fill=\"none\"/>\n",
              "    <path d=\"M18.56 5.44l.94 2.06.94-2.06 2.06-.94-2.06-.94-.94-2.06-.94 2.06-2.06.94zm-11 1L8.5 8.5l.94-2.06 2.06-.94-2.06-.94L8.5 2.5l-.94 2.06-2.06.94zm10 10l.94 2.06.94-2.06 2.06-.94-2.06-.94-.94-2.06-.94 2.06-2.06.94z\"/><path d=\"M17.41 7.96l-1.37-1.37c-.4-.4-.92-.59-1.43-.59-.52 0-1.04.2-1.43.59L10.3 9.45l-7.72 7.72c-.78.78-.78 2.05 0 2.83L4 21.41c.39.39.9.59 1.41.59.51 0 1.02-.2 1.41-.59l7.78-7.78 2.81-2.81c.8-.78.8-2.07 0-2.86zM5.41 20L4 18.59l7.72-7.72 1.47 1.35L5.41 20z\"/>\n",
              "  </svg>\n",
              "      </button>\n",
              "      \n",
              "  <style>\n",
              "    .colab-df-container {\n",
              "      display:flex;\n",
              "      flex-wrap:wrap;\n",
              "      gap: 12px;\n",
              "    }\n",
              "\n",
              "    .colab-df-convert {\n",
              "      background-color: #E8F0FE;\n",
              "      border: none;\n",
              "      border-radius: 50%;\n",
              "      cursor: pointer;\n",
              "      display: none;\n",
              "      fill: #1967D2;\n",
              "      height: 32px;\n",
              "      padding: 0 0 0 0;\n",
              "      width: 32px;\n",
              "    }\n",
              "\n",
              "    .colab-df-convert:hover {\n",
              "      background-color: #E2EBFA;\n",
              "      box-shadow: 0px 1px 2px rgba(60, 64, 67, 0.3), 0px 1px 3px 1px rgba(60, 64, 67, 0.15);\n",
              "      fill: #174EA6;\n",
              "    }\n",
              "\n",
              "    [theme=dark] .colab-df-convert {\n",
              "      background-color: #3B4455;\n",
              "      fill: #D2E3FC;\n",
              "    }\n",
              "\n",
              "    [theme=dark] .colab-df-convert:hover {\n",
              "      background-color: #434B5C;\n",
              "      box-shadow: 0px 1px 3px 1px rgba(0, 0, 0, 0.15);\n",
              "      filter: drop-shadow(0px 1px 2px rgba(0, 0, 0, 0.3));\n",
              "      fill: #FFFFFF;\n",
              "    }\n",
              "  </style>\n",
              "\n",
              "      <script>\n",
              "        const buttonEl =\n",
              "          document.querySelector('#df-eaba1180-7b10-4dea-b2e6-350e9158de2d button.colab-df-convert');\n",
              "        buttonEl.style.display =\n",
              "          google.colab.kernel.accessAllowed ? 'block' : 'none';\n",
              "\n",
              "        async function convertToInteractive(key) {\n",
              "          const element = document.querySelector('#df-eaba1180-7b10-4dea-b2e6-350e9158de2d');\n",
              "          const dataTable =\n",
              "            await google.colab.kernel.invokeFunction('convertToInteractive',\n",
              "                                                     [key], {});\n",
              "          if (!dataTable) return;\n",
              "\n",
              "          const docLinkHtml = 'Like what you see? Visit the ' +\n",
              "            '<a target=\"_blank\" href=https://colab.research.google.com/notebooks/data_table.ipynb>data table notebook</a>'\n",
              "            + ' to learn more about interactive tables.';\n",
              "          element.innerHTML = '';\n",
              "          dataTable['output_type'] = 'display_data';\n",
              "          await google.colab.output.renderOutput(dataTable, element);\n",
              "          const docLink = document.createElement('div');\n",
              "          docLink.innerHTML = docLinkHtml;\n",
              "          element.appendChild(docLink);\n",
              "        }\n",
              "      </script>\n",
              "    </div>\n",
              "  </div>\n",
              "  "
            ],
            "text/plain": [
              "     0    1    2    3    4    5    6    7    8    9  ...  3696  3697  3698  \\\n",
              "0  0.0  0.0  0.0  0.0  0.0  1.0  0.0  0.0  0.0  0.0  ...   0.0   0.0   0.0   \n",
              "1  1.0  1.0  0.0  0.0  0.0  0.0  0.0  0.0  0.0  1.0  ...   0.0   0.0   0.0   \n",
              "2  1.0  0.0  0.0  0.0  0.0  0.0  0.0  0.0  0.0  0.0  ...   0.0   0.0   0.0   \n",
              "3  0.0  0.0  0.0  0.0  0.0  0.0  0.0  0.0  0.0  0.0  ...   0.0   0.0   0.0   \n",
              "4  1.0  0.0  1.0  1.0  0.0  0.0  1.0  0.0  0.0  0.0  ...   0.0   0.0   0.0   \n",
              "\n",
              "   3699  3700  3701  3702  3703  3704  3705  \n",
              "0   0.0   0.0   1.0   0.0   0.0   0.0   0.0  \n",
              "1   0.0   0.0   0.0   0.0   0.0   0.0   0.0  \n",
              "2   0.0   0.0   0.0   0.0   0.0   0.0   0.0  \n",
              "3   0.0   0.0   0.0   1.0   0.0   0.0   1.0  \n",
              "4   0.0   0.0   0.0   0.0   0.0   0.0   0.0  \n",
              "\n",
              "[5 rows x 3706 columns]"
            ]
          },
          "execution_count": 39,
          "metadata": {},
          "output_type": "execute_result"
        }
      ],
      "source": [
        "df.head()"
      ]
    },
    {
      "cell_type": "code",
      "execution_count": null,
      "metadata": {
        "id": "mFjnhCbEev0d"
      },
      "outputs": [],
      "source": [
        "URM_train=csr_matrix(df)"
      ]
    },
    {
      "cell_type": "code",
      "execution_count": null,
      "metadata": {
        "colab": {
          "base_uri": "https://localhost:8080/"
        },
        "id": "ESE74c2GpZno",
        "outputId": "20c0151a-a777-4748-c420-d8c938bfd952"
      },
      "outputs": [
        {
          "data": {
            "text/plain": [
              "(500, 3706)"
            ]
          },
          "execution_count": 41,
          "metadata": {},
          "output_type": "execute_result"
        }
      ],
      "source": [
        "URM_train.shape"
      ]
    },
    {
      "cell_type": "code",
      "execution_count": null,
      "metadata": {
        "colab": {
          "base_uri": "https://localhost:8080/"
        },
        "id": "vJ1s45vhfEsy",
        "outputId": "58fff100-44a9-4450-8cc7-7b49da5e265e"
      },
      "outputs": [
        {
          "name": "stderr",
          "output_type": "stream",
          "text": [
            "  4%|▍         | 10/250 [00:33<11:39,  2.91s/it]"
          ]
        },
        {
          "name": "stdout",
          "output_type": "stream",
          "text": [
            "Epoch : 10. Total: 35.36 secs, 3.54 secs/epoch.\n",
            "CUTOFF: 5 - PRECISION: 0.0087417, RECALL: 0.0026442, MAP: 0.0039680, NDCG: 0.0035764, F1: 0.0040603, HIT_RATE: 0.0437086, RMSE: nan, \n",
            "CUTOFF: 20 - PRECISION: 0.0065977, RECALL: 0.0067990, MAP: 0.0020355, NDCG: 0.0064488, F1: 0.0066968, HIT_RATE: 0.1319536, RMSE: nan, \n",
            "\n"
          ]
        },
        {
          "name": "stderr",
          "output_type": "stream",
          "text": [
            "  8%|▊         | 20/250 [01:42<13:34,  3.54s/it]"
          ]
        },
        {
          "name": "stdout",
          "output_type": "stream",
          "text": [
            "Epoch : 20. Total: 50.95 secs, 5.10 secs/epoch.\n",
            "CUTOFF: 5 - PRECISION: 0.0119868, RECALL: 0.0034885, MAP: 0.0060805, NDCG: 0.0052033, F1: 0.0054042, HIT_RATE: 0.0599338, RMSE: nan, \n",
            "CUTOFF: 20 - PRECISION: 0.0108444, RECALL: 0.0140421, MAP: 0.0036853, NDCG: 0.0119684, F1: 0.0122378, HIT_RATE: 0.2168874, RMSE: nan, \n",
            "\n"
          ]
        },
        {
          "name": "stderr",
          "output_type": "stream",
          "text": [
            " 12%|█▏        | 30/250 [02:51<12:09,  3.31s/it]"
          ]
        },
        {
          "name": "stdout",
          "output_type": "stream",
          "text": [
            "Epoch : 30. Total: 51.36 secs, 5.14 secs/epoch.\n",
            "CUTOFF: 5 - PRECISION: 0.0236093, RECALL: 0.0087887, MAP: 0.0110719, NDCG: 0.0113812, F1: 0.0128091, HIT_RATE: 0.1180464, RMSE: nan, \n",
            "CUTOFF: 20 - PRECISION: 0.0213162, RECALL: 0.0321877, MAP: 0.0078104, NDCG: 0.0249858, F1: 0.0256475, HIT_RATE: 0.4263245, RMSE: nan, \n",
            "\n"
          ]
        },
        {
          "name": "stderr",
          "output_type": "stream",
          "text": [
            " 16%|█▌        | 40/250 [03:56<10:56,  3.13s/it]"
          ]
        },
        {
          "name": "stdout",
          "output_type": "stream",
          "text": [
            "Epoch : 40. Total: 48.84 secs, 4.88 secs/epoch.\n",
            "CUTOFF: 5 - PRECISION: 0.0324503, RECALL: 0.0146198, MAP: 0.0149755, NDCG: 0.0164799, F1: 0.0201579, HIT_RATE: 0.1622517, RMSE: nan, \n",
            "CUTOFF: 20 - PRECISION: 0.0259934, RECALL: 0.0407937, MAP: 0.0103635, NDCG: 0.0319780, F1: 0.0317536, HIT_RATE: 0.5198675, RMSE: nan, \n",
            "\n"
          ]
        },
        {
          "name": "stderr",
          "output_type": "stream",
          "text": [
            " 20%|██        | 50/250 [05:01<10:11,  3.06s/it]"
          ]
        },
        {
          "name": "stdout",
          "output_type": "stream",
          "text": [
            "Epoch : 50. Total: 47.96 secs, 4.80 secs/epoch.\n",
            "CUTOFF: 5 - PRECISION: 0.0359272, RECALL: 0.0168968, MAP: 0.0173446, NDCG: 0.0194401, F1: 0.0229840, HIT_RATE: 0.1796358, RMSE: nan, \n",
            "CUTOFF: 20 - PRECISION: 0.0292632, RECALL: 0.0490584, MAP: 0.0130073, NDCG: 0.0383709, F1: 0.0366593, HIT_RATE: 0.5852649, RMSE: nan, \n",
            "\n"
          ]
        },
        {
          "name": "stderr",
          "output_type": "stream",
          "text": [
            " 24%|██▍       | 60/250 [06:07<10:22,  3.28s/it]"
          ]
        },
        {
          "name": "stdout",
          "output_type": "stream",
          "text": [
            "Epoch : 60. Total: 49.33 secs, 4.93 secs/epoch.\n",
            "CUTOFF: 5 - PRECISION: 0.0357616, RECALL: 0.0167293, MAP: 0.0207356, NDCG: 0.0219781, F1: 0.0227951, HIT_RATE: 0.1788079, RMSE: nan, \n",
            "CUTOFF: 20 - PRECISION: 0.0329056, RECALL: 0.0575701, MAP: 0.0162394, NDCG: 0.0455083, F1: 0.0418760, HIT_RATE: 0.6581126, RMSE: nan, \n",
            "\n"
          ]
        },
        {
          "name": "stderr",
          "output_type": "stream",
          "text": [
            " 28%|██▊       | 70/250 [07:11<09:09,  3.05s/it]"
          ]
        },
        {
          "name": "stdout",
          "output_type": "stream",
          "text": [
            "Epoch : 70. Total: 47.52 secs, 4.75 secs/epoch.\n",
            "CUTOFF: 5 - PRECISION: 0.0358940, RECALL: 0.0167957, MAP: 0.0220199, NDCG: 0.0227980, F1: 0.0228836, HIT_RATE: 0.1794702, RMSE: nan, \n",
            "CUTOFF: 20 - PRECISION: 0.0340149, RECALL: 0.0593071, MAP: 0.0172807, NDCG: 0.0476283, F1: 0.0432337, HIT_RATE: 0.6802980, RMSE: nan, \n",
            "\n"
          ]
        },
        {
          "name": "stderr",
          "output_type": "stream",
          "text": [
            " 32%|███▏      | 80/250 [08:17<09:28,  3.34s/it]"
          ]
        },
        {
          "name": "stdout",
          "output_type": "stream",
          "text": [
            "Epoch : 80. Total: 49.01 secs, 4.90 secs/epoch.\n",
            "CUTOFF: 5 - PRECISION: 0.0418874, RECALL: 0.0201769, MAP: 0.0242154, NDCG: 0.0258064, F1: 0.0272349, HIT_RATE: 0.2094371, RMSE: nan, \n",
            "CUTOFF: 20 - PRECISION: 0.0342136, RECALL: 0.0605366, MAP: 0.0179108, NDCG: 0.0489228, F1: 0.0437186, HIT_RATE: 0.6842715, RMSE: nan, \n",
            "\n"
          ]
        },
        {
          "name": "stderr",
          "output_type": "stream",
          "text": [
            " 36%|███▌      | 90/250 [09:22<08:16,  3.10s/it]"
          ]
        },
        {
          "name": "stdout",
          "output_type": "stream",
          "text": [
            "Epoch : 90. Total: 48.47 secs, 4.85 secs/epoch.\n",
            "CUTOFF: 5 - PRECISION: 0.0418212, RECALL: 0.0202208, MAP: 0.0239601, NDCG: 0.0256781, F1: 0.0272608, HIT_RATE: 0.2091060, RMSE: nan, \n",
            "CUTOFF: 20 - PRECISION: 0.0366887, RECALL: 0.0670474, MAP: 0.0185901, NDCG: 0.0520148, F1: 0.0474258, HIT_RATE: 0.7337748, RMSE: nan, \n",
            "\n"
          ]
        },
        {
          "name": "stderr",
          "output_type": "stream",
          "text": [
            " 40%|████      | 100/250 [10:27<07:44,  3.10s/it]"
          ]
        },
        {
          "name": "stdout",
          "output_type": "stream",
          "text": [
            "Epoch : 100. Total: 48.90 secs, 4.89 secs/epoch.\n",
            "CUTOFF: 5 - PRECISION: 0.0421192, RECALL: 0.0209049, MAP: 0.0239868, NDCG: 0.0260653, F1: 0.0279416, HIT_RATE: 0.2105960, RMSE: nan, \n",
            "CUTOFF: 20 - PRECISION: 0.0365232, RECALL: 0.0668363, MAP: 0.0186373, NDCG: 0.0520293, F1: 0.0472346, HIT_RATE: 0.7304636, RMSE: nan, \n",
            "\n"
          ]
        },
        {
          "name": "stderr",
          "output_type": "stream",
          "text": [
            " 44%|████▍     | 110/250 [11:33<07:22,  3.16s/it]"
          ]
        },
        {
          "name": "stdout",
          "output_type": "stream",
          "text": [
            "Epoch : 110. Total: 49.07 secs, 4.91 secs/epoch.\n",
            "CUTOFF: 5 - PRECISION: 0.0427152, RECALL: 0.0209057, MAP: 0.0242089, NDCG: 0.0262434, F1: 0.0280723, HIT_RATE: 0.2135762, RMSE: nan, \n",
            "CUTOFF: 20 - PRECISION: 0.0373924, RECALL: 0.0685533, MAP: 0.0188544, NDCG: 0.0528393, F1: 0.0483903, HIT_RATE: 0.7478477, RMSE: nan, \n",
            "\n"
          ]
        },
        {
          "name": "stderr",
          "output_type": "stream",
          "text": [
            " 48%|████▊     | 120/250 [12:37<06:37,  3.06s/it]"
          ]
        },
        {
          "name": "stdout",
          "output_type": "stream",
          "text": [
            "Epoch : 120. Total: 47.70 secs, 4.77 secs/epoch.\n",
            "CUTOFF: 5 - PRECISION: 0.0426490, RECALL: 0.0208927, MAP: 0.0241807, NDCG: 0.0262251, F1: 0.0280462, HIT_RATE: 0.2132450, RMSE: nan, \n",
            "CUTOFF: 20 - PRECISION: 0.0370861, RECALL: 0.0672549, MAP: 0.0187405, NDCG: 0.0523234, F1: 0.0478090, HIT_RATE: 0.7417219, RMSE: nan, \n",
            "\n"
          ]
        },
        {
          "name": "stderr",
          "output_type": "stream",
          "text": [
            " 52%|█████▏    | 130/250 [13:43<06:25,  3.21s/it]"
          ]
        },
        {
          "name": "stdout",
          "output_type": "stream",
          "text": [
            "Epoch : 130. Total: 49.18 secs, 4.92 secs/epoch.\n",
            "CUTOFF: 5 - PRECISION: 0.0427152, RECALL: 0.0209478, MAP: 0.0227114, NDCG: 0.0247362, F1: 0.0281102, HIT_RATE: 0.2135762, RMSE: nan, \n",
            "CUTOFF: 20 - PRECISION: 0.0369536, RECALL: 0.0671026, MAP: 0.0173013, NDCG: 0.0506935, F1: 0.0476605, HIT_RATE: 0.7390728, RMSE: nan, \n",
            "\n"
          ]
        },
        {
          "name": "stderr",
          "output_type": "stream",
          "text": [
            " 56%|█████▌    | 140/250 [14:48<05:39,  3.09s/it]"
          ]
        },
        {
          "name": "stdout",
          "output_type": "stream",
          "text": [
            "Epoch : 140. Total: 48.55 secs, 4.85 secs/epoch.\n",
            "CUTOFF: 5 - PRECISION: 0.0426821, RECALL: 0.0209700, MAP: 0.0227152, NDCG: 0.0247643, F1: 0.0281230, HIT_RATE: 0.2134106, RMSE: nan, \n",
            "CUTOFF: 20 - PRECISION: 0.0369288, RECALL: 0.0671027, MAP: 0.0172669, NDCG: 0.0506323, F1: 0.0476399, HIT_RATE: 0.7385762, RMSE: nan, \n",
            "\n"
          ]
        },
        {
          "name": "stderr",
          "output_type": "stream",
          "text": [
            " 60%|██████    | 150/250 [15:54<05:23,  3.24s/it]"
          ]
        },
        {
          "name": "stdout",
          "output_type": "stream",
          "text": [
            "Epoch : 150. Total: 49.29 secs, 4.93 secs/epoch.\n",
            "CUTOFF: 5 - PRECISION: 0.0426490, RECALL: 0.0208970, MAP: 0.0222909, NDCG: 0.0243992, F1: 0.0280502, HIT_RATE: 0.2132450, RMSE: nan, \n",
            "CUTOFF: 20 - PRECISION: 0.0365397, RECALL: 0.0657493, MAP: 0.0168822, NDCG: 0.0496820, F1: 0.0469740, HIT_RATE: 0.7307947, RMSE: nan, \n",
            "\n"
          ]
        },
        {
          "name": "stderr",
          "output_type": "stream",
          "text": [
            " 64%|██████▍   | 160/250 [16:59<04:35,  3.06s/it]"
          ]
        },
        {
          "name": "stdout",
          "output_type": "stream",
          "text": [
            "Epoch : 160. Total: 47.66 secs, 4.77 secs/epoch.\n",
            "CUTOFF: 5 - PRECISION: 0.0426159, RECALL: 0.0208529, MAP: 0.0217861, NDCG: 0.0238598, F1: 0.0280032, HIT_RATE: 0.2130795, RMSE: nan, \n",
            "CUTOFF: 20 - PRECISION: 0.0364901, RECALL: 0.0656360, MAP: 0.0163891, NDCG: 0.0490129, F1: 0.0469040, HIT_RATE: 0.7298013, RMSE: nan, \n",
            "\n"
          ]
        },
        {
          "name": "stderr",
          "output_type": "stream",
          "text": [
            " 68%|██████▊   | 170/250 [18:04<04:22,  3.28s/it]"
          ]
        },
        {
          "name": "stdout",
          "output_type": "stream",
          "text": [
            "Epoch : 170. Total: 49.15 secs, 4.92 secs/epoch.\n",
            "CUTOFF: 5 - PRECISION: 0.0426490, RECALL: 0.0208612, MAP: 0.0217635, NDCG: 0.0238348, F1: 0.0280178, HIT_RATE: 0.2132450, RMSE: nan, \n",
            "CUTOFF: 20 - PRECISION: 0.0356788, RECALL: 0.0631163, MAP: 0.0161373, NDCG: 0.0479207, F1: 0.0455876, HIT_RATE: 0.7135762, RMSE: nan, \n",
            "\n"
          ]
        },
        {
          "name": "stderr",
          "output_type": "stream",
          "text": [
            " 72%|███████▏  | 180/250 [19:09<03:36,  3.09s/it]"
          ]
        },
        {
          "name": "stdout",
          "output_type": "stream",
          "text": [
            "Epoch : 180. Total: 48.29 secs, 4.83 secs/epoch.\n",
            "CUTOFF: 5 - PRECISION: 0.0424834, RECALL: 0.0207058, MAP: 0.0216353, NDCG: 0.0236450, F1: 0.0278419, HIT_RATE: 0.2124172, RMSE: nan, \n",
            "CUTOFF: 20 - PRECISION: 0.0356788, RECALL: 0.0631024, MAP: 0.0160309, NDCG: 0.0477272, F1: 0.0455839, HIT_RATE: 0.7135762, RMSE: nan, \n",
            "\n"
          ]
        },
        {
          "name": "stderr",
          "output_type": "stream",
          "text": [
            " 76%|███████▌  | 190/250 [20:16<03:17,  3.29s/it]"
          ]
        },
        {
          "name": "stdout",
          "output_type": "stream",
          "text": [
            "Epoch : 190. Total: 49.09 secs, 4.91 secs/epoch.\n",
            "CUTOFF: 5 - PRECISION: 0.0371192, RECALL: 0.0161717, MAP: 0.0201792, NDCG: 0.0210152, F1: 0.0225285, HIT_RATE: 0.1855960, RMSE: nan, \n",
            "CUTOFF: 20 - PRECISION: 0.0356540, RECALL: 0.0630385, MAP: 0.0162219, NDCG: 0.0476868, F1: 0.0455470, HIT_RATE: 0.7130795, RMSE: nan, \n",
            "\n"
          ]
        },
        {
          "name": "stderr",
          "output_type": "stream",
          "text": [
            " 80%|████████  | 200/250 [21:20<02:34,  3.08s/it]"
          ]
        },
        {
          "name": "stdout",
          "output_type": "stream",
          "text": [
            "Epoch : 200. Total: 47.63 secs, 4.76 secs/epoch.\n",
            "CUTOFF: 5 - PRECISION: 0.0369868, RECALL: 0.0160788, MAP: 0.0201384, NDCG: 0.0209332, F1: 0.0224139, HIT_RATE: 0.1849338, RMSE: nan, \n",
            "CUTOFF: 20 - PRECISION: 0.0360679, RECALL: 0.0628219, MAP: 0.0160876, NDCG: 0.0475096, F1: 0.0458258, HIT_RATE: 0.7213576, RMSE: nan, \n",
            "\n"
          ]
        },
        {
          "name": "stderr",
          "output_type": "stream",
          "text": [
            " 84%|████████▍ | 210/250 [22:26<02:14,  3.36s/it]"
          ]
        },
        {
          "name": "stdout",
          "output_type": "stream",
          "text": [
            "Epoch : 210. Total: 49.56 secs, 4.96 secs/epoch.\n",
            "CUTOFF: 5 - PRECISION: 0.0369205, RECALL: 0.0160394, MAP: 0.0200953, NDCG: 0.0208770, F1: 0.0223634, HIT_RATE: 0.1846026, RMSE: nan, \n",
            "CUTOFF: 20 - PRECISION: 0.0360513, RECALL: 0.0627759, MAP: 0.0158848, NDCG: 0.0471662, F1: 0.0458002, HIT_RATE: 0.7210265, RMSE: nan, \n",
            "\n"
          ]
        },
        {
          "name": "stderr",
          "output_type": "stream",
          "text": [
            " 88%|████████▊ | 220/250 [23:31<01:33,  3.12s/it]"
          ]
        },
        {
          "name": "stdout",
          "output_type": "stream",
          "text": [
            "Epoch : 220. Total: 48.68 secs, 4.87 secs/epoch.\n",
            "CUTOFF: 5 - PRECISION: 0.0368874, RECALL: 0.0160275, MAP: 0.0200999, NDCG: 0.0208725, F1: 0.0223458, HIT_RATE: 0.1844371, RMSE: nan, \n",
            "CUTOFF: 20 - PRECISION: 0.0360513, RECALL: 0.0627947, MAP: 0.0157918, NDCG: 0.0470210, F1: 0.0458052, HIT_RATE: 0.7210265, RMSE: nan, \n",
            "\n"
          ]
        },
        {
          "name": "stderr",
          "output_type": "stream",
          "text": [
            " 92%|█████████▏| 230/250 [24:37<01:05,  3.29s/it]"
          ]
        },
        {
          "name": "stdout",
          "output_type": "stream",
          "text": [
            "Epoch : 230. Total: 49.80 secs, 4.98 secs/epoch.\n",
            "CUTOFF: 5 - PRECISION: 0.0366556, RECALL: 0.0159414, MAP: 0.0200395, NDCG: 0.0207797, F1: 0.0222196, HIT_RATE: 0.1832781, RMSE: nan, \n",
            "CUTOFF: 20 - PRECISION: 0.0347020, RECALL: 0.0603207, MAP: 0.0155061, NDCG: 0.0457296, F1: 0.0440579, HIT_RATE: 0.6940397, RMSE: nan, \n",
            "\n"
          ]
        },
        {
          "name": "stderr",
          "output_type": "stream",
          "text": [
            " 96%|█████████▌| 240/250 [25:43<00:31,  3.14s/it]"
          ]
        },
        {
          "name": "stdout",
          "output_type": "stream",
          "text": [
            "Epoch : 240. Total: 48.88 secs, 4.89 secs/epoch.\n",
            "CUTOFF: 5 - PRECISION: 0.0366556, RECALL: 0.0158931, MAP: 0.0198652, NDCG: 0.0206680, F1: 0.0221727, HIT_RATE: 0.1832781, RMSE: nan, \n",
            "CUTOFF: 20 - PRECISION: 0.0346937, RECALL: 0.0603250, MAP: 0.0154013, NDCG: 0.0455479, F1: 0.0440523, HIT_RATE: 0.6938742, RMSE: nan, \n",
            "\n"
          ]
        },
        {
          "name": "stderr",
          "output_type": "stream",
          "text": [
            "100%|██████████| 250/250 [26:49<00:00,  3.31s/it]"
          ]
        },
        {
          "name": "stdout",
          "output_type": "stream",
          "text": [
            "Epoch : 250. Total: 50.27 secs, 5.03 secs/epoch.\n",
            "CUTOFF: 5 - PRECISION: 0.0365894, RECALL: 0.0159107, MAP: 0.0198479, NDCG: 0.0206629, F1: 0.0221776, HIT_RATE: 0.1829470, RMSE: nan, \n",
            "CUTOFF: 20 - PRECISION: 0.0346523, RECALL: 0.0602565, MAP: 0.0153772, NDCG: 0.0454814, F1: 0.0440007, HIT_RATE: 0.6930464, RMSE: nan, \n",
            "\n"
          ]
        },
        {
          "name": "stderr",
          "output_type": "stream",
          "text": [
            "251it [27:24,  6.58s/it]\n"
          ]
        },
        {
          "data": {
            "text/plain": [
              "251"
            ]
          },
          "execution_count": 43,
          "metadata": {},
          "output_type": "execute_result"
        }
      ],
      "source": [
        "gan2 = GANAE(URM_train, mode='user')\n",
        "gan2.fit(num_factors=250,\n",
        "        emb_dim=461,\n",
        "        d_reg=0.0001,\n",
        "        g_reg=0,\n",
        "        epochs=250,\n",
        "        batch_size=32,\n",
        "        g_lr=0.0001,\n",
        "        d_lr=0.0001,\n",
        "        d_steps=1,\n",
        "        g_steps=1,\n",
        "        recon_coefficient=0.1728565040890659,\n",
        "        m=10,\n",
        "        allow_worse=5,\n",
        "        freq=5,\n",
        "        validation_evaluator=evaluatorValidation,\n",
        "        sample_every=10,\n",
        "        validation_set=URM_validation)"
      ]
    },
    {
      "cell_type": "code",
      "execution_count": null,
      "metadata": {
        "colab": {
          "base_uri": "https://localhost:8080/"
        },
        "id": "I-UP5awbu1R6",
        "outputId": "ed4f91cf-620e-4216-ef14-a468515d39c2"
      },
      "outputs": [
        {
          "data": {
            "text/plain": [
              "6040"
            ]
          },
          "execution_count": 44,
          "metadata": {},
          "output_type": "execute_result"
        }
      ],
      "source": [
        "num_users"
      ]
    },
    {
      "cell_type": "code",
      "execution_count": null,
      "metadata": {
        "colab": {
          "base_uri": "https://localhost:8080/"
        },
        "id": "0v26AZgwvTUZ",
        "outputId": "dfabae3d-553d-4d52-ef2d-7db1e066a622"
      },
      "outputs": [
        {
          "name": "stdout",
          "output_type": "stream",
          "text": [
            "CUTOFF: 5 - PRECISION: 0.0423510, RECALL: 0.0160711, MAP: 0.0221049, NDCG: 0.0221876, F1: 0.0233003, HIT_RATE: 0.2117550, RMSE: nan, \n",
            "CUTOFF: 10 - PRECISION: 0.0387417, RECALL: 0.0292998, MAP: 0.0163899, NDCG: 0.0316101, F1: 0.0333656, HIT_RATE: 0.3874172, RMSE: nan, \n",
            "CUTOFF: 20 - PRECISION: 0.0391142, RECALL: 0.0605958, MAP: 0.0155210, NDCG: 0.0489125, F1: 0.0475410, HIT_RATE: 0.7822848, RMSE: nan, \n",
            "CUTOFF: 50 - PRECISION: 0.0313775, RECALL: 0.1162087, MAP: 0.0171043, NDCG: 0.0736320, F1: 0.0494130, HIT_RATE: 1.5688742, RMSE: nan, \n",
            "CUTOFF: 100 - PRECISION: 0.0259768, RECALL: 0.1818541, MAP: 0.0195648, NDCG: 0.0986566, F1: 0.0454599, HIT_RATE: 2.5976821, RMSE: nan, \n",
            "\n"
          ]
        }
      ],
      "source": [
        "results_dic, results_run_string = evaluator.evaluateRecommender(gan2)\n",
        "print(results_run_string)"
      ]
    },
    {
      "cell_type": "markdown",
      "metadata": {
        "id": "1-JSoaj9iU24"
      },
      "source": [
        "infinite auto encoder"
      ]
    },
    {
      "cell_type": "code",
      "execution_count": null,
      "metadata": {
        "colab": {
          "base_uri": "https://localhost:8080/"
        },
        "id": "EaSqtxd-Sinp",
        "outputId": "e1d67718-82ff-48be-8231-309947e72d39"
      },
      "outputs": [
        {
          "name": "stderr",
          "output_type": "stream",
          "text": [
            "WARNING:jax._src.xla_bridge:No GPU/TPU found, falling back to CPU. (Set TF_CPP_MIN_LOG_LEVEL=0 and rerun for more info.)\n"
          ]
        }
      ],
      "source": [
        "train_x=ret['train_matrix']\n",
        "sample_user=jnp.array(ret['train_matrix'][ret['train_matrix'].getnnz(1)>0].todense())"
      ]
    },
    {
      "cell_type": "code",
      "execution_count": null,
      "metadata": {
        "id": "zOqB0wDHSpEx"
      },
      "outputs": [],
      "source": [
        "!pip install neural_tangents"
      ]
    },
    {
      "cell_type": "code",
      "execution_count": null,
      "metadata": {
        "id": "Jr_2-IWlSkJb"
      },
      "outputs": [],
      "source": [
        "import jax\n",
        "import functools\n",
        "from jax import scipy as sp\n",
        "from jax import numpy as jnp\n",
        "from neural_tangents import stax\n",
        "\n",
        "a,b,kernel_fn=stax.serial(stax.Flatten(),\n",
        "    stax.Dense(1024,W_std=2*0.5,b_std=0.1,parameterization='ntk'),\n",
        "    stax.Relu(),\n",
        "    stax.Dense(num_items, W_std=2*0.5, b_std=0.1, parameterization='ntk'))\n",
        "kernel_fn=functools.partial(kernel_fn,get='ntk')\n",
        "@jax.jit\n",
        "def kernelized_rr(X_train, X_predict, reg):\n",
        "    K_train = kernel_fn(X_train, X_train)\n",
        "    K_predict = kernel_fn(X_predict, X_train)\n",
        "    K_reg = (K_train + jnp.abs(reg) * jnp.trace(K_train) * jnp.eye(K_train.shape[0]) / K_train.shape[0])     \n",
        "    return jnp.dot(K_predict, sp.linalg.solve(K_reg, X_train, assume_a='pos'))"
      ]
    },
    {
      "cell_type": "code",
      "execution_count": null,
      "metadata": {
        "id": "1h1lERM9SyO3"
      },
      "outputs": [],
      "source": [
        "preds=kernelized_rr(sample_user,(ret['train_matrix']).todense(),reg=5.0)"
      ]
    },
    {
      "cell_type": "code",
      "execution_count": null,
      "metadata": {
        "colab": {
          "base_uri": "https://localhost:8080/"
        },
        "id": "G3KAkGqnS8HK",
        "outputId": "34e2c657-081f-4b17-a4b4-aafd8cc8e78e"
      },
      "outputs": [
        {
          "name": "stdout",
          "output_type": "stream",
          "text": [
            "hit rate for top @100: 58.43498829318017\n"
          ]
        }
      ],
      "source": [
        "logits=np.array(preds)\n",
        "train_positive_list = list(map(list, ret['train_positive_set']))\n",
        "for b in range(len(logits)):logits[b][train_positive_list[b]]=-float(1e6)\n",
        "indices = (-logits).argsort()[:, :100].tolist()\n",
        "hr=0\n",
        "for i in range(100):\n",
        "  for b in range(len(logits)):\n",
        "    num_pos = float(len((ret['val_positive_set']+ret['test_positive_set'])[b]))\n",
        "\n",
        "    hr += float(len(set(indices[b][:100]) &(ret['val_positive_set']+ret['test_positive_set'])[b])) / float(min(num_pos, 100))\n",
        "hr/=num_users\n",
        "print(\"hit rate for top @100:\",hr)"
      ]
    },
    {
      "cell_type": "code",
      "execution_count": null,
      "metadata": {
        "id": "qYeJYDESTHsv"
      },
      "outputs": [],
      "source": [
        "dcg,idcg=0.0,0.0\n",
        "for i in range(len(logits)):\n",
        "  for at, pred in enumerate(indices[b][:100]):\n",
        "      if pred in (ret['test_positive_set'])[b]: \n",
        "          dcg += 1.0 / np.log2(at + 2)\n",
        "      if at < num_pos: \n",
        "          idcg += 1.0 / np.log2(at + 2)"
      ]
    },
    {
      "cell_type": "code",
      "execution_count": null,
      "metadata": {
        "colab": {
          "base_uri": "https://localhost:8080/"
        },
        "id": "CbVUCRphT1OO",
        "outputId": "ca523449-0f8b-4692-b990-1548af52a4c3"
      },
      "outputs": [
        {
          "name": "stdout",
          "output_type": "stream",
          "text": [
            "ndcg @100: 0.47835283232987585\n"
          ]
        }
      ],
      "source": [
        "print('ndcg @100:',dcg/idcg)"
      ]
    },
    {
      "cell_type": "code",
      "execution_count": null,
      "metadata": {
        "colab": {
          "base_uri": "https://localhost:8080/"
        },
        "id": "S5_cBiT6T2yS",
        "outputId": "a4490093-0a7c-4466-f8a8-57b270049074"
      },
      "outputs": [
        {
          "data": {
            "text/plain": [
              "Array([[ 6.1822701e-01,  7.5850978e-02, -4.4492036e-03, ...,\n",
              "        -3.3333562e-03, -5.0569102e-03, -1.0355160e-02],\n",
              "       [ 1.8577071e-01,  1.8658340e-02,  2.4700627e-02, ...,\n",
              "        -3.3351779e-04,  4.2843632e-03,  2.5685519e-02],\n",
              "       [ 1.6359642e-01,  5.3604096e-02,  2.9977232e-02, ...,\n",
              "         2.9501319e-03,  1.1231005e-04, -1.8003672e-02],\n",
              "       ...,\n",
              "       [ 6.3653909e-02, -4.4144541e-03,  2.2865012e-03, ...,\n",
              "         1.0322370e-03, -1.4050305e-03,  1.2156427e-02],\n",
              "       [ 1.4754696e-01,  4.7182813e-02,  1.6691655e-02, ...,\n",
              "         4.1483752e-03, -7.0306063e-03,  9.4670355e-03],\n",
              "       [ 6.4318651e-01,  9.8272264e-03, -2.2913679e-02, ...,\n",
              "         2.8302886e-02,  2.7466364e-02,  7.5228065e-02]], dtype=float32)"
            ]
          },
          "execution_count": 51,
          "metadata": {},
          "output_type": "execute_result"
        }
      ],
      "source": [
        "preds"
      ]
    }
  ],
  "metadata": {
    "colab": {
      "provenance": [],
      "toc_visible": true
    },
    "gpuClass": "standard",
    "kernelspec": {
      "display_name": "Python 3",
      "name": "python3"
    },
    "language_info": {
      "name": "python"
    }
  },
  "nbformat": 4,
  "nbformat_minor": 0
}